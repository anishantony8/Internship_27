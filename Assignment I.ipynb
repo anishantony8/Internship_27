{
 "cells": [
  {
   "cell_type": "markdown",
   "id": "cdeb7713",
   "metadata": {},
   "source": [
    "# PYTHON – WORKSHEET 1"
   ]
  },
  {
   "cell_type": "code",
   "execution_count": 1,
   "id": "8c1d2870",
   "metadata": {},
   "outputs": [
    {
     "data": {
      "text/plain": [
       "1"
      ]
     },
     "execution_count": 1,
     "metadata": {},
     "output_type": "execute_result"
    }
   ],
   "source": [
    "3%2"
   ]
  },
  {
   "cell_type": "code",
   "execution_count": 2,
   "id": "448e9137",
   "metadata": {},
   "outputs": [
    {
     "data": {
      "text/plain": [
       "0.6666666666666666"
      ]
     },
     "execution_count": 2,
     "metadata": {},
     "output_type": "execute_result"
    }
   ],
   "source": [
    "2/3"
   ]
  },
  {
   "cell_type": "code",
   "execution_count": 3,
   "id": "c63f2924",
   "metadata": {},
   "outputs": [
    {
     "data": {
      "text/plain": [
       "24"
      ]
     },
     "execution_count": 3,
     "metadata": {},
     "output_type": "execute_result"
    }
   ],
   "source": [
    "6<<2 "
   ]
  },
  {
   "cell_type": "code",
   "execution_count": 1,
   "id": "119a6fc7",
   "metadata": {},
   "outputs": [
    {
     "data": {
      "text/plain": [
       "2"
      ]
     },
     "execution_count": 1,
     "metadata": {},
     "output_type": "execute_result"
    }
   ],
   "source": [
    "6&2"
   ]
  },
  {
   "cell_type": "code",
   "execution_count": 5,
   "id": "7899316c",
   "metadata": {},
   "outputs": [
    {
     "data": {
      "text/plain": [
       "6"
      ]
     },
     "execution_count": 5,
     "metadata": {},
     "output_type": "execute_result"
    }
   ],
   "source": [
    "6|2"
   ]
  },
  {
   "cell_type": "code",
   "execution_count": 19,
   "id": "5c68f501",
   "metadata": {},
   "outputs": [],
   "source": [
    "_abc = 5"
   ]
  },
  {
   "cell_type": "code",
   "execution_count": 20,
   "id": "71209566",
   "metadata": {},
   "outputs": [
    {
     "ename": "SyntaxError",
     "evalue": "invalid syntax (Temp/ipykernel_5352/874357825.py, line 1)",
     "output_type": "error",
     "traceback": [
      "\u001b[1;36m  File \u001b[1;32m\"C:\\Users\\anish\\AppData\\Local\\Temp/ipykernel_5352/874357825.py\"\u001b[1;36m, line \u001b[1;32m1\u001b[0m\n\u001b[1;33m    1abc = 8\u001b[0m\n\u001b[1;37m     ^\u001b[0m\n\u001b[1;31mSyntaxError\u001b[0m\u001b[1;31m:\u001b[0m invalid syntax\n"
     ]
    }
   ],
   "source": [
    "1abc = 8"
   ]
  },
  {
   "cell_type": "code",
   "execution_count": 21,
   "id": "3acdfd6f",
   "metadata": {},
   "outputs": [],
   "source": [
    "abc2 = 9"
   ]
  },
  {
   "cell_type": "code",
   "execution_count": 22,
   "id": "845d73df",
   "metadata": {},
   "outputs": [
    {
     "data": {
      "text/plain": [
       "9"
      ]
     },
     "execution_count": 22,
     "metadata": {},
     "output_type": "execute_result"
    }
   ],
   "source": [
    "abc2"
   ]
  },
  {
   "cell_type": "markdown",
   "id": "4829746c",
   "metadata": {},
   "source": [
    "11.Write a python program to find the factorial of a number."
   ]
  },
  {
   "cell_type": "code",
   "execution_count": 2,
   "id": "8536253e",
   "metadata": {},
   "outputs": [],
   "source": [
    "def factorial(num):\n",
    "    fac = 1\n",
    "    for i in range(1,num+1):\n",
    "        fac = fac * i\n",
    "    print('The factorial of %d is %d' %(num,fac))"
   ]
  },
  {
   "cell_type": "code",
   "execution_count": 3,
   "id": "0572674d",
   "metadata": {},
   "outputs": [
    {
     "name": "stdout",
     "output_type": "stream",
     "text": [
      "The factorial of 15 is 1307674368000\n"
     ]
    }
   ],
   "source": [
    "factorial(15)"
   ]
  },
  {
   "cell_type": "code",
   "execution_count": 423,
   "id": "c7cabdbe",
   "metadata": {},
   "outputs": [
    {
     "data": {
      "text/plain": [
       "16"
      ]
     },
     "execution_count": 423,
     "metadata": {},
     "output_type": "execute_result"
    }
   ],
   "source": [
    "33//2"
   ]
  },
  {
   "cell_type": "markdown",
   "id": "a98db08f",
   "metadata": {},
   "source": [
    "12.Write a python program to find whether a number is prime or composite."
   ]
  },
  {
   "cell_type": "code",
   "execution_count": 4,
   "id": "bb57b350",
   "metadata": {},
   "outputs": [],
   "source": [
    "def div(n):\n",
    "    k=0\n",
    "    if(n==1):\n",
    "        print('1 is neither a prime or composite number')\n",
    "    else:\n",
    "        for i in range(1,n):\n",
    "            if(n%i==0):\n",
    "                #print(i)\n",
    "                k=k+1\n",
    "        if (k>=2):\n",
    "            print('The number %d is composite'%n)\n",
    "        else:\n",
    "            print('The number %d is prime'%n)"
   ]
  },
  {
   "cell_type": "code",
   "execution_count": 6,
   "id": "533027e9",
   "metadata": {},
   "outputs": [
    {
     "name": "stdout",
     "output_type": "stream",
     "text": [
      "The number 2 is prime\n"
     ]
    }
   ],
   "source": [
    "div(2)"
   ]
  },
  {
   "cell_type": "markdown",
   "id": "05a1b060",
   "metadata": {},
   "source": [
    "13.\tWrite a python program to check whether a given string is palindrome or not."
   ]
  },
  {
   "cell_type": "code",
   "execution_count": 7,
   "id": "ff95379c",
   "metadata": {},
   "outputs": [],
   "source": [
    "def palindrome(a):\n",
    "    b = (a[::-1])\n",
    "    if (a==b):\n",
    "        print('The %s is a palindrome'%a)\n",
    "    else:\n",
    "        print('The %s is not a palindrome'%a)"
   ]
  },
  {
   "cell_type": "code",
   "execution_count": 10,
   "id": "545749cb",
   "metadata": {},
   "outputs": [
    {
     "name": "stdout",
     "output_type": "stream",
     "text": [
      "The wewew is a palindrome\n"
     ]
    }
   ],
   "source": [
    "palindrome('wewew')"
   ]
  },
  {
   "cell_type": "markdown",
   "id": "52b847fb",
   "metadata": {},
   "source": [
    "14.\tWrite a Python program to get the third side of right-angled triangle from two given sides."
   ]
  },
  {
   "cell_type": "code",
   "execution_count": 11,
   "id": "487d3b4b",
   "metadata": {},
   "outputs": [],
   "source": [
    "def triangle(base,perpendicular):\n",
    "    Hypotenuse = (base**2 + perpendicular**2)**.5\n",
    "    print('The Hypotenuse of the right angled triangle is %0.02f' %Hypotenuse)"
   ]
  },
  {
   "cell_type": "code",
   "execution_count": 12,
   "id": "f9a42f5c",
   "metadata": {},
   "outputs": [
    {
     "name": "stdout",
     "output_type": "stream",
     "text": [
      "The Hypotenuse of the right angled triangle is 5.83\n"
     ]
    }
   ],
   "source": [
    "triangle(3,5)"
   ]
  },
  {
   "cell_type": "markdown",
   "id": "1de8cab5",
   "metadata": {},
   "source": [
    "15.\tWrite a python program to print the frequency of each of the characters present in a given string"
   ]
  },
  {
   "cell_type": "code",
   "execution_count": 13,
   "id": "9ead2d27",
   "metadata": {},
   "outputs": [],
   "source": [
    "def freq(char):\n",
    "    d = dict()\n",
    "    for c in char:   \n",
    "        if c in d:\n",
    "            d[c] = d[c]+1\n",
    "        else:\n",
    "            d[c]=1\n",
    "    print(d)"
   ]
  },
  {
   "cell_type": "code",
   "execution_count": 15,
   "id": "ffbb5f03",
   "metadata": {},
   "outputs": [
    {
     "name": "stdout",
     "output_type": "stream",
     "text": [
      "{'h': 3, 'j': 3, 'k': 2}\n"
     ]
    }
   ],
   "source": [
    "freq('hjjkhkjh')"
   ]
  },
  {
   "cell_type": "code",
   "execution_count": null,
   "id": "fb801085",
   "metadata": {},
   "outputs": [],
   "source": []
  }
 ],
 "metadata": {
  "kernelspec": {
   "display_name": "Python 3 (ipykernel)",
   "language": "python",
   "name": "python3"
  },
  "language_info": {
   "codemirror_mode": {
    "name": "ipython",
    "version": 3
   },
   "file_extension": ".py",
   "mimetype": "text/x-python",
   "name": "python",
   "nbconvert_exporter": "python",
   "pygments_lexer": "ipython3",
   "version": "3.9.7"
  }
 },
 "nbformat": 4,
 "nbformat_minor": 5
}
