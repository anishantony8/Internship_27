{
 "cells": [
  {
   "cell_type": "code",
   "execution_count": 1,
   "id": "27bca391",
   "metadata": {},
   "outputs": [],
   "source": [
    "import pandas as pd"
   ]
  },
  {
   "cell_type": "code",
   "execution_count": 2,
   "id": "54c9af5e",
   "metadata": {},
   "outputs": [],
   "source": [
    "import numpy as np"
   ]
  },
  {
   "cell_type": "code",
   "execution_count": 3,
   "id": "97c43459",
   "metadata": {},
   "outputs": [],
   "source": [
    "olx = pd.read_excel('ola.xlsx')"
   ]
  },
  {
   "cell_type": "code",
   "execution_count": 4,
   "id": "abc8d208",
   "metadata": {},
   "outputs": [
    {
     "data": {
      "text/html": [
       "<div>\n",
       "<style scoped>\n",
       "    .dataframe tbody tr th:only-of-type {\n",
       "        vertical-align: middle;\n",
       "    }\n",
       "\n",
       "    .dataframe tbody tr th {\n",
       "        vertical-align: top;\n",
       "    }\n",
       "\n",
       "    .dataframe thead th {\n",
       "        text-align: right;\n",
       "    }\n",
       "</style>\n",
       "<table border=\"1\" class=\"dataframe\">\n",
       "  <thead>\n",
       "    <tr style=\"text-align: right;\">\n",
       "      <th></th>\n",
       "      <th>Unnamed: 0</th>\n",
       "      <th>0</th>\n",
       "      <th>1</th>\n",
       "      <th>2</th>\n",
       "      <th>3</th>\n",
       "      <th>4</th>\n",
       "      <th>5</th>\n",
       "    </tr>\n",
       "  </thead>\n",
       "  <tbody>\n",
       "    <tr>\n",
       "      <th>0</th>\n",
       "      <td>0</td>\n",
       "      <td>Hyundai I20 (2010)</td>\n",
       "      <td>Diesel Asta</td>\n",
       "      <td>DIESEL\\n153000.0 KM\\nMANUAL</td>\n",
       "      <td>₹ 3,40,000</td>\n",
       "      <td>['Owner', '2nd', 'Location', 'RS Puram, Coimba...</td>\n",
       "      <td>['Description', 'Vehicle in good condition. Al...</td>\n",
       "    </tr>\n",
       "    <tr>\n",
       "      <th>1</th>\n",
       "      <td>1</td>\n",
       "      <td>Volkswagen Ameo (2020)</td>\n",
       "      <td>1.5 TDI Highline Plus</td>\n",
       "      <td>DIESEL\\n31000.0 KM\\nMANUAL</td>\n",
       "      <td>₹ 8,90,000</td>\n",
       "      <td>['Owner', '1st', 'Location', 'Gandhipuram, Coi...</td>\n",
       "      <td>['Description', 'VW Ameo Highline Diesel Manua...</td>\n",
       "    </tr>\n",
       "    <tr>\n",
       "      <th>2</th>\n",
       "      <td>2</td>\n",
       "      <td>Hyundai Getz (2007)</td>\n",
       "      <td>GVS</td>\n",
       "      <td>PETROL\\n70000 KM\\nMANUAL</td>\n",
       "      <td>₹ 1,30,000</td>\n",
       "      <td>['Owner', 'Third', 'Location', 'Gandhima Nagar...</td>\n",
       "      <td>['Description', 'Make: Hyundai', 'Year: 2007',...</td>\n",
       "    </tr>\n",
       "    <tr>\n",
       "      <th>3</th>\n",
       "      <td>3</td>\n",
       "      <td>Mahindra Bolero Pik-Up (2018)</td>\n",
       "      <td>FB 1.7T</td>\n",
       "      <td>DIESEL\\n120000 KM\\nMANUAL</td>\n",
       "      <td>₹ 6,25,000</td>\n",
       "      <td>['Owner', 'First', 'Location', 'Gandhima Nagar...</td>\n",
       "      <td>['Description', 'Make: Mahindra', 'Year: 2018'...</td>\n",
       "    </tr>\n",
       "    <tr>\n",
       "      <th>4</th>\n",
       "      <td>4</td>\n",
       "      <td>Maruti Suzuki Wagon R Duo (2010)</td>\n",
       "      <td>Others</td>\n",
       "      <td>PETROL\\n118000.0 KM\\nMANUAL</td>\n",
       "      <td>₹ 2,35,000</td>\n",
       "      <td>['Owner', '2nd', 'Location', 'Sri Rajalakshmi ...</td>\n",
       "      <td>['Description', 'Good Maintenance vehicle ,Pow...</td>\n",
       "    </tr>\n",
       "  </tbody>\n",
       "</table>\n",
       "</div>"
      ],
      "text/plain": [
       "   Unnamed: 0                                 0                      1  \\\n",
       "0           0                Hyundai I20 (2010)            Diesel Asta   \n",
       "1           1            Volkswagen Ameo (2020)  1.5 TDI Highline Plus   \n",
       "2           2               Hyundai Getz (2007)                    GVS   \n",
       "3           3     Mahindra Bolero Pik-Up (2018)                FB 1.7T   \n",
       "4           4  Maruti Suzuki Wagon R Duo (2010)                 Others   \n",
       "\n",
       "                             2           3  \\\n",
       "0  DIESEL\\n153000.0 KM\\nMANUAL  ₹ 3,40,000   \n",
       "1   DIESEL\\n31000.0 KM\\nMANUAL  ₹ 8,90,000   \n",
       "2     PETROL\\n70000 KM\\nMANUAL  ₹ 1,30,000   \n",
       "3    DIESEL\\n120000 KM\\nMANUAL  ₹ 6,25,000   \n",
       "4  PETROL\\n118000.0 KM\\nMANUAL  ₹ 2,35,000   \n",
       "\n",
       "                                                   4  \\\n",
       "0  ['Owner', '2nd', 'Location', 'RS Puram, Coimba...   \n",
       "1  ['Owner', '1st', 'Location', 'Gandhipuram, Coi...   \n",
       "2  ['Owner', 'Third', 'Location', 'Gandhima Nagar...   \n",
       "3  ['Owner', 'First', 'Location', 'Gandhima Nagar...   \n",
       "4  ['Owner', '2nd', 'Location', 'Sri Rajalakshmi ...   \n",
       "\n",
       "                                                   5  \n",
       "0  ['Description', 'Vehicle in good condition. Al...  \n",
       "1  ['Description', 'VW Ameo Highline Diesel Manua...  \n",
       "2  ['Description', 'Make: Hyundai', 'Year: 2007',...  \n",
       "3  ['Description', 'Make: Mahindra', 'Year: 2018'...  \n",
       "4  ['Description', 'Good Maintenance vehicle ,Pow...  "
      ]
     },
     "execution_count": 4,
     "metadata": {},
     "output_type": "execute_result"
    }
   ],
   "source": [
    "olx.head()"
   ]
  },
  {
   "cell_type": "code",
   "execution_count": 5,
   "id": "14b6cc33",
   "metadata": {},
   "outputs": [],
   "source": [
    "columns =['Vehicle_Name', 'Registration_Year', 'Make', 'Model', 'Trim',\n",
    "       'KMs_Driven', 'No_of_Owners', 'Transmission', 'Fuel_Type', 'Body_Type',\n",
    "       'Registration', 'Mileage', 'Location', 'Selling_Price']"
   ]
  },
  {
   "cell_type": "code",
   "execution_count": 21,
   "id": "5a180b8d",
   "metadata": {},
   "outputs": [],
   "source": [
    "Vehicle_Name = olx[0].str.split('(').str[0].to_list()"
   ]
  },
  {
   "cell_type": "code",
   "execution_count": 26,
   "id": "afd61a5c",
   "metadata": {},
   "outputs": [],
   "source": [
    "Make = olx[0].str.split('(').str[0].str.split(' ').str[0].to_list()"
   ]
  },
  {
   "cell_type": "code",
   "execution_count": 55,
   "id": "849f29b2",
   "metadata": {},
   "outputs": [],
   "source": [
    "Model = olx[0].str.split('(').str[0].str.split(\" \", 1).str[1:].to_list()"
   ]
  },
  {
   "cell_type": "code",
   "execution_count": 72,
   "id": "aa08725b",
   "metadata": {},
   "outputs": [],
   "source": [
    "No_of_Owners = olx[4].str.split(\"'\").str[3].to_list()"
   ]
  },
  {
   "cell_type": "code",
   "execution_count": 107,
   "id": "8702b027",
   "metadata": {},
   "outputs": [],
   "source": [
    "Location = olx[4].str.split(\"'\").str[7].str.split(',').str[1]"
   ]
  },
  {
   "cell_type": "code",
   "execution_count": 121,
   "id": "925fe45f",
   "metadata": {},
   "outputs": [],
   "source": [
    "Fuel_Type = olx[2].str.split('\\n').str[0]"
   ]
  },
  {
   "cell_type": "code",
   "execution_count": 125,
   "id": "22e7027b",
   "metadata": {},
   "outputs": [],
   "source": [
    "KMs_Driven = olx[2].str.split('\\n').str[1].str.replace('KM','')"
   ]
  },
  {
   "cell_type": "code",
   "execution_count": 126,
   "id": "56e86f2f",
   "metadata": {},
   "outputs": [],
   "source": [
    "Transmission = olx[2].str.split('\\n').str[2]"
   ]
  },
  {
   "cell_type": "code",
   "execution_count": 131,
   "id": "6815b288",
   "metadata": {},
   "outputs": [],
   "source": [
    "Selling_Price = olx[3].str.split('₹').str[1]"
   ]
  },
  {
   "cell_type": "code",
   "execution_count": 136,
   "id": "ce77ff49",
   "metadata": {},
   "outputs": [
    {
     "name": "stderr",
     "output_type": "stream",
     "text": [
      "C:\\Users\\anish\\AppData\\Local\\Temp/ipykernel_23372/412152159.py:1: FutureWarning: The default value of regex will change from True to False in a future version. In addition, single character regular expressions will *not* be treated as literal strings when regex=True.\n",
      "  Registration_Year = olx[0].str.split('(').str[1].str.replace(')','').to_list()\n"
     ]
    }
   ],
   "source": [
    "Registration_Year = olx[0].str.split('(').str[1].str.replace(')','').to_list()"
   ]
  },
  {
   "cell_type": "code",
   "execution_count": 141,
   "id": "bcf38a05",
   "metadata": {},
   "outputs": [
    {
     "data": {
      "text/plain": [
       "216"
      ]
     },
     "execution_count": 141,
     "metadata": {},
     "output_type": "execute_result"
    }
   ],
   "source": [
    "len(olx)"
   ]
  },
  {
   "cell_type": "code",
   "execution_count": 142,
   "id": "5648694a",
   "metadata": {},
   "outputs": [],
   "source": [
    "Trim = ['Not available'] * 216"
   ]
  },
  {
   "cell_type": "code",
   "execution_count": 144,
   "id": "e4e19ab6",
   "metadata": {},
   "outputs": [],
   "source": [
    "Body_Type = ['Not available'] * 216"
   ]
  },
  {
   "cell_type": "code",
   "execution_count": 145,
   "id": "bc03d3f7",
   "metadata": {},
   "outputs": [],
   "source": [
    "Mileage = ['Not available'] * 216"
   ]
  },
  {
   "cell_type": "code",
   "execution_count": 147,
   "id": "11cffc3a",
   "metadata": {},
   "outputs": [],
   "source": [
    "Registration = ['Not available'] * 216"
   ]
  },
  {
   "cell_type": "code",
   "execution_count": 150,
   "id": "9be4e336",
   "metadata": {},
   "outputs": [],
   "source": [
    "olx_details = pd.DataFrame(zip(Vehicle_Name,Registration_Year,Make,Model,Trim,KMs_Driven,No_of_Owners,\n",
    "        Transmission,Fuel_Type,Body_Type,Registration,Mileage,Location,Selling_Price),columns=('Vehicle_Name','Registration_Year','Make','Model','Trim','KMs_Driven','No_of_Owners',\n",
    "        'Transmission','Fuel_Type','Body_Type','Registration','Mileage','Location','Selling_Price'))"
   ]
  },
  {
   "cell_type": "code",
   "execution_count": 151,
   "id": "c8c560cf",
   "metadata": {},
   "outputs": [
    {
     "data": {
      "text/html": [
       "<div>\n",
       "<style scoped>\n",
       "    .dataframe tbody tr th:only-of-type {\n",
       "        vertical-align: middle;\n",
       "    }\n",
       "\n",
       "    .dataframe tbody tr th {\n",
       "        vertical-align: top;\n",
       "    }\n",
       "\n",
       "    .dataframe thead th {\n",
       "        text-align: right;\n",
       "    }\n",
       "</style>\n",
       "<table border=\"1\" class=\"dataframe\">\n",
       "  <thead>\n",
       "    <tr style=\"text-align: right;\">\n",
       "      <th></th>\n",
       "      <th>Vehicle_Name</th>\n",
       "      <th>Registration_Year</th>\n",
       "      <th>Make</th>\n",
       "      <th>Model</th>\n",
       "      <th>Trim</th>\n",
       "      <th>KMs_Driven</th>\n",
       "      <th>No_of_Owners</th>\n",
       "      <th>Transmission</th>\n",
       "      <th>Fuel_Type</th>\n",
       "      <th>Body_Type</th>\n",
       "      <th>Registration</th>\n",
       "      <th>Mileage</th>\n",
       "      <th>Location</th>\n",
       "      <th>Selling_Price</th>\n",
       "    </tr>\n",
       "  </thead>\n",
       "  <tbody>\n",
       "    <tr>\n",
       "      <th>0</th>\n",
       "      <td>Hyundai I20</td>\n",
       "      <td>2010</td>\n",
       "      <td>Hyundai</td>\n",
       "      <td>[I20 ]</td>\n",
       "      <td>Not available</td>\n",
       "      <td>153000.0</td>\n",
       "      <td>2nd</td>\n",
       "      <td>MANUAL</td>\n",
       "      <td>DIESEL</td>\n",
       "      <td>Not available</td>\n",
       "      <td>Not available</td>\n",
       "      <td>Not available</td>\n",
       "      <td>Coimbatore</td>\n",
       "      <td>3,40,000</td>\n",
       "    </tr>\n",
       "    <tr>\n",
       "      <th>1</th>\n",
       "      <td>Volkswagen Ameo</td>\n",
       "      <td>2020</td>\n",
       "      <td>Volkswagen</td>\n",
       "      <td>[Ameo ]</td>\n",
       "      <td>Not available</td>\n",
       "      <td>31000.0</td>\n",
       "      <td>1st</td>\n",
       "      <td>MANUAL</td>\n",
       "      <td>DIESEL</td>\n",
       "      <td>Not available</td>\n",
       "      <td>Not available</td>\n",
       "      <td>Not available</td>\n",
       "      <td>Coimbatore</td>\n",
       "      <td>8,90,000</td>\n",
       "    </tr>\n",
       "    <tr>\n",
       "      <th>2</th>\n",
       "      <td>Hyundai Getz</td>\n",
       "      <td>2007</td>\n",
       "      <td>Hyundai</td>\n",
       "      <td>[Getz ]</td>\n",
       "      <td>Not available</td>\n",
       "      <td>70000</td>\n",
       "      <td>Third</td>\n",
       "      <td>MANUAL</td>\n",
       "      <td>PETROL</td>\n",
       "      <td>Not available</td>\n",
       "      <td>Not available</td>\n",
       "      <td>Not available</td>\n",
       "      <td>Coimbatore</td>\n",
       "      <td>1,30,000</td>\n",
       "    </tr>\n",
       "    <tr>\n",
       "      <th>3</th>\n",
       "      <td>Mahindra Bolero Pik-Up</td>\n",
       "      <td>2018</td>\n",
       "      <td>Mahindra</td>\n",
       "      <td>[Bolero Pik-Up ]</td>\n",
       "      <td>Not available</td>\n",
       "      <td>120000</td>\n",
       "      <td>First</td>\n",
       "      <td>MANUAL</td>\n",
       "      <td>DIESEL</td>\n",
       "      <td>Not available</td>\n",
       "      <td>Not available</td>\n",
       "      <td>Not available</td>\n",
       "      <td>Coimbatore</td>\n",
       "      <td>6,25,000</td>\n",
       "    </tr>\n",
       "    <tr>\n",
       "      <th>4</th>\n",
       "      <td>Maruti Suzuki Wagon R Duo</td>\n",
       "      <td>2010</td>\n",
       "      <td>Maruti</td>\n",
       "      <td>[Suzuki Wagon R Duo ]</td>\n",
       "      <td>Not available</td>\n",
       "      <td>118000.0</td>\n",
       "      <td>2nd</td>\n",
       "      <td>MANUAL</td>\n",
       "      <td>PETROL</td>\n",
       "      <td>Not available</td>\n",
       "      <td>Not available</td>\n",
       "      <td>Not available</td>\n",
       "      <td>Coimbatore</td>\n",
       "      <td>2,35,000</td>\n",
       "    </tr>\n",
       "    <tr>\n",
       "      <th>...</th>\n",
       "      <td>...</td>\n",
       "      <td>...</td>\n",
       "      <td>...</td>\n",
       "      <td>...</td>\n",
       "      <td>...</td>\n",
       "      <td>...</td>\n",
       "      <td>...</td>\n",
       "      <td>...</td>\n",
       "      <td>...</td>\n",
       "      <td>...</td>\n",
       "      <td>...</td>\n",
       "      <td>...</td>\n",
       "      <td>...</td>\n",
       "      <td>...</td>\n",
       "    </tr>\n",
       "    <tr>\n",
       "      <th>211</th>\n",
       "      <td>Volkswagen Jetta</td>\n",
       "      <td>2015</td>\n",
       "      <td>Volkswagen</td>\n",
       "      <td>[Jetta ]</td>\n",
       "      <td>Not available</td>\n",
       "      <td>120000.0</td>\n",
       "      <td>1st</td>\n",
       "      <td>MANUAL</td>\n",
       "      <td>PETROL</td>\n",
       "      <td>Not available</td>\n",
       "      <td>Not available</td>\n",
       "      <td>Not available</td>\n",
       "      <td>Coimbatore</td>\n",
       "      <td>6,50,000</td>\n",
       "    </tr>\n",
       "    <tr>\n",
       "      <th>212</th>\n",
       "      <td>Mahindra Xuv500</td>\n",
       "      <td>2013</td>\n",
       "      <td>Mahindra</td>\n",
       "      <td>[Xuv500 ]</td>\n",
       "      <td>Not available</td>\n",
       "      <td>999999</td>\n",
       "      <td>Second</td>\n",
       "      <td>MANUAL</td>\n",
       "      <td>DIESEL</td>\n",
       "      <td>Not available</td>\n",
       "      <td>Not available</td>\n",
       "      <td>Not available</td>\n",
       "      <td>Coimbatore</td>\n",
       "      <td>7,00,000</td>\n",
       "    </tr>\n",
       "    <tr>\n",
       "      <th>213</th>\n",
       "      <td>Maruti Suzuki Ertiga</td>\n",
       "      <td>2021</td>\n",
       "      <td>Maruti</td>\n",
       "      <td>[Suzuki Ertiga ]</td>\n",
       "      <td>Not available</td>\n",
       "      <td>20000</td>\n",
       "      <td>First</td>\n",
       "      <td>AUTOMATIC</td>\n",
       "      <td>PETROL</td>\n",
       "      <td>Not available</td>\n",
       "      <td>Not available</td>\n",
       "      <td>Not available</td>\n",
       "      <td>Coimbatore</td>\n",
       "      <td>8,00,000</td>\n",
       "    </tr>\n",
       "    <tr>\n",
       "      <th>214</th>\n",
       "      <td>Ford Figo</td>\n",
       "      <td>2011</td>\n",
       "      <td>Ford</td>\n",
       "      <td>[Figo ]</td>\n",
       "      <td>Not available</td>\n",
       "      <td>114000.0</td>\n",
       "      <td>1st</td>\n",
       "      <td>MANUAL</td>\n",
       "      <td>DIESEL</td>\n",
       "      <td>Not available</td>\n",
       "      <td>Not available</td>\n",
       "      <td>Not available</td>\n",
       "      <td>Coimbatore</td>\n",
       "      <td>2,25,000</td>\n",
       "    </tr>\n",
       "    <tr>\n",
       "      <th>215</th>\n",
       "      <td>Honda Accord</td>\n",
       "      <td>2010</td>\n",
       "      <td>Honda</td>\n",
       "      <td>[Accord ]</td>\n",
       "      <td>Not available</td>\n",
       "      <td>65700.0</td>\n",
       "      <td>1st</td>\n",
       "      <td>MANUAL</td>\n",
       "      <td>PETROL</td>\n",
       "      <td>Not available</td>\n",
       "      <td>Not available</td>\n",
       "      <td>Not available</td>\n",
       "      <td>Coimbatore</td>\n",
       "      <td>5,90,000</td>\n",
       "    </tr>\n",
       "  </tbody>\n",
       "</table>\n",
       "<p>216 rows × 14 columns</p>\n",
       "</div>"
      ],
      "text/plain": [
       "                   Vehicle_Name Registration_Year        Make  \\\n",
       "0                  Hyundai I20               2010     Hyundai   \n",
       "1              Volkswagen Ameo               2020  Volkswagen   \n",
       "2                 Hyundai Getz               2007     Hyundai   \n",
       "3       Mahindra Bolero Pik-Up               2018    Mahindra   \n",
       "4    Maruti Suzuki Wagon R Duo               2010      Maruti   \n",
       "..                          ...               ...         ...   \n",
       "211           Volkswagen Jetta               2015  Volkswagen   \n",
       "212            Mahindra Xuv500               2013    Mahindra   \n",
       "213       Maruti Suzuki Ertiga               2021      Maruti   \n",
       "214                  Ford Figo               2011        Ford   \n",
       "215               Honda Accord               2010       Honda   \n",
       "\n",
       "                     Model           Trim KMs_Driven No_of_Owners  \\\n",
       "0                   [I20 ]  Not available  153000.0           2nd   \n",
       "1                  [Ameo ]  Not available   31000.0           1st   \n",
       "2                  [Getz ]  Not available     70000         Third   \n",
       "3         [Bolero Pik-Up ]  Not available    120000         First   \n",
       "4    [Suzuki Wagon R Duo ]  Not available  118000.0           2nd   \n",
       "..                     ...            ...        ...          ...   \n",
       "211               [Jetta ]  Not available  120000.0           1st   \n",
       "212              [Xuv500 ]  Not available    999999        Second   \n",
       "213       [Suzuki Ertiga ]  Not available     20000         First   \n",
       "214                [Figo ]  Not available  114000.0           1st   \n",
       "215              [Accord ]  Not available   65700.0           1st   \n",
       "\n",
       "    Transmission Fuel_Type      Body_Type   Registration        Mileage  \\\n",
       "0         MANUAL    DIESEL  Not available  Not available  Not available   \n",
       "1         MANUAL    DIESEL  Not available  Not available  Not available   \n",
       "2         MANUAL    PETROL  Not available  Not available  Not available   \n",
       "3         MANUAL    DIESEL  Not available  Not available  Not available   \n",
       "4         MANUAL    PETROL  Not available  Not available  Not available   \n",
       "..           ...       ...            ...            ...            ...   \n",
       "211       MANUAL    PETROL  Not available  Not available  Not available   \n",
       "212       MANUAL    DIESEL  Not available  Not available  Not available   \n",
       "213    AUTOMATIC    PETROL  Not available  Not available  Not available   \n",
       "214       MANUAL    DIESEL  Not available  Not available  Not available   \n",
       "215       MANUAL    PETROL  Not available  Not available  Not available   \n",
       "\n",
       "        Location Selling_Price  \n",
       "0     Coimbatore      3,40,000  \n",
       "1     Coimbatore      8,90,000  \n",
       "2     Coimbatore      1,30,000  \n",
       "3     Coimbatore      6,25,000  \n",
       "4     Coimbatore      2,35,000  \n",
       "..           ...           ...  \n",
       "211   Coimbatore      6,50,000  \n",
       "212   Coimbatore      7,00,000  \n",
       "213   Coimbatore      8,00,000  \n",
       "214   Coimbatore      2,25,000  \n",
       "215   Coimbatore      5,90,000  \n",
       "\n",
       "[216 rows x 14 columns]"
      ]
     },
     "execution_count": 151,
     "metadata": {},
     "output_type": "execute_result"
    }
   ],
   "source": [
    "olx_details"
   ]
  },
  {
   "cell_type": "code",
   "execution_count": 152,
   "id": "8a751682",
   "metadata": {},
   "outputs": [],
   "source": [
    "olx_details.to_excel('olx_details.xlsx')"
   ]
  },
  {
   "cell_type": "code",
   "execution_count": null,
   "id": "77b0e44e",
   "metadata": {},
   "outputs": [],
   "source": [
    "columns =['Vehicle_Name', 'Registration_Year', 'Make', 'Model', 'Trim',\n",
    "       'KMs_Driven', 'No_of_Owners', 'Transmission', 'Fuel_Type', 'Body_Type',\n",
    "       'Registration', 'Mileage', 'Location', 'Selling_Price']"
   ]
  }
 ],
 "metadata": {
  "kernelspec": {
   "display_name": "Python 3 (ipykernel)",
   "language": "python",
   "name": "python3"
  },
  "language_info": {
   "codemirror_mode": {
    "name": "ipython",
    "version": 3
   },
   "file_extension": ".py",
   "mimetype": "text/x-python",
   "name": "python",
   "nbconvert_exporter": "python",
   "pygments_lexer": "ipython3",
   "version": "3.9.7"
  }
 },
 "nbformat": 4,
 "nbformat_minor": 5
}
