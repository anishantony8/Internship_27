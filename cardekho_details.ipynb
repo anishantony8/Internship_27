{
 "cells": [
  {
   "cell_type": "code",
   "execution_count": 8,
   "id": "a34f0e13",
   "metadata": {},
   "outputs": [],
   "source": [
    "import pandas as pd\n",
    "import re"
   ]
  },
  {
   "cell_type": "code",
   "execution_count": 2,
   "id": "725b8def",
   "metadata": {},
   "outputs": [],
   "source": [
    "cardekho = pd.read_excel('cardekho.xlsx')"
   ]
  },
  {
   "cell_type": "code",
   "execution_count": 173,
   "id": "e0833f61",
   "metadata": {},
   "outputs": [
    {
     "data": {
      "text/plain": [
       "(283, 4)"
      ]
     },
     "execution_count": 173,
     "metadata": {},
     "output_type": "execute_result"
    }
   ],
   "source": [
    "cardekho.shape"
   ]
  },
  {
   "cell_type": "code",
   "execution_count": 3,
   "id": "4ee2b89a",
   "metadata": {},
   "outputs": [
    {
     "data": {
      "text/html": [
       "<div>\n",
       "<style scoped>\n",
       "    .dataframe tbody tr th:only-of-type {\n",
       "        vertical-align: middle;\n",
       "    }\n",
       "\n",
       "    .dataframe tbody tr th {\n",
       "        vertical-align: top;\n",
       "    }\n",
       "\n",
       "    .dataframe thead th {\n",
       "        text-align: right;\n",
       "    }\n",
       "</style>\n",
       "<table border=\"1\" class=\"dataframe\">\n",
       "  <thead>\n",
       "    <tr style=\"text-align: right;\">\n",
       "      <th></th>\n",
       "      <th>Unnamed: 0</th>\n",
       "      <th>0</th>\n",
       "      <th>1</th>\n",
       "      <th>2</th>\n",
       "    </tr>\n",
       "  </thead>\n",
       "  <tbody>\n",
       "    <tr>\n",
       "      <th>0</th>\n",
       "      <td>0</td>\n",
       "      <td>['2014Audi A6 2.0 Tdi Premium Plus', 'Rs.18.50...</td>\n",
       "      <td>['Mileage', '17.68 kmpl', 'Engine', '1968 CC',...</td>\n",
       "      <td>['General details', '2015', 'Dealer', '95,000 ...</td>\n",
       "    </tr>\n",
       "    <tr>\n",
       "      <th>1</th>\n",
       "      <td>1</td>\n",
       "      <td>['2018Maruti Celerio Zxi Mt Bsiv', 'Rs.5.40 La...</td>\n",
       "      <td>['Mileage', '23.1 kmpl', 'Engine', '998 CC', '...</td>\n",
       "      <td>['General details', '2018', 'Dealer', '25,020 ...</td>\n",
       "    </tr>\n",
       "    <tr>\n",
       "      <th>2</th>\n",
       "      <td>2</td>\n",
       "      <td>['2013Volkswagen Vento Diesel Highline', 'Rs.5...</td>\n",
       "      <td>['Mileage', '20.54 kmpl', 'Engine', '1598 CC',...</td>\n",
       "      <td>['General details', '2013', 'Dealer', '1,61,80...</td>\n",
       "    </tr>\n",
       "    <tr>\n",
       "      <th>3</th>\n",
       "      <td>3</td>\n",
       "      <td>['2016Maruti Baleno 1.2 Zeta', 'Rs.6.50 Lakh*'...</td>\n",
       "      <td>['Mileage', '21.4 kmpl', 'Engine', '1197 CC', ...</td>\n",
       "      <td>['General details', '2016', 'Dealer', '62,950 ...</td>\n",
       "    </tr>\n",
       "    <tr>\n",
       "      <th>4</th>\n",
       "      <td>4</td>\n",
       "      <td>['2021Jeep Compass Model S 4x4 Diesel At', 'Rs...</td>\n",
       "      <td>['Mileage', '14.9 kmpl', 'Engine', '1956 CC', ...</td>\n",
       "      <td>['General details', '2021', 'Dealer', '39,850 ...</td>\n",
       "    </tr>\n",
       "  </tbody>\n",
       "</table>\n",
       "</div>"
      ],
      "text/plain": [
       "   Unnamed: 0                                                  0  \\\n",
       "0           0  ['2014Audi A6 2.0 Tdi Premium Plus', 'Rs.18.50...   \n",
       "1           1  ['2018Maruti Celerio Zxi Mt Bsiv', 'Rs.5.40 La...   \n",
       "2           2  ['2013Volkswagen Vento Diesel Highline', 'Rs.5...   \n",
       "3           3  ['2016Maruti Baleno 1.2 Zeta', 'Rs.6.50 Lakh*'...   \n",
       "4           4  ['2021Jeep Compass Model S 4x4 Diesel At', 'Rs...   \n",
       "\n",
       "                                                   1  \\\n",
       "0  ['Mileage', '17.68 kmpl', 'Engine', '1968 CC',...   \n",
       "1  ['Mileage', '23.1 kmpl', 'Engine', '998 CC', '...   \n",
       "2  ['Mileage', '20.54 kmpl', 'Engine', '1598 CC',...   \n",
       "3  ['Mileage', '21.4 kmpl', 'Engine', '1197 CC', ...   \n",
       "4  ['Mileage', '14.9 kmpl', 'Engine', '1956 CC', ...   \n",
       "\n",
       "                                                   2  \n",
       "0  ['General details', '2015', 'Dealer', '95,000 ...  \n",
       "1  ['General details', '2018', 'Dealer', '25,020 ...  \n",
       "2  ['General details', '2013', 'Dealer', '1,61,80...  \n",
       "3  ['General details', '2016', 'Dealer', '62,950 ...  \n",
       "4  ['General details', '2021', 'Dealer', '39,850 ...  "
      ]
     },
     "execution_count": 3,
     "metadata": {},
     "output_type": "execute_result"
    }
   ],
   "source": [
    "cardekho.head()"
   ]
  },
  {
   "cell_type": "code",
   "execution_count": 119,
   "id": "314109cc",
   "metadata": {},
   "outputs": [
    {
     "data": {
      "text/plain": [
       "\"['2014Audi A6 2.0 Tdi Premium Plus', 'Rs.18.50 Lakh*', 'EMI starts @ Rs. 45,918 per month* Customize New Car (On-Road Price) : Rs.  42.38-63.13 Lakh*', 'View Seller Details', 'Chat']\""
      ]
     },
     "execution_count": 119,
     "metadata": {},
     "output_type": "execute_result"
    }
   ],
   "source": [
    "cardekho[0][0]"
   ]
  },
  {
   "cell_type": "code",
   "execution_count": null,
   "id": "87466c9d",
   "metadata": {},
   "outputs": [],
   "source": [
    "columns =['Vehicle_Name', 'Registration_Year', 'Make', 'Model', 'Trim',\n",
    "       'KMs_Driven', 'No_of_Owners', 'Transmission', 'Fuel_Type', 'Body_Type',\n",
    "       'Registration', 'Mileage', 'Location', 'Selling_Price']"
   ]
  },
  {
   "cell_type": "code",
   "execution_count": 57,
   "id": "451c2e6b",
   "metadata": {},
   "outputs": [],
   "source": [
    "Registration_Year = cardekho[0].str.split(\"'\").str[1].str.split(' ').str[0].str.slice(0, 4).to_list()"
   ]
  },
  {
   "cell_type": "code",
   "execution_count": 63,
   "id": "42cb7026",
   "metadata": {},
   "outputs": [],
   "source": [
    "Make = cardekho[0].str.split(\"'\").str[1].str.split(' ').str[0].str[4:].to_list()"
   ]
  },
  {
   "cell_type": "code",
   "execution_count": 72,
   "id": "280bbfda",
   "metadata": {},
   "outputs": [],
   "source": [
    "Model = cardekho[0].str.split(\"'\").str[1].str.split(\" \", 1).str[1].to_list()"
   ]
  },
  {
   "cell_type": "code",
   "execution_count": 81,
   "id": "497eb8a4",
   "metadata": {},
   "outputs": [],
   "source": [
    "Vehicle_Name = cardekho[0].str.split(\"'\").str[1].str[4:].to_list()"
   ]
  },
  {
   "cell_type": "code",
   "execution_count": 90,
   "id": "7914f60c",
   "metadata": {},
   "outputs": [],
   "source": [
    "Mileage = cardekho[1].str.split(\"'\").str[3].str.replace(' kmpl','').to_list()"
   ]
  },
  {
   "cell_type": "code",
   "execution_count": 92,
   "id": "67263995",
   "metadata": {},
   "outputs": [
    {
     "data": {
      "text/plain": [
       "\"['General details', '2015', 'Dealer', '95,000 Kms', 'Second Owner', 'Diesel', 'Automatic', 'Active', 'TN39']\""
      ]
     },
     "execution_count": 92,
     "metadata": {},
     "output_type": "execute_result"
    }
   ],
   "source": [
    "cardekho[2][0]"
   ]
  },
  {
   "cell_type": "code",
   "execution_count": 103,
   "id": "57f565a5",
   "metadata": {},
   "outputs": [],
   "source": [
    "KMs_Driven = cardekho[2].str.split(\"'\").str[7].str.replace(' Kms','').to_list()"
   ]
  },
  {
   "cell_type": "code",
   "execution_count": 108,
   "id": "ae87e755",
   "metadata": {},
   "outputs": [],
   "source": [
    "No_of_Owners = cardekho[2].str.split(\"'\").str[9].str.replace(' Owner','').to_list()"
   ]
  },
  {
   "cell_type": "code",
   "execution_count": 110,
   "id": "12e967d1",
   "metadata": {},
   "outputs": [],
   "source": [
    "Fuel_Type = cardekho[2].str.split(\"'\").str[11].to_list()"
   ]
  },
  {
   "cell_type": "code",
   "execution_count": 113,
   "id": "3892213c",
   "metadata": {},
   "outputs": [],
   "source": [
    "Transmission = cardekho[2].str.split(\"'\").str[13].to_list()"
   ]
  },
  {
   "cell_type": "code",
   "execution_count": 116,
   "id": "d7250d73",
   "metadata": {},
   "outputs": [],
   "source": [
    "Registration = cardekho[2].str.split(\"'\").str[17].to_list()"
   ]
  },
  {
   "cell_type": "code",
   "execution_count": 148,
   "id": "25f5469d",
   "metadata": {},
   "outputs": [
    {
     "name": "stderr",
     "output_type": "stream",
     "text": [
      "C:\\Users\\anish\\AppData\\Local\\Temp/ipykernel_24548/2892267.py:1: FutureWarning: The default value of regex will change from True to False in a future version.\n",
      "  a = cardekho[0].str.split(\"'\").str[3].str.replace('Rs.','').str.replace(' Lakh*','').str.replace('*','').to_list()\n",
      "C:\\Users\\anish\\AppData\\Local\\Temp/ipykernel_24548/2892267.py:1: FutureWarning: The default value of regex will change from True to False in a future version. In addition, single character regular expressions will *not* be treated as literal strings when regex=True.\n",
      "  a = cardekho[0].str.split(\"'\").str[3].str.replace('Rs.','').str.replace(' Lakh*','').str.replace('*','').to_list()\n"
     ]
    }
   ],
   "source": [
    "a = cardekho[0].str.split(\"'\").str[3].str.replace('Rs.','').str.replace(' Lakh*','').str.replace('*','').to_list()"
   ]
  },
  {
   "cell_type": "code",
   "execution_count": 171,
   "id": "a47a7b5b",
   "metadata": {},
   "outputs": [],
   "source": [
    "Selling_Price=[]\n",
    "for i in a:\n",
    "    try:\n",
    "        Selling_Price.append(float(i)*100000)\n",
    "    except ValueError:\n",
    "        Selling_Price.append(i)"
   ]
  },
  {
   "cell_type": "code",
   "execution_count": 174,
   "id": "b81464b1",
   "metadata": {},
   "outputs": [],
   "source": [
    "Location = ['Coimbatore'] * 283"
   ]
  },
  {
   "cell_type": "code",
   "execution_count": 175,
   "id": "d284776a",
   "metadata": {},
   "outputs": [],
   "source": [
    "Trim = ['Not available'] * 283"
   ]
  },
  {
   "cell_type": "code",
   "execution_count": 176,
   "id": "8169fa96",
   "metadata": {},
   "outputs": [],
   "source": [
    "Body_Type = ['Not available'] * 283"
   ]
  },
  {
   "cell_type": "code",
   "execution_count": 177,
   "id": "c96525d3",
   "metadata": {},
   "outputs": [],
   "source": [
    "cardekho_details = pd.DataFrame(zip(Vehicle_Name,Registration_Year,Make,Model,Trim,KMs_Driven,No_of_Owners,\n",
    "        Transmission,Fuel_Type,Body_Type,Registration,Mileage,Location,Selling_Price),columns=('Vehicle_Name','Registration_Year','Make','Model','Trim','KMs_Driven','No_of_Owners',\n",
    "        'Transmission','Fuel_Type','Body_Type','Registration','Mileage','Location','Selling_Price'))"
   ]
  },
  {
   "cell_type": "code",
   "execution_count": 178,
   "id": "0efdbb50",
   "metadata": {
    "scrolled": true
   },
   "outputs": [
    {
     "data": {
      "text/html": [
       "<div>\n",
       "<style scoped>\n",
       "    .dataframe tbody tr th:only-of-type {\n",
       "        vertical-align: middle;\n",
       "    }\n",
       "\n",
       "    .dataframe tbody tr th {\n",
       "        vertical-align: top;\n",
       "    }\n",
       "\n",
       "    .dataframe thead th {\n",
       "        text-align: right;\n",
       "    }\n",
       "</style>\n",
       "<table border=\"1\" class=\"dataframe\">\n",
       "  <thead>\n",
       "    <tr style=\"text-align: right;\">\n",
       "      <th></th>\n",
       "      <th>Vehicle_Name</th>\n",
       "      <th>Registration_Year</th>\n",
       "      <th>Make</th>\n",
       "      <th>Model</th>\n",
       "      <th>Trim</th>\n",
       "      <th>KMs_Driven</th>\n",
       "      <th>No_of_Owners</th>\n",
       "      <th>Transmission</th>\n",
       "      <th>Fuel_Type</th>\n",
       "      <th>Body_Type</th>\n",
       "      <th>Registration</th>\n",
       "      <th>Mileage</th>\n",
       "      <th>Location</th>\n",
       "      <th>Selling_Price</th>\n",
       "    </tr>\n",
       "  </thead>\n",
       "  <tbody>\n",
       "    <tr>\n",
       "      <th>0</th>\n",
       "      <td>Audi A6 2.0 Tdi Premium Plus</td>\n",
       "      <td>2014</td>\n",
       "      <td>Audi</td>\n",
       "      <td>A6 2.0 Tdi Premium Plus</td>\n",
       "      <td>Not available</td>\n",
       "      <td>95,000</td>\n",
       "      <td>Second</td>\n",
       "      <td>Automatic</td>\n",
       "      <td>Diesel</td>\n",
       "      <td>Not available</td>\n",
       "      <td>TN39</td>\n",
       "      <td>17.68</td>\n",
       "      <td>Coimbatore</td>\n",
       "      <td>1850000.0</td>\n",
       "    </tr>\n",
       "    <tr>\n",
       "      <th>1</th>\n",
       "      <td>Maruti Celerio Zxi Mt Bsiv</td>\n",
       "      <td>2018</td>\n",
       "      <td>Maruti</td>\n",
       "      <td>Celerio Zxi Mt Bsiv</td>\n",
       "      <td>Not available</td>\n",
       "      <td>25,020</td>\n",
       "      <td>First</td>\n",
       "      <td>Manual</td>\n",
       "      <td>Petrol</td>\n",
       "      <td>Not available</td>\n",
       "      <td>TN45</td>\n",
       "      <td>23.1</td>\n",
       "      <td>Coimbatore</td>\n",
       "      <td>540000.0</td>\n",
       "    </tr>\n",
       "    <tr>\n",
       "      <th>2</th>\n",
       "      <td>Volkswagen Vento Diesel Highline</td>\n",
       "      <td>2013</td>\n",
       "      <td>Volkswagen</td>\n",
       "      <td>Vento Diesel Highline</td>\n",
       "      <td>Not available</td>\n",
       "      <td>1,61,800</td>\n",
       "      <td>First</td>\n",
       "      <td>Manual</td>\n",
       "      <td>Diesel</td>\n",
       "      <td>Not available</td>\n",
       "      <td>TN33</td>\n",
       "      <td>20.54</td>\n",
       "      <td>Coimbatore</td>\n",
       "      <td>550000.0</td>\n",
       "    </tr>\n",
       "    <tr>\n",
       "      <th>3</th>\n",
       "      <td>Maruti Baleno 1.2 Zeta</td>\n",
       "      <td>2016</td>\n",
       "      <td>Maruti</td>\n",
       "      <td>Baleno 1.2 Zeta</td>\n",
       "      <td>Not available</td>\n",
       "      <td>62,950</td>\n",
       "      <td>First</td>\n",
       "      <td>Manual</td>\n",
       "      <td>Petrol</td>\n",
       "      <td>Not available</td>\n",
       "      <td>TN58</td>\n",
       "      <td>21.4</td>\n",
       "      <td>Coimbatore</td>\n",
       "      <td>650000.0</td>\n",
       "    </tr>\n",
       "    <tr>\n",
       "      <th>4</th>\n",
       "      <td>Jeep Compass Model S 4x4 Diesel At</td>\n",
       "      <td>2021</td>\n",
       "      <td>Jeep</td>\n",
       "      <td>Compass Model S 4x4 Diesel At</td>\n",
       "      <td>Not available</td>\n",
       "      <td>39,850</td>\n",
       "      <td>First</td>\n",
       "      <td>Automatic</td>\n",
       "      <td>Diesel</td>\n",
       "      <td>Not available</td>\n",
       "      <td>TN39</td>\n",
       "      <td>14.9</td>\n",
       "      <td>Coimbatore</td>\n",
       "      <td>3150000.0</td>\n",
       "    </tr>\n",
       "    <tr>\n",
       "      <th>...</th>\n",
       "      <td>...</td>\n",
       "      <td>...</td>\n",
       "      <td>...</td>\n",
       "      <td>...</td>\n",
       "      <td>...</td>\n",
       "      <td>...</td>\n",
       "      <td>...</td>\n",
       "      <td>...</td>\n",
       "      <td>...</td>\n",
       "      <td>...</td>\n",
       "      <td>...</td>\n",
       "      <td>...</td>\n",
       "      <td>...</td>\n",
       "      <td>...</td>\n",
       "    </tr>\n",
       "    <tr>\n",
       "      <th>278</th>\n",
       "      <td>Maruti Omni 5 Str Std Lpg</td>\n",
       "      <td>2002</td>\n",
       "      <td>Maruti</td>\n",
       "      <td>Omni 5 Str Std Lpg</td>\n",
       "      <td>Not available</td>\n",
       "      <td>91,760</td>\n",
       "      <td>Second</td>\n",
       "      <td>Automatic</td>\n",
       "      <td>Petrol</td>\n",
       "      <td>Not available</td>\n",
       "      <td>TN06</td>\n",
       "      <td>14.4</td>\n",
       "      <td>Coimbatore</td>\n",
       "      <td>110000.0</td>\n",
       "    </tr>\n",
       "    <tr>\n",
       "      <th>279</th>\n",
       "      <td>Volkswagen Vento Petrol Highline At</td>\n",
       "      <td>2014</td>\n",
       "      <td>Volkswagen</td>\n",
       "      <td>Vento Petrol Highline At</td>\n",
       "      <td>Not available</td>\n",
       "      <td>1,22,500</td>\n",
       "      <td>First</td>\n",
       "      <td>Manual</td>\n",
       "      <td>Diesel</td>\n",
       "      <td>Not available</td>\n",
       "      <td>N/A</td>\n",
       "      <td>19.2</td>\n",
       "      <td>Coimbatore</td>\n",
       "      <td>590000.0</td>\n",
       "    </tr>\n",
       "    <tr>\n",
       "      <th>280</th>\n",
       "      <td>Mahindra Logan Diesel 1.5 Dlx</td>\n",
       "      <td>2010</td>\n",
       "      <td>Mahindra</td>\n",
       "      <td>Logan Diesel 1.5 Dlx</td>\n",
       "      <td>Not available</td>\n",
       "      <td>1,20,000</td>\n",
       "      <td>First</td>\n",
       "      <td>Manual</td>\n",
       "      <td>Diesel</td>\n",
       "      <td>Not available</td>\n",
       "      <td>N/A</td>\n",
       "      <td>20.45</td>\n",
       "      <td>Coimbatore</td>\n",
       "      <td>220000.0</td>\n",
       "    </tr>\n",
       "    <tr>\n",
       "      <th>281</th>\n",
       "      <td>Nissan Terrano Xl 85 Ps</td>\n",
       "      <td>2015</td>\n",
       "      <td>Nissan</td>\n",
       "      <td>Terrano Xl 85 Ps</td>\n",
       "      <td>Not available</td>\n",
       "      <td>85,000</td>\n",
       "      <td>First</td>\n",
       "      <td>Manual</td>\n",
       "      <td>Petrol</td>\n",
       "      <td>Not available</td>\n",
       "      <td>N/A</td>\n",
       "      <td>24.7</td>\n",
       "      <td>Coimbatore</td>\n",
       "      <td>600000.0</td>\n",
       "    </tr>\n",
       "    <tr>\n",
       "      <th>282</th>\n",
       "      <td>Maruti Alto 800 Tour H</td>\n",
       "      <td>2019</td>\n",
       "      <td>Maruti</td>\n",
       "      <td>Alto 800 Tour H</td>\n",
       "      <td>Not available</td>\n",
       "      <td>1,42,000</td>\n",
       "      <td>Third</td>\n",
       "      <td>Manual</td>\n",
       "      <td>Diesel</td>\n",
       "      <td>Not available</td>\n",
       "      <td>N/A</td>\n",
       "      <td>12.8</td>\n",
       "      <td>Coimbatore</td>\n",
       "      <td>290000.0</td>\n",
       "    </tr>\n",
       "  </tbody>\n",
       "</table>\n",
       "<p>283 rows × 14 columns</p>\n",
       "</div>"
      ],
      "text/plain": [
       "                            Vehicle_Name Registration_Year        Make  \\\n",
       "0           Audi A6 2.0 Tdi Premium Plus              2014        Audi   \n",
       "1             Maruti Celerio Zxi Mt Bsiv              2018      Maruti   \n",
       "2       Volkswagen Vento Diesel Highline              2013  Volkswagen   \n",
       "3                 Maruti Baleno 1.2 Zeta              2016      Maruti   \n",
       "4     Jeep Compass Model S 4x4 Diesel At              2021        Jeep   \n",
       "..                                   ...               ...         ...   \n",
       "278            Maruti Omni 5 Str Std Lpg              2002      Maruti   \n",
       "279  Volkswagen Vento Petrol Highline At              2014  Volkswagen   \n",
       "280        Mahindra Logan Diesel 1.5 Dlx              2010    Mahindra   \n",
       "281              Nissan Terrano Xl 85 Ps              2015      Nissan   \n",
       "282               Maruti Alto 800 Tour H              2019      Maruti   \n",
       "\n",
       "                             Model           Trim KMs_Driven No_of_Owners  \\\n",
       "0          A6 2.0 Tdi Premium Plus  Not available     95,000       Second   \n",
       "1              Celerio Zxi Mt Bsiv  Not available     25,020        First   \n",
       "2            Vento Diesel Highline  Not available   1,61,800        First   \n",
       "3                  Baleno 1.2 Zeta  Not available     62,950        First   \n",
       "4    Compass Model S 4x4 Diesel At  Not available     39,850        First   \n",
       "..                             ...            ...        ...          ...   \n",
       "278             Omni 5 Str Std Lpg  Not available     91,760       Second   \n",
       "279       Vento Petrol Highline At  Not available   1,22,500        First   \n",
       "280           Logan Diesel 1.5 Dlx  Not available   1,20,000        First   \n",
       "281               Terrano Xl 85 Ps  Not available     85,000        First   \n",
       "282                Alto 800 Tour H  Not available   1,42,000        Third   \n",
       "\n",
       "    Transmission Fuel_Type      Body_Type Registration Mileage    Location  \\\n",
       "0      Automatic    Diesel  Not available         TN39   17.68  Coimbatore   \n",
       "1         Manual    Petrol  Not available         TN45    23.1  Coimbatore   \n",
       "2         Manual    Diesel  Not available         TN33   20.54  Coimbatore   \n",
       "3         Manual    Petrol  Not available         TN58    21.4  Coimbatore   \n",
       "4      Automatic    Diesel  Not available         TN39    14.9  Coimbatore   \n",
       "..           ...       ...            ...          ...     ...         ...   \n",
       "278    Automatic    Petrol  Not available         TN06    14.4  Coimbatore   \n",
       "279       Manual    Diesel  Not available          N/A    19.2  Coimbatore   \n",
       "280       Manual    Diesel  Not available          N/A   20.45  Coimbatore   \n",
       "281       Manual    Petrol  Not available          N/A    24.7  Coimbatore   \n",
       "282       Manual    Diesel  Not available          N/A    12.8  Coimbatore   \n",
       "\n",
       "    Selling_Price  \n",
       "0       1850000.0  \n",
       "1        540000.0  \n",
       "2        550000.0  \n",
       "3        650000.0  \n",
       "4       3150000.0  \n",
       "..            ...  \n",
       "278      110000.0  \n",
       "279      590000.0  \n",
       "280      220000.0  \n",
       "281      600000.0  \n",
       "282      290000.0  \n",
       "\n",
       "[283 rows x 14 columns]"
      ]
     },
     "execution_count": 178,
     "metadata": {},
     "output_type": "execute_result"
    }
   ],
   "source": [
    "cardekho_details"
   ]
  },
  {
   "cell_type": "code",
   "execution_count": 179,
   "id": "91ef51ff",
   "metadata": {},
   "outputs": [],
   "source": [
    "cardekho_details.to_excel('cardekho_details.xlsx')"
   ]
  },
  {
   "cell_type": "code",
   "execution_count": null,
   "id": "0217e6dd",
   "metadata": {},
   "outputs": [],
   "source": []
  }
 ],
 "metadata": {
  "kernelspec": {
   "display_name": "Python 3 (ipykernel)",
   "language": "python",
   "name": "python3"
  },
  "language_info": {
   "codemirror_mode": {
    "name": "ipython",
    "version": 3
   },
   "file_extension": ".py",
   "mimetype": "text/x-python",
   "name": "python",
   "nbconvert_exporter": "python",
   "pygments_lexer": "ipython3",
   "version": "3.9.7"
  }
 },
 "nbformat": 4,
 "nbformat_minor": 5
}
