{
 "cells": [
  {
   "cell_type": "markdown",
   "id": "84cb411b",
   "metadata": {},
   "source": [
    "1. Write a python program which searches all the product under a particular product from www.amazon.in. The product to be searched will be taken as input from user. For e.g. If user input is ‘guitar’. Then search for guitars.\n",
    "2. In the above question, now scrape the following details of each product listed in first 3 pages of your search results and save it in a data frame and csv. In case if any product has less than 3 pages in search results then scrape all the products available under that product name. Details to be scraped are: \"Brand Name\", \"Name of the Product\", \"Price\", \"Return/Exchange\", \"Expected Delivery\", \"Availability\" and “Product URL”. In case, if any of the details are missing for any of the product then replace it by “-“."
   ]
  },
  {
   "cell_type": "code",
   "execution_count": 17,
   "id": "297aab76",
   "metadata": {},
   "outputs": [
    {
     "name": "stderr",
     "output_type": "stream",
     "text": [
      "C:\\Users\\anish\\AppData\\Local\\Temp/ipykernel_11936/243623676.py:7: DeprecationWarning: executable_path has been deprecated, please pass in a Service object\n",
      "  driver = wb.Chrome('chromedriver.exe')\n"
     ]
    },
    {
     "name": "stdout",
     "output_type": "stream",
     "text": [
      "Enter the search text:guitar\n"
     ]
    },
    {
     "name": "stderr",
     "output_type": "stream",
     "text": [
      "C:\\Users\\anish\\AppData\\Local\\Temp/ipykernel_11936/243623676.py:22: DeprecationWarning: executable_path has been deprecated, please pass in a Service object\n",
      "  driver = wb.Chrome('chromedriver.exe')\n",
      "C:\\Users\\anish\\AppData\\Local\\Temp/ipykernel_11936/243623676.py:26: DeprecationWarning: find_elements_by_xpath is deprecated. Please use find_elements(by=By.XPATH, value=xpath) instead\n",
      "  for i in driver.find_elements_by_xpath('//a[@class=\"a-link-normal s-underline-text s-underline-link-text s-link-style a-text-normal\"]'):\n"
     ]
    }
   ],
   "source": [
    "#import selenium,webdriver,upload webdriver.exe\n",
    "from selenium import webdriver as wb\n",
    "import time\n",
    "from selenium.webdriver.support.select import Select\n",
    "from selenium.common.exceptions import NoSuchElementException\n",
    "#get the url and extract into html\n",
    "driver = wb.Chrome('chromedriver.exe')\n",
    "url_prefix = 'https://www.amazon.in/s?k='\n",
    "search = input('Enter the search text:')\n",
    "\n",
    "url = url_prefix + search\n",
    "driver.get(url)\n",
    "time.sleep(2)\n",
    "product,price,value,Return,Expected_Delivery=[],[],[],[],[]\n",
    "\n",
    "page = []\n",
    "link=[]\n",
    "for i in range(1,4):\n",
    "    page.append(url + '&page=' + str(i))\n",
    "\n",
    "    for el in page:\n",
    "        driver = wb.Chrome('chromedriver.exe')\n",
    "        driver.get(el)\n",
    "        time.sleep(2)\n",
    "        \n",
    "        for i in driver.find_elements_by_xpath('//a[@class=\"a-link-normal s-underline-text s-underline-link-text s-link-style a-text-normal\"]'):\n",
    "            link.append(i.get_attribute('href'))\n",
    "\n",
    "           "
   ]
  },
  {
   "cell_type": "code",
   "execution_count": 34,
   "id": "f654f4dc",
   "metadata": {},
   "outputs": [
    {
     "name": "stderr",
     "output_type": "stream",
     "text": [
      "C:\\Users\\anish\\AppData\\Local\\Temp/ipykernel_11936/2993281413.py:3: DeprecationWarning: executable_path has been deprecated, please pass in a Service object\n",
      "  driver = wb.Chrome('chromedriver.exe')\n",
      "C:\\Users\\anish\\AppData\\Local\\Temp/ipykernel_11936/2993281413.py:6: DeprecationWarning: find_element_by_* commands are deprecated. Please use find_element() instead\n",
      "  product.append(driver.find_element_by_id('productTitle').text)\n",
      "C:\\Users\\anish\\AppData\\Local\\Temp/ipykernel_11936/2993281413.py:7: DeprecationWarning: find_element_by_class_name is deprecated. Please use find_element(by=By.CLASS_NAME, value=name) instead\n",
      "  price.append(driver.find_element_by_class_name('a-span9').text)\n",
      "C:\\Users\\anish\\AppData\\Local\\Temp/ipykernel_11936/2993281413.py:8: DeprecationWarning: find_element_by_class_name is deprecated. Please use find_element(by=By.CLASS_NAME, value=name) instead\n",
      "  value.append(driver.find_element_by_class_name('a-offscreen').get_attribute('innerHTML'))\n",
      "C:\\Users\\anish\\AppData\\Local\\Temp/ipykernel_11936/2993281413.py:9: DeprecationWarning: find_element_by_xpath is deprecated. Please use find_element(by=By.XPATH, value=xpath) instead\n",
      "  Return.append(driver.find_element_by_xpath('//h5[@class=\"secondary-header a-text-normal\"]').get_attribute('innerHTML'))\n",
      "C:\\Users\\anish\\AppData\\Local\\Temp/ipykernel_11936/2993281413.py:10: DeprecationWarning: find_element_by_class_name is deprecated. Please use find_element(by=By.CLASS_NAME, value=name) instead\n",
      "  Expected_Delivery.append(driver.find_element_by_class_name('a-spacing-base').text)\n"
     ]
    }
   ],
   "source": [
    "try:\n",
    "    for k in range(368):\n",
    "        driver = wb.Chrome('chromedriver.exe')\n",
    "        driver.get(link[k])\n",
    "        time.sleep(2)\n",
    "        product.append(driver.find_element_by_id('productTitle').text)\n",
    "        price.append(driver.find_element_by_class_name('a-span9').text)\n",
    "        value.append(driver.find_element_by_class_name('a-offscreen').get_attribute('innerHTML'))\n",
    "        Return.append(driver.find_element_by_xpath('//h5[@class=\"secondary-header a-text-normal\"]').get_attribute('innerHTML'))\n",
    "        Expected_Delivery.append(driver.find_element_by_class_name('a-spacing-base').text)\n",
    "    \n",
    "except NoSuchElementException as error:\n",
    "        product.append('Not available')\n",
    "        price.append('Not available')\n",
    "        value.append('Not available')\n",
    "        Return.append('Not available')\n",
    "        Expected_Delivery.append('Not available')\n",
    "driver.close()"
   ]
  },
  {
   "cell_type": "code",
   "execution_count": 37,
   "id": "9c77e154",
   "metadata": {},
   "outputs": [],
   "source": [
    "import pandas as pd"
   ]
  },
  {
   "cell_type": "code",
   "execution_count": 496,
   "id": "b6b1818b",
   "metadata": {},
   "outputs": [
    {
     "ename": "NameError",
     "evalue": "name 'value' is not defined",
     "output_type": "error",
     "traceback": [
      "\u001b[1;31m---------------------------------------------------------------------------\u001b[0m",
      "\u001b[1;31mNameError\u001b[0m                                 Traceback (most recent call last)",
      "\u001b[1;32m~\\AppData\\Local\\Temp/ipykernel_2576/3319450380.py\u001b[0m in \u001b[0;36m<module>\u001b[1;34m\u001b[0m\n\u001b[1;32m----> 1\u001b[1;33m \u001b[0mdf_1\u001b[0m \u001b[1;33m=\u001b[0m \u001b[0mpd\u001b[0m\u001b[1;33m.\u001b[0m\u001b[0mDataFrame\u001b[0m\u001b[1;33m(\u001b[0m\u001b[0mzip\u001b[0m\u001b[1;33m(\u001b[0m\u001b[0mproduct\u001b[0m\u001b[1;33m,\u001b[0m\u001b[0mprice\u001b[0m\u001b[1;33m,\u001b[0m\u001b[0mvalue\u001b[0m\u001b[1;33m,\u001b[0m\u001b[0mReturn\u001b[0m\u001b[1;33m,\u001b[0m\u001b[0mExpected_Delivery\u001b[0m\u001b[1;33m)\u001b[0m\u001b[1;33m,\u001b[0m\u001b[0mcolumns\u001b[0m\u001b[1;33m=\u001b[0m\u001b[1;33m(\u001b[0m\u001b[1;34m'product'\u001b[0m\u001b[1;33m,\u001b[0m\u001b[1;34m'price'\u001b[0m\u001b[1;33m,\u001b[0m\u001b[1;34m'value'\u001b[0m\u001b[1;33m,\u001b[0m\u001b[1;34m'Return'\u001b[0m\u001b[1;33m,\u001b[0m\u001b[1;34m'Expected_Delivery'\u001b[0m\u001b[1;33m)\u001b[0m\u001b[1;33m)\u001b[0m\u001b[1;33m\u001b[0m\u001b[1;33m\u001b[0m\u001b[0m\n\u001b[0m",
      "\u001b[1;31mNameError\u001b[0m: name 'value' is not defined"
     ]
    }
   ],
   "source": [
    "df_1 = pd.DataFrame(zip(product,price,value,Return,Expected_Delivery),columns=('product','price','value','Return','Expected_Delivery'))\n"
   ]
  },
  {
   "cell_type": "code",
   "execution_count": 40,
   "id": "3339984e",
   "metadata": {},
   "outputs": [],
   "source": [
    "df_1.to_csv('Amazon.csv')"
   ]
  },
  {
   "cell_type": "markdown",
   "id": "cd4ee119",
   "metadata": {},
   "source": [
    "4.Write a python program to search for a smartphone(e.g.: Oneplus Nord, pixel 4A, etc.) on www.flipkart.com and scrape following details for all the search results displayed on 1st page. Details to be scraped: “Brand Name”, “Smartphone name”, “Colour”, “RAM”, “Storage(ROM)”, “Primary Camera”, “Secondary Camera”, “Display Size”, “Battery Capacity”, “Price”, “Product URL”. Incase if any of the details is missing then replace it by “- “. Save your results in a dataframe and CSV."
   ]
  },
  {
   "cell_type": "code",
   "execution_count": 42,
   "id": "812f813b",
   "metadata": {},
   "outputs": [
    {
     "name": "stderr",
     "output_type": "stream",
     "text": [
      "C:\\Users\\anish\\AppData\\Local\\Temp/ipykernel_11936/4209902645.py:7: DeprecationWarning: executable_path has been deprecated, please pass in a Service object\n",
      "  driver = wb.Chrome('chromedriver.exe')\n"
     ]
    },
    {
     "name": "stdout",
     "output_type": "stream",
     "text": [
      "Enter the search text:smartphone\n"
     ]
    }
   ],
   "source": [
    "#import selenium,webdriver,upload webdriver.exe\n",
    "from selenium import webdriver as wb\n",
    "import time\n",
    "from selenium.webdriver.support.select import Select\n",
    "from selenium.common.exceptions import NoSuchElementException\n",
    "#get the url and extract into html\n",
    "driver = wb.Chrome('chromedriver.exe')\n",
    "url_prefix = 'https://www.flipkart.com/search?q='\n",
    "search = input('Enter the search text:')\n",
    "url_suffix = '&otracker=search&otracker1=search&marketplace=FLIPKART&as-show=on&as=off'\n",
    "url = url_prefix + search + url_suffix\n",
    "driver.get(url)\n",
    "time.sleep(2)"
   ]
  },
  {
   "cell_type": "code",
   "execution_count": 43,
   "id": "b11dc28e",
   "metadata": {},
   "outputs": [],
   "source": [
    "driver.maximize_window()"
   ]
  },
  {
   "cell_type": "code",
   "execution_count": null,
   "id": "9567eede",
   "metadata": {},
   "outputs": [],
   "source": [
    "driver.find_element_by_class_name('_1fQZEK').get_attribute('href')"
   ]
  },
  {
   "cell_type": "code",
   "execution_count": 98,
   "id": "f292c186",
   "metadata": {},
   "outputs": [],
   "source": [
    "page = []\n",
    "for i in range(1,4):\n",
    "    page.append('https://www.flipkart.com/search?q=smartphone&otracker=search&otracker1=search&marketplace=FLIPKART&as-show=on&as=off&page='+str(i))"
   ]
  },
  {
   "cell_type": "code",
   "execution_count": 104,
   "id": "4e70ed4e",
   "metadata": {},
   "outputs": [
    {
     "name": "stderr",
     "output_type": "stream",
     "text": [
      "C:\\Users\\anish\\AppData\\Local\\Temp/ipykernel_11936/3445710818.py:3: DeprecationWarning: executable_path has been deprecated, please pass in a Service object\n",
      "  driver = wb.Chrome('chromedriver.exe')\n",
      "C:\\Users\\anish\\AppData\\Local\\Temp/ipykernel_11936/3445710818.py:5: DeprecationWarning: find_elements_by_class_name is deprecated. Please use find_elements(by=By.CLASS_NAME, value=name) instead\n",
      "  for k in driver.find_elements_by_class_name('_1fQZEK'):\n"
     ]
    }
   ],
   "source": [
    "link=[]\n",
    "for j in page:\n",
    "    driver = wb.Chrome('chromedriver.exe')\n",
    "    driver.get(j)\n",
    "    for k in driver.find_elements_by_class_name('_1fQZEK'):\n",
    "        link.append(k.get_attribute('href'))\n",
    "    "
   ]
  },
  {
   "cell_type": "code",
   "execution_count": 110,
   "id": "3fe54a0f",
   "metadata": {},
   "outputs": [
    {
     "name": "stderr",
     "output_type": "stream",
     "text": [
      "C:\\Users\\anish\\AppData\\Local\\Temp/ipykernel_11936/692181290.py:8: DeprecationWarning: executable_path has been deprecated, please pass in a Service object\n",
      "  driver = wb.Chrome('chromedriver.exe')\n",
      "C:\\Users\\anish\\AppData\\Local\\Temp/ipykernel_11936/692181290.py:11: DeprecationWarning: find_element_by_class_name is deprecated. Please use find_element(by=By.CLASS_NAME, value=name) instead\n",
      "  name.append(driver.find_element_by_class_name('B_NuCI').text)\n",
      "C:\\Users\\anish\\AppData\\Local\\Temp/ipykernel_11936/692181290.py:12: DeprecationWarning: find_element_by_xpath is deprecated. Please use find_element(by=By.XPATH, value=xpath) instead\n",
      "  colour.append(re.sub('<[^>]+>', '',(driver.find_element_by_xpath('//div[@class=\"_2OTVHf _3NVE7n _1mQK5h _2J-DXM\"]').get_attribute('innerHTML'))).strip())\n",
      "C:\\Users\\anish\\AppData\\Local\\Temp/ipykernel_11936/692181290.py:13: DeprecationWarning: find_element_by_class_name is deprecated. Please use find_element(by=By.CLASS_NAME, value=name) instead\n",
      "  spec.append(driver.find_element_by_class_name('_2418kt').text.split('\\n'))\n",
      "C:\\Users\\anish\\AppData\\Local\\Temp/ipykernel_11936/692181290.py:14: DeprecationWarning: find_element_by_xpath is deprecated. Please use find_element(by=By.XPATH, value=xpath) instead\n",
      "  price.append(driver.find_element_by_xpath('//div[@class=\"_30jeq3 _16Jk6d\"]').text)\n"
     ]
    }
   ],
   "source": [
    "from selenium.common.exceptions import NoSuchElementException\n",
    "import time\n",
    "import re\n",
    "name,colour,spec,price = [],[],[],[]\n",
    "for l in range(72):\n",
    "    try:\n",
    "\n",
    "        driver = wb.Chrome('chromedriver.exe')\n",
    "        driver.get(link[l])\n",
    "        time.sleep(2)\n",
    "        name.append(driver.find_element_by_class_name('B_NuCI').text)\n",
    "        colour.append(re.sub('<[^>]+>', '',(driver.find_element_by_xpath('//div[@class=\"_2OTVHf _3NVE7n _1mQK5h _2J-DXM\"]').get_attribute('innerHTML'))).strip())\n",
    "        spec.append(driver.find_element_by_class_name('_2418kt').text.split('\\n'))\n",
    "        price.append(driver.find_element_by_xpath('//div[@class=\"_30jeq3 _16Jk6d\"]').text)\n",
    "\n",
    "\n",
    "    except NoSuchElementException as error:\n",
    "        name.append('Not available')\n",
    "        colour.append('Not available')\n",
    "        spec.append('Not available')\n",
    "        price.append('Not available')\n",
    "        \n",
    "driver.close()"
   ]
  },
  {
   "cell_type": "code",
   "execution_count": 195,
   "id": "c8e45a72",
   "metadata": {},
   "outputs": [],
   "source": [
    "for i in range(len(spec)):\n",
    "    if spec[i] == 'Not available':\n",
    "        spec[i] = ['Not available','Not available','Not available','Not available']\n",
    "        break\n"
   ]
  },
  {
   "cell_type": "code",
   "execution_count": 227,
   "id": "0353ed52",
   "metadata": {},
   "outputs": [],
   "source": [
    "Brand_Name = []\n",
    "for i in range(len(name)):\n",
    "    Brand_Name.append(name[i].split()[0])\n"
   ]
  },
  {
   "cell_type": "code",
   "execution_count": 179,
   "id": "a966f8da",
   "metadata": {},
   "outputs": [],
   "source": [
    "import pandas as pd"
   ]
  },
  {
   "cell_type": "code",
   "execution_count": 245,
   "id": "0dc96583",
   "metadata": {},
   "outputs": [],
   "source": [
    "df_a = pd.DataFrame(zip(name,Brand_Name),columns=('Name','Brand_Name'))\n",
    "df_b = pd.DataFrame(spec,columns=('Ram','Display','Camera','Battery','Processor','a','v'))\n",
    "df_c = df_b.drop(['a','v'],axis='columns')"
   ]
  },
  {
   "cell_type": "code",
   "execution_count": 250,
   "id": "182ba4dc",
   "metadata": {},
   "outputs": [
    {
     "data": {
      "text/html": [
       "<div>\n",
       "<style scoped>\n",
       "    .dataframe tbody tr th:only-of-type {\n",
       "        vertical-align: middle;\n",
       "    }\n",
       "\n",
       "    .dataframe tbody tr th {\n",
       "        vertical-align: top;\n",
       "    }\n",
       "\n",
       "    .dataframe thead th {\n",
       "        text-align: right;\n",
       "    }\n",
       "</style>\n",
       "<table border=\"1\" class=\"dataframe\">\n",
       "  <thead>\n",
       "    <tr style=\"text-align: right;\">\n",
       "      <th></th>\n",
       "      <th>Name</th>\n",
       "      <th>Brand_Name</th>\n",
       "      <th>Ram</th>\n",
       "      <th>Display</th>\n",
       "      <th>Camera</th>\n",
       "      <th>Battery</th>\n",
       "      <th>Processor</th>\n",
       "    </tr>\n",
       "  </thead>\n",
       "  <tbody>\n",
       "    <tr>\n",
       "      <th>0</th>\n",
       "      <td>POCO C31 (Royal Blue, 64 GB)  (4 GB RAM)</td>\n",
       "      <td>POCO</td>\n",
       "      <td>4 GB RAM | 64 GB ROM | Expandable Upto 512 GB</td>\n",
       "      <td>16.59 cm (6.53 inch) HD+ Display</td>\n",
       "      <td>13MP + 2MP + 2MP | 5MP Front Camera</td>\n",
       "      <td>5000 mAh Lithium-ion Polymer Battery</td>\n",
       "      <td>MediaTek Helio G35 Processor</td>\n",
       "    </tr>\n",
       "    <tr>\n",
       "      <th>1</th>\n",
       "      <td>realme C11 2021 (Cool Grey, 32 GB)  (2 GB RAM)</td>\n",
       "      <td>realme</td>\n",
       "      <td>2 GB RAM | 32 GB ROM | Expandable Upto 256 GB</td>\n",
       "      <td>16.51 cm (6.5 inch) HD+ Display</td>\n",
       "      <td>8MP Rear Camera | 5MP Front Camera</td>\n",
       "      <td>5000 mAh Battery</td>\n",
       "      <td>Octa-core Processor</td>\n",
       "    </tr>\n",
       "    <tr>\n",
       "      <th>2</th>\n",
       "      <td>realme C11 2021 (Cool Grey, 64 GB)  (4 GB RAM)</td>\n",
       "      <td>realme</td>\n",
       "      <td>4 GB RAM | 64 GB ROM | Expandable Upto 256 GB</td>\n",
       "      <td>16.51 cm (6.5 inch) HD+ Display</td>\n",
       "      <td>8MP Rear Camera | 5MP Front Camera</td>\n",
       "      <td>5000 mAh Battery</td>\n",
       "      <td>Octa-core Processor</td>\n",
       "    </tr>\n",
       "    <tr>\n",
       "      <th>3</th>\n",
       "      <td>realme C11 2021 (Cool Blue, 32 GB)  (2 GB RAM)</td>\n",
       "      <td>realme</td>\n",
       "      <td>2 GB RAM | 32 GB ROM | Expandable Upto 256 GB</td>\n",
       "      <td>16.51 cm (6.5 inch) HD+ Display</td>\n",
       "      <td>8MP Rear Camera | 5MP Front Camera</td>\n",
       "      <td>5000 mAh Battery</td>\n",
       "      <td>Octa-core Processor</td>\n",
       "    </tr>\n",
       "    <tr>\n",
       "      <th>4</th>\n",
       "      <td>realme C11 2021 (Cool Blue, 64 GB)  (4 GB RAM)</td>\n",
       "      <td>realme</td>\n",
       "      <td>4 GB RAM | 64 GB ROM | Expandable Upto 256 GB</td>\n",
       "      <td>16.51 cm (6.5 inch) HD+ Display</td>\n",
       "      <td>8MP Rear Camera | 5MP Front Camera</td>\n",
       "      <td>5000 mAh Battery</td>\n",
       "      <td>Octa-core Processor</td>\n",
       "    </tr>\n",
       "    <tr>\n",
       "      <th>...</th>\n",
       "      <td>...</td>\n",
       "      <td>...</td>\n",
       "      <td>...</td>\n",
       "      <td>...</td>\n",
       "      <td>...</td>\n",
       "      <td>...</td>\n",
       "      <td>...</td>\n",
       "    </tr>\n",
       "    <tr>\n",
       "      <th>67</th>\n",
       "      <td>REDMI Note 10T 5G (Graphite Black, 128 GB)  (6...</td>\n",
       "      <td>REDMI</td>\n",
       "      <td>6 GB RAM | 128 GB ROM</td>\n",
       "      <td>16.66 cm (6.56 inch) Full HD+ Display</td>\n",
       "      <td>48MP Primary Camera + 2MP Macro Lens + 2MP Dep...</td>\n",
       "      <td>5000 mAh Lithium Polymer Battery</td>\n",
       "      <td>Mediatek Dimensity 700 Processor</td>\n",
       "    </tr>\n",
       "    <tr>\n",
       "      <th>68</th>\n",
       "      <td>SAMSUNG Galaxy F22 (Denim Black, 64 GB)  (4 GB...</td>\n",
       "      <td>SAMSUNG</td>\n",
       "      <td>4 GB RAM | 64 GB ROM | Expandable Upto 1 TB</td>\n",
       "      <td>16.26 cm (6.4 inch) HD+ Display</td>\n",
       "      <td>48MP + 8MP + 2MP + 2MP | 13MP Front Camera</td>\n",
       "      <td>6000 mAh Lithium-ion Battery</td>\n",
       "      <td>MediaTek Helio G80 Processor</td>\n",
       "    </tr>\n",
       "    <tr>\n",
       "      <th>69</th>\n",
       "      <td>SAMSUNG Galaxy F23 5G (Aqua Blue, 128 GB)  (6 ...</td>\n",
       "      <td>SAMSUNG</td>\n",
       "      <td>6 GB RAM | 128 GB ROM | Expandable Upto 1 TB</td>\n",
       "      <td>16.76 cm (6.6 inch) Full HD+ Display</td>\n",
       "      <td>50MP + 8MP + 2MP | 8MP Front Camera</td>\n",
       "      <td>5000 mAh Lithium Ion Battery</td>\n",
       "      <td>Qualcomm Snapdragon 750G Processor</td>\n",
       "    </tr>\n",
       "    <tr>\n",
       "      <th>70</th>\n",
       "      <td>realme 9 Pro+ 5G (Aurora Green, 128 GB)  (6 GB...</td>\n",
       "      <td>realme</td>\n",
       "      <td>6 GB RAM | 128 GB ROM</td>\n",
       "      <td>16.26 cm (6.4 inch) Full HD+ AMOLED Display</td>\n",
       "      <td>50MP + 8MP + 2MP | 16MP Front Camera</td>\n",
       "      <td>4500 mAh Li-ion Battery</td>\n",
       "      <td>Mediatek Dimensity 920 Processor</td>\n",
       "    </tr>\n",
       "    <tr>\n",
       "      <th>71</th>\n",
       "      <td>SAMSUNG Galaxy F22 (Denim Black, 128 GB)  (6 G...</td>\n",
       "      <td>SAMSUNG</td>\n",
       "      <td>6 GB RAM | 128 GB ROM | Expandable Upto 1 TB</td>\n",
       "      <td>16.26 cm (6.4 inch) HD+ Display</td>\n",
       "      <td>48MP + 8MP + 2MP + 2MP | 13MP Front Camera</td>\n",
       "      <td>6000 mAh Lithium-ion Battery</td>\n",
       "      <td>MediaTek Helio G80 Processor</td>\n",
       "    </tr>\n",
       "  </tbody>\n",
       "</table>\n",
       "<p>72 rows × 7 columns</p>\n",
       "</div>"
      ],
      "text/plain": [
       "                                                 Name Brand_Name  \\\n",
       "0            POCO C31 (Royal Blue, 64 GB)  (4 GB RAM)       POCO   \n",
       "1      realme C11 2021 (Cool Grey, 32 GB)  (2 GB RAM)     realme   \n",
       "2      realme C11 2021 (Cool Grey, 64 GB)  (4 GB RAM)     realme   \n",
       "3      realme C11 2021 (Cool Blue, 32 GB)  (2 GB RAM)     realme   \n",
       "4      realme C11 2021 (Cool Blue, 64 GB)  (4 GB RAM)     realme   \n",
       "..                                                ...        ...   \n",
       "67  REDMI Note 10T 5G (Graphite Black, 128 GB)  (6...      REDMI   \n",
       "68  SAMSUNG Galaxy F22 (Denim Black, 64 GB)  (4 GB...    SAMSUNG   \n",
       "69  SAMSUNG Galaxy F23 5G (Aqua Blue, 128 GB)  (6 ...    SAMSUNG   \n",
       "70  realme 9 Pro+ 5G (Aurora Green, 128 GB)  (6 GB...     realme   \n",
       "71  SAMSUNG Galaxy F22 (Denim Black, 128 GB)  (6 G...    SAMSUNG   \n",
       "\n",
       "                                              Ram  \\\n",
       "0   4 GB RAM | 64 GB ROM | Expandable Upto 512 GB   \n",
       "1   2 GB RAM | 32 GB ROM | Expandable Upto 256 GB   \n",
       "2   4 GB RAM | 64 GB ROM | Expandable Upto 256 GB   \n",
       "3   2 GB RAM | 32 GB ROM | Expandable Upto 256 GB   \n",
       "4   4 GB RAM | 64 GB ROM | Expandable Upto 256 GB   \n",
       "..                                            ...   \n",
       "67                          6 GB RAM | 128 GB ROM   \n",
       "68    4 GB RAM | 64 GB ROM | Expandable Upto 1 TB   \n",
       "69   6 GB RAM | 128 GB ROM | Expandable Upto 1 TB   \n",
       "70                          6 GB RAM | 128 GB ROM   \n",
       "71   6 GB RAM | 128 GB ROM | Expandable Upto 1 TB   \n",
       "\n",
       "                                        Display  \\\n",
       "0              16.59 cm (6.53 inch) HD+ Display   \n",
       "1               16.51 cm (6.5 inch) HD+ Display   \n",
       "2               16.51 cm (6.5 inch) HD+ Display   \n",
       "3               16.51 cm (6.5 inch) HD+ Display   \n",
       "4               16.51 cm (6.5 inch) HD+ Display   \n",
       "..                                          ...   \n",
       "67        16.66 cm (6.56 inch) Full HD+ Display   \n",
       "68              16.26 cm (6.4 inch) HD+ Display   \n",
       "69         16.76 cm (6.6 inch) Full HD+ Display   \n",
       "70  16.26 cm (6.4 inch) Full HD+ AMOLED Display   \n",
       "71              16.26 cm (6.4 inch) HD+ Display   \n",
       "\n",
       "                                               Camera  \\\n",
       "0                 13MP + 2MP + 2MP | 5MP Front Camera   \n",
       "1                  8MP Rear Camera | 5MP Front Camera   \n",
       "2                  8MP Rear Camera | 5MP Front Camera   \n",
       "3                  8MP Rear Camera | 5MP Front Camera   \n",
       "4                  8MP Rear Camera | 5MP Front Camera   \n",
       "..                                                ...   \n",
       "67  48MP Primary Camera + 2MP Macro Lens + 2MP Dep...   \n",
       "68         48MP + 8MP + 2MP + 2MP | 13MP Front Camera   \n",
       "69                50MP + 8MP + 2MP | 8MP Front Camera   \n",
       "70               50MP + 8MP + 2MP | 16MP Front Camera   \n",
       "71         48MP + 8MP + 2MP + 2MP | 13MP Front Camera   \n",
       "\n",
       "                                 Battery                           Processor  \n",
       "0   5000 mAh Lithium-ion Polymer Battery        MediaTek Helio G35 Processor  \n",
       "1                       5000 mAh Battery                 Octa-core Processor  \n",
       "2                       5000 mAh Battery                 Octa-core Processor  \n",
       "3                       5000 mAh Battery                 Octa-core Processor  \n",
       "4                       5000 mAh Battery                 Octa-core Processor  \n",
       "..                                   ...                                 ...  \n",
       "67      5000 mAh Lithium Polymer Battery    Mediatek Dimensity 700 Processor  \n",
       "68          6000 mAh Lithium-ion Battery        MediaTek Helio G80 Processor  \n",
       "69          5000 mAh Lithium Ion Battery  Qualcomm Snapdragon 750G Processor  \n",
       "70               4500 mAh Li-ion Battery    Mediatek Dimensity 920 Processor  \n",
       "71          6000 mAh Lithium-ion Battery        MediaTek Helio G80 Processor  \n",
       "\n",
       "[72 rows x 7 columns]"
      ]
     },
     "execution_count": 250,
     "metadata": {},
     "output_type": "execute_result"
    }
   ],
   "source": [
    "df_4 = pd.concat([df_a,df_c],axis=1)\n",
    "df_4"
   ]
  },
  {
   "cell_type": "code",
   "execution_count": 251,
   "id": "a96cd3e2",
   "metadata": {},
   "outputs": [],
   "source": [
    "df_4.to_csv('Flipkart.csv')"
   ]
  },
  {
   "cell_type": "markdown",
   "id": "9e69154e",
   "metadata": {},
   "source": [
    "6.Write a program to scrap details of all the funding deals for second quarter (i.e Jan 21 – March 21) from trak.in"
   ]
  },
  {
   "cell_type": "code",
   "execution_count": 256,
   "id": "16542415",
   "metadata": {},
   "outputs": [
    {
     "name": "stderr",
     "output_type": "stream",
     "text": [
      "C:\\Users\\anish\\AppData\\Local\\Temp/ipykernel_11936/4175158205.py:7: DeprecationWarning: executable_path has been deprecated, please pass in a Service object\n",
      "  driver = wb.Chrome('chromedriver.exe')\n"
     ]
    }
   ],
   "source": [
    "#import selenium,webdriver,upload webdriver.exe\n",
    "from selenium import webdriver as wb\n",
    "import time\n",
    "from selenium.webdriver.support.select import Select\n",
    "from selenium.common.exceptions import NoSuchElementException\n",
    "#get the url and extract into html\n",
    "driver = wb.Chrome('chromedriver.exe')\n",
    "driver.get('https://trak.in/')"
   ]
  },
  {
   "cell_type": "code",
   "execution_count": 258,
   "id": "a1da4e41",
   "metadata": {},
   "outputs": [],
   "source": [
    "driver.maximize_window()"
   ]
  },
  {
   "cell_type": "code",
   "execution_count": 265,
   "id": "982696b5",
   "metadata": {},
   "outputs": [
    {
     "name": "stderr",
     "output_type": "stream",
     "text": [
      "C:\\Users\\anish\\AppData\\Local\\Temp/ipykernel_11936/4260140527.py:1: DeprecationWarning: find_element_by_* commands are deprecated. Please use find_element() instead\n",
      "  Funding_Deals = driver.find_element_by_id('menu-item-51510').find_element_by_tag_name('a').get_attribute('href')\n",
      "C:\\Users\\anish\\AppData\\Local\\Temp/ipykernel_11936/4260140527.py:1: DeprecationWarning: find_element_by_tag_name is deprecated. Please use find_element(by=By.TAG_NAME, value=name) instead\n",
      "  Funding_Deals = driver.find_element_by_id('menu-item-51510').find_element_by_tag_name('a').get_attribute('href')\n"
     ]
    }
   ],
   "source": [
    "Funding_Deals = driver.find_element_by_id('menu-item-51510').find_element_by_tag_name('a').get_attribute('href')"
   ]
  },
  {
   "cell_type": "code",
   "execution_count": 349,
   "id": "166b7e57",
   "metadata": {},
   "outputs": [
    {
     "name": "stderr",
     "output_type": "stream",
     "text": [
      "C:\\Users\\anish\\AppData\\Local\\Temp/ipykernel_11936/2329464831.py:1: DeprecationWarning: executable_path has been deprecated, please pass in a Service object\n",
      "  driver = wb.Chrome('chromedriver.exe')\n"
     ]
    }
   ],
   "source": [
    "driver = wb.Chrome('chromedriver.exe')\n",
    "driver.get(Funding_Deals)"
   ]
  },
  {
   "cell_type": "code",
   "execution_count": 533,
   "id": "6074a730",
   "metadata": {},
   "outputs": [
    {
     "name": "stderr",
     "output_type": "stream",
     "text": [
      "C:\\Users\\anish\\AppData\\Local\\Temp/ipykernel_11936/1908231362.py:1: DeprecationWarning: find_elements_by_class_name is deprecated. Please use find_elements(by=By.CLASS_NAME, value=name) instead\n",
      "  b = driver.find_elements_by_class_name('row-hover')\n"
     ]
    }
   ],
   "source": [
    "b = driver.find_elements_by_class_name('row-hover')"
   ]
  },
  {
   "cell_type": "code",
   "execution_count": 535,
   "id": "9dff4a51",
   "metadata": {},
   "outputs": [
    {
     "name": "stderr",
     "output_type": "stream",
     "text": [
      "C:\\Users\\anish\\AppData\\Local\\Temp/ipykernel_11936/882821803.py:3: DeprecationWarning: find_elements_by_tag_name is deprecated. Please use find_elements(by=By.TAG_NAME, value=name) instead\n",
      "  r.append(i.find_elements_by_tag_name('tr'))\n"
     ]
    }
   ],
   "source": [
    "r=[]\n",
    "for i in b:\n",
    "    r.append(i.find_elements_by_tag_name('tr'))"
   ]
  },
  {
   "cell_type": "code",
   "execution_count": 590,
   "id": "63f1623d",
   "metadata": {},
   "outputs": [
    {
     "name": "stderr",
     "output_type": "stream",
     "text": [
      "C:\\Users\\anish\\AppData\\Local\\Temp/ipykernel_11936/1992535201.py:2: DeprecationWarning: find_elements_by_class_name is deprecated. Please use find_elements(by=By.CLASS_NAME, value=name) instead\n",
      "  for i in driver.find_elements_by_class_name('column-1'):\n"
     ]
    }
   ],
   "source": [
    "a=[]\n",
    "for i in driver.find_elements_by_class_name('column-1'):\n",
    "    a.append(i.text)"
   ]
  },
  {
   "cell_type": "code",
   "execution_count": 591,
   "id": "f97e9487",
   "metadata": {},
   "outputs": [
    {
     "name": "stderr",
     "output_type": "stream",
     "text": [
      "C:\\Users\\anish\\AppData\\Local\\Temp/ipykernel_11936/4267200379.py:2: DeprecationWarning: find_elements_by_class_name is deprecated. Please use find_elements(by=By.CLASS_NAME, value=name) instead\n",
      "  for i in driver.find_elements_by_class_name('column-2'):\n"
     ]
    }
   ],
   "source": [
    "b=[]\n",
    "for i in driver.find_elements_by_class_name('column-2'):\n",
    "    b.append(i.text)"
   ]
  },
  {
   "cell_type": "code",
   "execution_count": 592,
   "id": "0f0e67b0",
   "metadata": {},
   "outputs": [
    {
     "name": "stderr",
     "output_type": "stream",
     "text": [
      "C:\\Users\\anish\\AppData\\Local\\Temp/ipykernel_11936/1765236048.py:2: DeprecationWarning: find_elements_by_class_name is deprecated. Please use find_elements(by=By.CLASS_NAME, value=name) instead\n",
      "  for i in driver.find_elements_by_class_name('column-3'):\n"
     ]
    }
   ],
   "source": [
    "c=[]\n",
    "for i in driver.find_elements_by_class_name('column-3'):\n",
    "    c.append(i.text)"
   ]
  },
  {
   "cell_type": "code",
   "execution_count": 593,
   "id": "df2eab69",
   "metadata": {},
   "outputs": [
    {
     "name": "stderr",
     "output_type": "stream",
     "text": [
      "C:\\Users\\anish\\AppData\\Local\\Temp/ipykernel_11936/692668048.py:2: DeprecationWarning: find_elements_by_class_name is deprecated. Please use find_elements(by=By.CLASS_NAME, value=name) instead\n",
      "  for i in driver.find_elements_by_class_name('column-4'):\n"
     ]
    }
   ],
   "source": [
    "d=[]\n",
    "for i in driver.find_elements_by_class_name('column-4'):\n",
    "    d.append(i.text)"
   ]
  },
  {
   "cell_type": "code",
   "execution_count": 594,
   "id": "347c29df",
   "metadata": {},
   "outputs": [
    {
     "name": "stderr",
     "output_type": "stream",
     "text": [
      "C:\\Users\\anish\\AppData\\Local\\Temp/ipykernel_11936/23442614.py:2: DeprecationWarning: find_elements_by_class_name is deprecated. Please use find_elements(by=By.CLASS_NAME, value=name) instead\n",
      "  for i in driver.find_elements_by_class_name('column-5'):\n"
     ]
    }
   ],
   "source": [
    "e=[]\n",
    "for i in driver.find_elements_by_class_name('column-5'):\n",
    "    e.append(i.text)"
   ]
  },
  {
   "cell_type": "code",
   "execution_count": 595,
   "id": "467e6619",
   "metadata": {},
   "outputs": [
    {
     "name": "stderr",
     "output_type": "stream",
     "text": [
      "C:\\Users\\anish\\AppData\\Local\\Temp/ipykernel_11936/3182367039.py:2: DeprecationWarning: find_elements_by_class_name is deprecated. Please use find_elements(by=By.CLASS_NAME, value=name) instead\n",
      "  for i in driver.find_elements_by_class_name('column-6'):\n"
     ]
    }
   ],
   "source": [
    "f=[]\n",
    "for i in driver.find_elements_by_class_name('column-6'):\n",
    "    f.append(i.text)"
   ]
  },
  {
   "cell_type": "code",
   "execution_count": 596,
   "id": "14263b52",
   "metadata": {},
   "outputs": [
    {
     "name": "stderr",
     "output_type": "stream",
     "text": [
      "C:\\Users\\anish\\AppData\\Local\\Temp/ipykernel_11936/1099506561.py:2: DeprecationWarning: find_elements_by_class_name is deprecated. Please use find_elements(by=By.CLASS_NAME, value=name) instead\n",
      "  for i in driver.find_elements_by_class_name('column-7'):\n"
     ]
    }
   ],
   "source": [
    "g=[]\n",
    "for i in driver.find_elements_by_class_name('column-7'):\n",
    "    g.append(i.text)"
   ]
  },
  {
   "cell_type": "code",
   "execution_count": 597,
   "id": "9df7dca1",
   "metadata": {},
   "outputs": [
    {
     "name": "stderr",
     "output_type": "stream",
     "text": [
      "C:\\Users\\anish\\AppData\\Local\\Temp/ipykernel_11936/3546668142.py:2: DeprecationWarning: find_elements_by_class_name is deprecated. Please use find_elements(by=By.CLASS_NAME, value=name) instead\n",
      "  for i in driver.find_elements_by_class_name('column-8'):\n"
     ]
    }
   ],
   "source": [
    "h=[]\n",
    "for i in driver.find_elements_by_class_name('column-8'):\n",
    "    h.append(i.text)"
   ]
  },
  {
   "cell_type": "code",
   "execution_count": 599,
   "id": "4b833d9d",
   "metadata": {},
   "outputs": [
    {
     "name": "stderr",
     "output_type": "stream",
     "text": [
      "C:\\Users\\anish\\AppData\\Local\\Temp/ipykernel_11936/2904670041.py:2: DeprecationWarning: find_elements_by_class_name is deprecated. Please use find_elements(by=By.CLASS_NAME, value=name) instead\n",
      "  for i in driver.find_elements_by_class_name('column-9'):\n"
     ]
    }
   ],
   "source": [
    "k=[]\n",
    "for i in driver.find_elements_by_class_name('column-9'):\n",
    "    k.append(i.text)"
   ]
  },
  {
   "cell_type": "code",
   "execution_count": 615,
   "id": "617649cd",
   "metadata": {},
   "outputs": [],
   "source": [
    "import pandas as pd"
   ]
  },
  {
   "cell_type": "code",
   "execution_count": 636,
   "id": "87b47a8a",
   "metadata": {},
   "outputs": [],
   "source": [
    "df=pd.DataFrame(zip(a,b,c,d,e,f,g,h,k),columns=('Sr.No','Date','Startup_name','Industry','Sub_Vertical','City/Location','Investors_name','Investment_Type','Amount_in_USD'))\n"
   ]
  },
  {
   "cell_type": "code",
   "execution_count": 637,
   "id": "01c82219",
   "metadata": {},
   "outputs": [],
   "source": [
    "df = df[df[\"Sub_Vertical\"].str.contains(\"Sub-Vertical\") == False]"
   ]
  },
  {
   "cell_type": "code",
   "execution_count": 638,
   "id": "b02639e3",
   "metadata": {},
   "outputs": [],
   "source": [
    "df_6 = df[0:33]"
   ]
  },
  {
   "cell_type": "code",
   "execution_count": 639,
   "id": "2de8ac2e",
   "metadata": {},
   "outputs": [
    {
     "data": {
      "text/html": [
       "<div>\n",
       "<style scoped>\n",
       "    .dataframe tbody tr th:only-of-type {\n",
       "        vertical-align: middle;\n",
       "    }\n",
       "\n",
       "    .dataframe tbody tr th {\n",
       "        vertical-align: top;\n",
       "    }\n",
       "\n",
       "    .dataframe thead th {\n",
       "        text-align: right;\n",
       "    }\n",
       "</style>\n",
       "<table border=\"1\" class=\"dataframe\">\n",
       "  <thead>\n",
       "    <tr style=\"text-align: right;\">\n",
       "      <th></th>\n",
       "      <th>Sr.No</th>\n",
       "      <th>Date</th>\n",
       "      <th>Startup_name</th>\n",
       "      <th>Industry</th>\n",
       "      <th>Sub_Vertical</th>\n",
       "      <th>City/Location</th>\n",
       "      <th>Investors_name</th>\n",
       "      <th>Investment_Type</th>\n",
       "      <th>Amount_in_USD</th>\n",
       "    </tr>\n",
       "  </thead>\n",
       "  <tbody>\n",
       "    <tr>\n",
       "      <th>1</th>\n",
       "      <td></td>\n",
       "      <td></td>\n",
       "      <td></td>\n",
       "      <td></td>\n",
       "      <td></td>\n",
       "      <td></td>\n",
       "      <td></td>\n",
       "      <td></td>\n",
       "      <td></td>\n",
       "    </tr>\n",
       "    <tr>\n",
       "      <th>2</th>\n",
       "      <td>1</td>\n",
       "      <td>01/04/2021</td>\n",
       "      <td>BYJU’S</td>\n",
       "      <td>Edu-tech</td>\n",
       "      <td>Online tutoring</td>\n",
       "      <td>Bengaluru</td>\n",
       "      <td>Innoven Capital</td>\n",
       "      <td>Series F</td>\n",
       "      <td>460,000,000</td>\n",
       "    </tr>\n",
       "    <tr>\n",
       "      <th>3</th>\n",
       "      <td>2</td>\n",
       "      <td>05/04/2021</td>\n",
       "      <td>Meesho</td>\n",
       "      <td>E-commerce</td>\n",
       "      <td>Online reselling platform</td>\n",
       "      <td>Bengaluru</td>\n",
       "      <td>SoftBank Vision Fund 2</td>\n",
       "      <td>Series E</td>\n",
       "      <td>300,000,000</td>\n",
       "    </tr>\n",
       "    <tr>\n",
       "      <th>4</th>\n",
       "      <td>3</td>\n",
       "      <td>14/04/2021</td>\n",
       "      <td>Swiggy</td>\n",
       "      <td>Online Food Delivery</td>\n",
       "      <td>Online Food Delivery</td>\n",
       "      <td>Bengaluru</td>\n",
       "      <td>Amansa Holdings, Carmignac, Falcon Edge Capita...</td>\n",
       "      <td>Series J</td>\n",
       "      <td>343,000,000</td>\n",
       "    </tr>\n",
       "    <tr>\n",
       "      <th>5</th>\n",
       "      <td>4</td>\n",
       "      <td>07/04/2021</td>\n",
       "      <td>Groww</td>\n",
       "      <td>FinTech</td>\n",
       "      <td>Investment platform</td>\n",
       "      <td>Bengaluru</td>\n",
       "      <td>MC Global Edtech, B Capital, Baron, others</td>\n",
       "      <td>Series D</td>\n",
       "      <td>83,000,000</td>\n",
       "    </tr>\n",
       "    <tr>\n",
       "      <th>6</th>\n",
       "      <td>5</td>\n",
       "      <td>14/04/2021</td>\n",
       "      <td>Beldara</td>\n",
       "      <td>E-commerce</td>\n",
       "      <td>Global B2B marketplace</td>\n",
       "      <td>Mumbai</td>\n",
       "      <td>Hindustan Media Ventures</td>\n",
       "      <td>Venture</td>\n",
       "      <td>7,400,000</td>\n",
       "    </tr>\n",
       "    <tr>\n",
       "      <th>8</th>\n",
       "      <td></td>\n",
       "      <td></td>\n",
       "      <td></td>\n",
       "      <td></td>\n",
       "      <td></td>\n",
       "      <td></td>\n",
       "      <td></td>\n",
       "      <td></td>\n",
       "      <td></td>\n",
       "    </tr>\n",
       "    <tr>\n",
       "      <th>9</th>\n",
       "      <td>1</td>\n",
       "      <td>04/03/2021</td>\n",
       "      <td>DealShare</td>\n",
       "      <td>E-commerce</td>\n",
       "      <td>Online shopping platform</td>\n",
       "      <td>Jaipur, Rajasthan</td>\n",
       "      <td>Innoven Capital</td>\n",
       "      <td>Debt Financing</td>\n",
       "      <td>250,000,000</td>\n",
       "    </tr>\n",
       "    <tr>\n",
       "      <th>10</th>\n",
       "      <td>2</td>\n",
       "      <td>31/03/2021</td>\n",
       "      <td>Uniphore</td>\n",
       "      <td>Technology</td>\n",
       "      <td>Conversational Service Automation (CSA)</td>\n",
       "      <td>Palo Alto</td>\n",
       "      <td>Sorenson Capital Partners</td>\n",
       "      <td>Series D</td>\n",
       "      <td>140,000,000</td>\n",
       "    </tr>\n",
       "    <tr>\n",
       "      <th>11</th>\n",
       "      <td>3</td>\n",
       "      <td>30/03/2021</td>\n",
       "      <td>Dunzo</td>\n",
       "      <td>E-commerce</td>\n",
       "      <td>Hyper-local delivery app</td>\n",
       "      <td>Bengaluru</td>\n",
       "      <td>Krishtal Advisors Pte Ltd</td>\n",
       "      <td>Series E</td>\n",
       "      <td>8,000,000</td>\n",
       "    </tr>\n",
       "    <tr>\n",
       "      <th>12</th>\n",
       "      <td>4</td>\n",
       "      <td>30/03/2021</td>\n",
       "      <td>BYJU’S</td>\n",
       "      <td>Edu-tech</td>\n",
       "      <td>Online tutoring</td>\n",
       "      <td>Bengaluru</td>\n",
       "      <td>MC Global Edtech, B Capital, Baron, others</td>\n",
       "      <td>Series F</td>\n",
       "      <td>460,000,000</td>\n",
       "    </tr>\n",
       "    <tr>\n",
       "      <th>13</th>\n",
       "      <td>5</td>\n",
       "      <td>23/03/2021</td>\n",
       "      <td>SkilloVilla</td>\n",
       "      <td>Edu-tech</td>\n",
       "      <td>Career and job-oriented upskilling.</td>\n",
       "      <td>Bengaluru</td>\n",
       "      <td>Titan Capital, others</td>\n",
       "      <td>Seed</td>\n",
       "      <td>300,000,000</td>\n",
       "    </tr>\n",
       "    <tr>\n",
       "      <th>14</th>\n",
       "      <td>6</td>\n",
       "      <td>25/03/2021</td>\n",
       "      <td>CityMall</td>\n",
       "      <td>E-commerce</td>\n",
       "      <td>Social ecommerce and online grocery platform</td>\n",
       "      <td>Gurgaon</td>\n",
       "      <td>Accel Partners</td>\n",
       "      <td>Series A</td>\n",
       "      <td>11,000,000</td>\n",
       "    </tr>\n",
       "    <tr>\n",
       "      <th>15</th>\n",
       "      <td>7</td>\n",
       "      <td>26/03/2021</td>\n",
       "      <td>DotPe</td>\n",
       "      <td>FinTech</td>\n",
       "      <td>Commerce and payments platform to offline ente...</td>\n",
       "      <td>Gurgaon</td>\n",
       "      <td>PayU</td>\n",
       "      <td>Series A</td>\n",
       "      <td>27,500,000</td>\n",
       "    </tr>\n",
       "    <tr>\n",
       "      <th>17</th>\n",
       "      <td></td>\n",
       "      <td></td>\n",
       "      <td></td>\n",
       "      <td></td>\n",
       "      <td></td>\n",
       "      <td></td>\n",
       "      <td></td>\n",
       "      <td></td>\n",
       "      <td></td>\n",
       "    </tr>\n",
       "    <tr>\n",
       "      <th>18</th>\n",
       "      <td>1</td>\n",
       "      <td>11/02/2021</td>\n",
       "      <td>Doubtnut</td>\n",
       "      <td>Edu Tech</td>\n",
       "      <td>E-Learning Platform</td>\n",
       "      <td>Gurgaon</td>\n",
       "      <td>SIG Global, Sequoia Capital, WaterBridge Ventu...</td>\n",
       "      <td>Series B</td>\n",
       "      <td>2,500,000</td>\n",
       "    </tr>\n",
       "    <tr>\n",
       "      <th>19</th>\n",
       "      <td>2</td>\n",
       "      <td>22/02/2021</td>\n",
       "      <td>Zomato</td>\n",
       "      <td>Hospitality</td>\n",
       "      <td>Online Food Delivery Platform</td>\n",
       "      <td>Gurgaon</td>\n",
       "      <td>Tiger Global, Kora</td>\n",
       "      <td>Venture</td>\n",
       "      <td>250,000,000</td>\n",
       "    </tr>\n",
       "    <tr>\n",
       "      <th>20</th>\n",
       "      <td>3</td>\n",
       "      <td>19/02/2021</td>\n",
       "      <td>Fingerlix</td>\n",
       "      <td>Hospitality</td>\n",
       "      <td>Semi-cooked food delivery app</td>\n",
       "      <td>Mumbai</td>\n",
       "      <td>Rhodium Trust, Accel Partners and Swiggy</td>\n",
       "      <td>Series C</td>\n",
       "      <td>2,747,045.20</td>\n",
       "    </tr>\n",
       "    <tr>\n",
       "      <th>21</th>\n",
       "      <td>4</td>\n",
       "      <td>17/02/2021</td>\n",
       "      <td>Zolve</td>\n",
       "      <td>FinTech</td>\n",
       "      <td>Global Neobank Venture</td>\n",
       "      <td>Mumbai</td>\n",
       "      <td>Accel Partners and Lightspeed Venture Partners</td>\n",
       "      <td>Seed</td>\n",
       "      <td>1,50,00,000</td>\n",
       "    </tr>\n",
       "    <tr>\n",
       "      <th>22</th>\n",
       "      <td>5</td>\n",
       "      <td>15/02/2021</td>\n",
       "      <td>KreditBee</td>\n",
       "      <td>Finance</td>\n",
       "      <td>Digital lending platform</td>\n",
       "      <td>Bengaluru</td>\n",
       "      <td>Azim Premji’s PremjiInvest and South Korea’s M...</td>\n",
       "      <td>Series C</td>\n",
       "      <td>75,000,000</td>\n",
       "    </tr>\n",
       "    <tr>\n",
       "      <th>23</th>\n",
       "      <td>6</td>\n",
       "      <td>12/02/2021</td>\n",
       "      <td>Pepperfry</td>\n",
       "      <td>E-commerce</td>\n",
       "      <td>Multi-brand furniture brand</td>\n",
       "      <td>Mumbai</td>\n",
       "      <td>InnoVen Capital</td>\n",
       "      <td>Debt Financing</td>\n",
       "      <td>4,773,958</td>\n",
       "    </tr>\n",
       "    <tr>\n",
       "      <th>24</th>\n",
       "      <td>7</td>\n",
       "      <td>12/02/2021</td>\n",
       "      <td>Grofers</td>\n",
       "      <td>E-Commerce</td>\n",
       "      <td>Online supermarket</td>\n",
       "      <td>Gurgaon</td>\n",
       "      <td>SoftBank Vision Fund (SVF)</td>\n",
       "      <td>Unspecified</td>\n",
       "      <td>55,000,000</td>\n",
       "    </tr>\n",
       "    <tr>\n",
       "      <th>25</th>\n",
       "      <td>8</td>\n",
       "      <td>09/02/2021</td>\n",
       "      <td>Nothing</td>\n",
       "      <td>Technology</td>\n",
       "      <td>Consumer Technology Venture</td>\n",
       "      <td>London</td>\n",
       "      <td>GV</td>\n",
       "      <td>Series A</td>\n",
       "      <td>15,000,000</td>\n",
       "    </tr>\n",
       "    <tr>\n",
       "      <th>26</th>\n",
       "      <td>9</td>\n",
       "      <td>09/02/2021</td>\n",
       "      <td>SplashLearn</td>\n",
       "      <td>EdTech</td>\n",
       "      <td>Game-based learning programme</td>\n",
       "      <td>Gurgaon</td>\n",
       "      <td>Owl Ventures</td>\n",
       "      <td>Series C</td>\n",
       "      <td>18,000,000</td>\n",
       "    </tr>\n",
       "    <tr>\n",
       "      <th>28</th>\n",
       "      <td></td>\n",
       "      <td></td>\n",
       "      <td></td>\n",
       "      <td></td>\n",
       "      <td></td>\n",
       "      <td></td>\n",
       "      <td></td>\n",
       "      <td></td>\n",
       "      <td></td>\n",
       "    </tr>\n",
       "    <tr>\n",
       "      <th>29</th>\n",
       "      <td>8</td>\n",
       "      <td>13/01/2021</td>\n",
       "      <td>Saveo</td>\n",
       "      <td>B2B E-commerce</td>\n",
       "      <td>Pharmacies</td>\n",
       "      <td>Bengaluru</td>\n",
       "      <td>Matrix Partners India, RTP Global, others</td>\n",
       "      <td>Seed</td>\n",
       "      <td>4,000,000</td>\n",
       "    </tr>\n",
       "    <tr>\n",
       "      <th>30</th>\n",
       "      <td>7</td>\n",
       "      <td>11/01/2021</td>\n",
       "      <td>True Elements</td>\n",
       "      <td>Food Startup</td>\n",
       "      <td>Whole Food plant based Nashta</td>\n",
       "      <td>Pune</td>\n",
       "      <td>SIDBI Venture Capital</td>\n",
       "      <td>Series</td>\n",
       "      <td>100,000,000</td>\n",
       "    </tr>\n",
       "    <tr>\n",
       "      <th>31</th>\n",
       "      <td>6</td>\n",
       "      <td>18/01/2021</td>\n",
       "      <td>Udayy</td>\n",
       "      <td>EdTech</td>\n",
       "      <td>Online learning platform for kids in class 1-5</td>\n",
       "      <td>Gurgaon</td>\n",
       "      <td>Sequoia Capital</td>\n",
       "      <td>Seed Funding</td>\n",
       "      <td>15,000,000</td>\n",
       "    </tr>\n",
       "    <tr>\n",
       "      <th>32</th>\n",
       "      <td>5</td>\n",
       "      <td>18/01/2021</td>\n",
       "      <td>mfine</td>\n",
       "      <td>Health Tech Startup</td>\n",
       "      <td>AI-powered telemedicine mobile app</td>\n",
       "      <td>Bengaluru</td>\n",
       "      <td>Heritas Capital Management</td>\n",
       "      <td>Venture Round</td>\n",
       "      <td>16,000,000</td>\n",
       "    </tr>\n",
       "    <tr>\n",
       "      <th>33</th>\n",
       "      <td>4</td>\n",
       "      <td>19/01/2021</td>\n",
       "      <td>Darwinbox</td>\n",
       "      <td>SaaS</td>\n",
       "      <td>HR Tech</td>\n",
       "      <td>Mumbai</td>\n",
       "      <td>Salesforce Ventures</td>\n",
       "      <td>Seed</td>\n",
       "      <td>15,000,000</td>\n",
       "    </tr>\n",
       "    <tr>\n",
       "      <th>34</th>\n",
       "      <td>3</td>\n",
       "      <td>19/01/2021</td>\n",
       "      <td>DeHaat</td>\n",
       "      <td>AgriTech Startup</td>\n",
       "      <td>online marketplace for farm products and services</td>\n",
       "      <td>Patna</td>\n",
       "      <td>Prosus Ventures</td>\n",
       "      <td>Series C</td>\n",
       "      <td>30,000,000</td>\n",
       "    </tr>\n",
       "    <tr>\n",
       "      <th>35</th>\n",
       "      <td>2</td>\n",
       "      <td>28/01/2021</td>\n",
       "      <td>Bombay Shaving Company</td>\n",
       "      <td>Consumer Goods Company</td>\n",
       "      <td>Shave care, beard care, and skincare products</td>\n",
       "      <td>New Delhi</td>\n",
       "      <td>Reckitt Benckiser</td>\n",
       "      <td>Venture</td>\n",
       "      <td>6,172,258.50</td>\n",
       "    </tr>\n",
       "    <tr>\n",
       "      <th>36</th>\n",
       "      <td>1</td>\n",
       "      <td>15/01/2021</td>\n",
       "      <td>Digit Insurance</td>\n",
       "      <td>Financial Services</td>\n",
       "      <td>Insurance Services</td>\n",
       "      <td>Bengaluru</td>\n",
       "      <td>A91 Partners, Faering Capital, TVS Capital Funds</td>\n",
       "      <td>Venture</td>\n",
       "      <td>1,80,00,000</td>\n",
       "    </tr>\n",
       "  </tbody>\n",
       "</table>\n",
       "</div>"
      ],
      "text/plain": [
       "   Sr.No        Date            Startup_name                Industry  \\\n",
       "1                                                                      \n",
       "2      1  01/04/2021                  BYJU’S                Edu-tech   \n",
       "3      2  05/04/2021                  Meesho              E-commerce   \n",
       "4      3  14/04/2021                  Swiggy    Online Food Delivery   \n",
       "5      4  07/04/2021                   Groww                 FinTech   \n",
       "6      5  14/04/2021                 Beldara              E-commerce   \n",
       "8                                                                      \n",
       "9      1  04/03/2021               DealShare              E-commerce   \n",
       "10     2  31/03/2021                Uniphore              Technology   \n",
       "11     3  30/03/2021                   Dunzo              E-commerce   \n",
       "12     4  30/03/2021                  BYJU’S                Edu-tech   \n",
       "13     5  23/03/2021             SkilloVilla                Edu-tech   \n",
       "14     6  25/03/2021                CityMall              E-commerce   \n",
       "15     7  26/03/2021                   DotPe                 FinTech   \n",
       "17                                                                     \n",
       "18     1  11/02/2021                Doubtnut                Edu Tech   \n",
       "19     2  22/02/2021                  Zomato             Hospitality   \n",
       "20     3  19/02/2021               Fingerlix             Hospitality   \n",
       "21     4  17/02/2021                   Zolve                 FinTech   \n",
       "22     5  15/02/2021               KreditBee                 Finance   \n",
       "23     6  12/02/2021               Pepperfry              E-commerce   \n",
       "24     7  12/02/2021                 Grofers              E-Commerce   \n",
       "25     8  09/02/2021                 Nothing              Technology   \n",
       "26     9  09/02/2021             SplashLearn                  EdTech   \n",
       "28                                                                     \n",
       "29     8  13/01/2021                   Saveo          B2B E-commerce   \n",
       "30     7  11/01/2021           True Elements            Food Startup   \n",
       "31     6  18/01/2021                   Udayy                  EdTech   \n",
       "32     5  18/01/2021                   mfine     Health Tech Startup   \n",
       "33     4  19/01/2021               Darwinbox                    SaaS   \n",
       "34     3  19/01/2021                  DeHaat        AgriTech Startup   \n",
       "35     2  28/01/2021  Bombay Shaving Company  Consumer Goods Company   \n",
       "36     1  15/01/2021         Digit Insurance      Financial Services   \n",
       "\n",
       "                                         Sub_Vertical      City/Location  \\\n",
       "1                                                                          \n",
       "2                                     Online tutoring          Bengaluru   \n",
       "3                           Online reselling platform          Bengaluru   \n",
       "4                                Online Food Delivery          Bengaluru   \n",
       "5                                 Investment platform          Bengaluru   \n",
       "6                              Global B2B marketplace             Mumbai   \n",
       "8                                                                          \n",
       "9                            Online shopping platform  Jaipur, Rajasthan   \n",
       "10            Conversational Service Automation (CSA)          Palo Alto   \n",
       "11                           Hyper-local delivery app          Bengaluru   \n",
       "12                                    Online tutoring          Bengaluru   \n",
       "13                Career and job-oriented upskilling.          Bengaluru   \n",
       "14       Social ecommerce and online grocery platform            Gurgaon   \n",
       "15  Commerce and payments platform to offline ente...            Gurgaon   \n",
       "17                                                                         \n",
       "18                                E-Learning Platform            Gurgaon   \n",
       "19                      Online Food Delivery Platform            Gurgaon   \n",
       "20                      Semi-cooked food delivery app             Mumbai   \n",
       "21                             Global Neobank Venture             Mumbai   \n",
       "22                           Digital lending platform          Bengaluru   \n",
       "23                        Multi-brand furniture brand             Mumbai   \n",
       "24                                 Online supermarket            Gurgaon   \n",
       "25                        Consumer Technology Venture             London   \n",
       "26                      Game-based learning programme            Gurgaon   \n",
       "28                                                                         \n",
       "29                                         Pharmacies          Bengaluru   \n",
       "30                      Whole Food plant based Nashta               Pune   \n",
       "31     Online learning platform for kids in class 1-5            Gurgaon   \n",
       "32                 AI-powered telemedicine mobile app          Bengaluru   \n",
       "33                                            HR Tech             Mumbai   \n",
       "34  online marketplace for farm products and services              Patna   \n",
       "35      Shave care, beard care, and skincare products          New Delhi   \n",
       "36                                 Insurance Services          Bengaluru   \n",
       "\n",
       "                                       Investors_name Investment_Type  \\\n",
       "1                                                                       \n",
       "2                                     Innoven Capital        Series F   \n",
       "3                              SoftBank Vision Fund 2        Series E   \n",
       "4   Amansa Holdings, Carmignac, Falcon Edge Capita...        Series J   \n",
       "5          MC Global Edtech, B Capital, Baron, others        Series D   \n",
       "6                            Hindustan Media Ventures         Venture   \n",
       "8                                                                       \n",
       "9                                     Innoven Capital  Debt Financing   \n",
       "10                          Sorenson Capital Partners        Series D   \n",
       "11                          Krishtal Advisors Pte Ltd        Series E   \n",
       "12         MC Global Edtech, B Capital, Baron, others        Series F   \n",
       "13                              Titan Capital, others            Seed   \n",
       "14                                     Accel Partners        Series A   \n",
       "15                                               PayU        Series A   \n",
       "17                                                                      \n",
       "18  SIG Global, Sequoia Capital, WaterBridge Ventu...        Series B   \n",
       "19                                 Tiger Global, Kora         Venture   \n",
       "20           Rhodium Trust, Accel Partners and Swiggy        Series C   \n",
       "21     Accel Partners and Lightspeed Venture Partners            Seed   \n",
       "22  Azim Premji’s PremjiInvest and South Korea’s M...        Series C   \n",
       "23                                    InnoVen Capital  Debt Financing   \n",
       "24                         SoftBank Vision Fund (SVF)     Unspecified   \n",
       "25                                                 GV        Series A   \n",
       "26                                       Owl Ventures        Series C   \n",
       "28                                                                      \n",
       "29          Matrix Partners India, RTP Global, others            Seed   \n",
       "30                              SIDBI Venture Capital          Series   \n",
       "31                                    Sequoia Capital    Seed Funding   \n",
       "32                         Heritas Capital Management   Venture Round   \n",
       "33                                Salesforce Ventures            Seed   \n",
       "34                                    Prosus Ventures        Series C   \n",
       "35                                  Reckitt Benckiser         Venture   \n",
       "36   A91 Partners, Faering Capital, TVS Capital Funds         Venture   \n",
       "\n",
       "   Amount_in_USD  \n",
       "1                 \n",
       "2    460,000,000  \n",
       "3    300,000,000  \n",
       "4    343,000,000  \n",
       "5     83,000,000  \n",
       "6      7,400,000  \n",
       "8                 \n",
       "9    250,000,000  \n",
       "10   140,000,000  \n",
       "11     8,000,000  \n",
       "12   460,000,000  \n",
       "13   300,000,000  \n",
       "14    11,000,000  \n",
       "15    27,500,000  \n",
       "17                \n",
       "18     2,500,000  \n",
       "19   250,000,000  \n",
       "20  2,747,045.20  \n",
       "21   1,50,00,000  \n",
       "22    75,000,000  \n",
       "23     4,773,958  \n",
       "24    55,000,000  \n",
       "25    15,000,000  \n",
       "26    18,000,000  \n",
       "28                \n",
       "29     4,000,000  \n",
       "30   100,000,000  \n",
       "31    15,000,000  \n",
       "32    16,000,000  \n",
       "33    15,000,000  \n",
       "34    30,000,000  \n",
       "35  6,172,258.50  \n",
       "36   1,80,00,000  "
      ]
     },
     "execution_count": 639,
     "metadata": {},
     "output_type": "execute_result"
    }
   ],
   "source": [
    "df_6"
   ]
  },
  {
   "cell_type": "markdown",
   "id": "dd1af5a2",
   "metadata": {},
   "source": [
    "7.Write a program to scrap all the available details of best gaming laptops from digit.in."
   ]
  },
  {
   "cell_type": "code",
   "execution_count": 656,
   "id": "be5aeefc",
   "metadata": {},
   "outputs": [
    {
     "name": "stderr",
     "output_type": "stream",
     "text": [
      "C:\\Users\\anish\\AppData\\Local\\Temp/ipykernel_11936/229184199.py:7: DeprecationWarning: executable_path has been deprecated, please pass in a Service object\n",
      "  driver = wb.Chrome('chromedriver.exe')\n"
     ]
    }
   ],
   "source": [
    "#import selenium,webdriver,upload webdriver.exe\n",
    "from selenium import webdriver as wb\n",
    "import time\n",
    "from selenium.webdriver.support.select import Select\n",
    "from selenium.common.exceptions import NoSuchElementException\n",
    "#get the url and extract into html\n",
    "driver = wb.Chrome('chromedriver.exe')\n",
    "driver.get('https://digit.in/')"
   ]
  },
  {
   "cell_type": "code",
   "execution_count": 657,
   "id": "94d1d66f",
   "metadata": {},
   "outputs": [
    {
     "name": "stderr",
     "output_type": "stream",
     "text": [
      "C:\\Users\\anish\\AppData\\Local\\Temp/ipykernel_11936/3580061286.py:1: DeprecationWarning: find_element_by_class_name is deprecated. Please use find_element(by=By.CLASS_NAME, value=name) instead\n",
      "  driver.find_element_by_class_name('menu').find_elements_by_tag_name('li')[2].click()\n",
      "C:\\Users\\anish\\AppData\\Local\\Temp/ipykernel_11936/3580061286.py:1: DeprecationWarning: find_elements_by_tag_name is deprecated. Please use find_elements(by=By.TAG_NAME, value=name) instead\n",
      "  driver.find_element_by_class_name('menu').find_elements_by_tag_name('li')[2].click()\n"
     ]
    }
   ],
   "source": [
    "driver.find_element_by_class_name('menu').find_elements_by_tag_name('li')[2].click()"
   ]
  },
  {
   "cell_type": "code",
   "execution_count": 658,
   "id": "7d834dba",
   "metadata": {},
   "outputs": [
    {
     "name": "stderr",
     "output_type": "stream",
     "text": [
      "C:\\Users\\anish\\AppData\\Local\\Temp/ipykernel_11936/277269254.py:1: DeprecationWarning: find_element_by_class_name is deprecated. Please use find_element(by=By.CLASS_NAME, value=name) instead\n",
      "  driver.find_element_by_class_name('Listbrand').find_elements_by_tag_name('li')[-1].click()\n",
      "C:\\Users\\anish\\AppData\\Local\\Temp/ipykernel_11936/277269254.py:1: DeprecationWarning: find_elements_by_tag_name is deprecated. Please use find_elements(by=By.TAG_NAME, value=name) instead\n",
      "  driver.find_element_by_class_name('Listbrand').find_elements_by_tag_name('li')[-1].click()\n"
     ]
    }
   ],
   "source": [
    "driver.find_element_by_class_name('Listbrand').find_elements_by_tag_name('li')[-1].click()"
   ]
  },
  {
   "cell_type": "code",
   "execution_count": 792,
   "id": "82e76ff5",
   "metadata": {},
   "outputs": [
    {
     "name": "stderr",
     "output_type": "stream",
     "text": [
      "C:\\Users\\anish\\AppData\\Local\\Temp/ipykernel_11936/1679657913.py:2: DeprecationWarning: find_elements_by_class_name is deprecated. Please use find_elements(by=By.CLASS_NAME, value=name) instead\n",
      "  for i in driver.find_elements_by_class_name('Section-center'):\n"
     ]
    }
   ],
   "source": [
    "spec=[]\n",
    "for i in driver.find_elements_by_class_name('Section-center'):\n",
    "    spec.append(i.text.split('\\n'))\n"
   ]
  },
  {
   "cell_type": "code",
   "execution_count": 690,
   "id": "347c7086",
   "metadata": {},
   "outputs": [],
   "source": [
    "import pandas as pd"
   ]
  },
  {
   "cell_type": "code",
   "execution_count": 801,
   "id": "794b8bd7",
   "metadata": {},
   "outputs": [
    {
     "name": "stderr",
     "output_type": "stream",
     "text": [
      "C:\\Users\\anish\\AppData\\Local\\Temp/ipykernel_11936/3049992636.py:2: DeprecationWarning: find_element_by_class_name is deprecated. Please use find_element(by=By.CLASS_NAME, value=name) instead\n",
      "  for i in driver.find_element_by_class_name('right-container').find_elements_by_tag_name('h3'):\n",
      "C:\\Users\\anish\\AppData\\Local\\Temp/ipykernel_11936/3049992636.py:2: DeprecationWarning: find_elements_by_tag_name is deprecated. Please use find_elements(by=By.TAG_NAME, value=name) instead\n",
      "  for i in driver.find_element_by_class_name('right-container').find_elements_by_tag_name('h3'):\n"
     ]
    },
    {
     "data": {
      "text/plain": [
       "['MSI RAIDER GE76',\n",
       " 'ASUS ROG STRIX SCAR 15',\n",
       " 'ACER NITRO 5',\n",
       " 'MSI STEALTH 15M',\n",
       " 'ASUS ROG STRIX SCAR 15',\n",
       " 'ASUS ROG STRIX SCAR 15',\n",
       " 'ASUS ZEPHYRUS G14',\n",
       " 'HP OMEN 16',\n",
       " 'ASUS ROG ZEPHYRUS DUO 15',\n",
       " 'ACER ASPIRE 7 GAMING LAPTOP']"
      ]
     },
     "execution_count": 801,
     "metadata": {},
     "output_type": "execute_result"
    }
   ],
   "source": [
    "name=[]\n",
    "for i in driver.find_element_by_class_name('right-container').find_elements_by_tag_name('h3'):\n",
    "    name.append( i.text)\n",
    "name"
   ]
  },
  {
   "cell_type": "code",
   "execution_count": 788,
   "id": "fe4576fc",
   "metadata": {},
   "outputs": [],
   "source": [
    "laptop = pd.DataFrame(zip(spec[0],spec[1],spec[2],spec[3],spec[4],spec[5],spec[6],spec[7],spec[8],spec[9],),columns=('a','b','c','d','e','f','g','h','i','j'))\n"
   ]
  },
  {
   "cell_type": "code",
   "execution_count": 741,
   "id": "b32caf2f",
   "metadata": {},
   "outputs": [],
   "source": [
    "p=laptop.transpose()"
   ]
  },
  {
   "cell_type": "code",
   "execution_count": 744,
   "id": "50a76067",
   "metadata": {},
   "outputs": [],
   "source": [
    "d = pd.DataFrame(name)"
   ]
  },
  {
   "cell_type": "code",
   "execution_count": 753,
   "id": "a8e5cfda",
   "metadata": {},
   "outputs": [],
   "source": [
    "laptop = pd.DataFrame(zip(spec[0],spec[1],spec[2],spec[3],spec[4],spec[5],spec[6],spec[7],spec[8],spec[9]))"
   ]
  },
  {
   "cell_type": "code",
   "execution_count": 755,
   "id": "09ececc9",
   "metadata": {},
   "outputs": [
    {
     "data": {
      "text/html": [
       "<div>\n",
       "<style scoped>\n",
       "    .dataframe tbody tr th:only-of-type {\n",
       "        vertical-align: middle;\n",
       "    }\n",
       "\n",
       "    .dataframe tbody tr th {\n",
       "        vertical-align: top;\n",
       "    }\n",
       "\n",
       "    .dataframe thead th {\n",
       "        text-align: right;\n",
       "    }\n",
       "</style>\n",
       "<table border=\"1\" class=\"dataframe\">\n",
       "  <thead>\n",
       "    <tr style=\"text-align: right;\">\n",
       "      <th></th>\n",
       "      <th>0</th>\n",
       "      <th>0</th>\n",
       "      <th>1</th>\n",
       "      <th>2</th>\n",
       "      <th>3</th>\n",
       "      <th>4</th>\n",
       "      <th>5</th>\n",
       "      <th>6</th>\n",
       "      <th>7</th>\n",
       "      <th>8</th>\n",
       "      <th>9</th>\n",
       "      <th>10</th>\n",
       "      <th>11</th>\n",
       "      <th>12</th>\n",
       "      <th>13</th>\n",
       "      <th>14</th>\n",
       "      <th>15</th>\n",
       "    </tr>\n",
       "  </thead>\n",
       "  <tbody>\n",
       "    <tr>\n",
       "      <th>0</th>\n",
       "      <td>MSI RAIDER GE76</td>\n",
       "      <td>Possibly the most high-end gaming laptop anyon...</td>\n",
       "      <td>SPECIFICATION</td>\n",
       "      <td>OS : Windows 11 Home</td>\n",
       "      <td>Display : 17\" (3840 x 2160)</td>\n",
       "      <td>Processor : 12th Gen Intel Core i9-12900HK | 5...</td>\n",
       "      <td>Memory : 2 TB SSD/16 GBGB DDR5</td>\n",
       "      <td>Weight : 2.9</td>\n",
       "      <td>Dimension : 397 x 284 x 26</td>\n",
       "      <td>Graphics Processor : NVIDIA GeForce RTX 3080Ti</td>\n",
       "      <td>AVAILABLE ₹ 429,940</td>\n",
       "      <td>BUY NOW</td>\n",
       "      <td>BUY ON EMI ₹ 71,656/MONTH</td>\n",
       "      <td>GET EMI</td>\n",
       "      <td>*0% Interest</td>\n",
       "      <td>*0 Down Payment</td>\n",
       "      <td>*No Processing Fee</td>\n",
       "    </tr>\n",
       "    <tr>\n",
       "      <th>1</th>\n",
       "      <td>ASUS ROG STRIX SCAR 15</td>\n",
       "      <td>The second high-end gaming laptop on the list ...</td>\n",
       "      <td>SPECIFICATION</td>\n",
       "      <td>OS : Windows 11 Home</td>\n",
       "      <td>Display : 15.6\" (2560 x 1440)</td>\n",
       "      <td>Processor : 12th Gen Intel Core i9-12900H | 2....</td>\n",
       "      <td>Memory : 2 TB SSD/32 GBGB DDR5</td>\n",
       "      <td>Weight : 2.3</td>\n",
       "      <td>Dimension : 259 x 354 x 27</td>\n",
       "      <td>Graphics Processor : NVIDIA GeForce RTX 3070 Ti</td>\n",
       "      <td>AVAILABLE ₹ 285,390</td>\n",
       "      <td>BUY NOW</td>\n",
       "      <td>BUY ON EMI ₹ 47,565/MONTH</td>\n",
       "      <td>GET EMI</td>\n",
       "      <td>*0% Interest</td>\n",
       "      <td>*0 Down Payment</td>\n",
       "      <td>*No Processing Fee</td>\n",
       "    </tr>\n",
       "    <tr>\n",
       "      <th>2</th>\n",
       "      <td>ACER NITRO 5</td>\n",
       "      <td>Possibly the best value-for-money gaming lapto...</td>\n",
       "      <td>SPECIFICATION</td>\n",
       "      <td>OS : Windows 10</td>\n",
       "      <td>Display : 15.6\" (1920 x 1080)</td>\n",
       "      <td>Processor : AMD Ryzen 9 Octa Core | 2.4 GHz</td>\n",
       "      <td>Memory : 1 TB HDD/16 GBGB DDR4</td>\n",
       "      <td>Weight : 2.4</td>\n",
       "      <td>Dimension : 363.4 x 255 x 23.9</td>\n",
       "      <td>Graphics Processor : NVIDIA GeForce RTX 3070</td>\n",
       "      <td>AVAILABLE ₹ 129,990</td>\n",
       "      <td>BUY NOW</td>\n",
       "      <td>BUY ON EMI ₹ 21,665/MONTH</td>\n",
       "      <td>GET EMI</td>\n",
       "      <td>*0% Interest</td>\n",
       "      <td>*0 Down Payment</td>\n",
       "      <td>*No Processing Fee</td>\n",
       "    </tr>\n",
       "    <tr>\n",
       "      <th>3</th>\n",
       "      <td>MSI STEALTH 15M</td>\n",
       "      <td>If you’re looking for a powerful gaming laptop...</td>\n",
       "      <td>SPECIFICATION</td>\n",
       "      <td>OS : Windows 10</td>\n",
       "      <td>Display : 15.6\" (1920 x 1080)</td>\n",
       "      <td>Processor : Intel Core i7 11th Gen - 11375H | NA</td>\n",
       "      <td>Memory : 1 TB SSD/16 GBGB DDR4</td>\n",
       "      <td>Weight : 1.7</td>\n",
       "      <td>Dimension : 358.3 x 248 x 16.15</td>\n",
       "      <td>Graphics Processor : NVIDIA GeForce RTX 3060</td>\n",
       "      <td>AVAILABLE ₹ 134,990</td>\n",
       "      <td>BUY NOW</td>\n",
       "      <td>BUY ON EMI ₹ 22,498/MONTH</td>\n",
       "      <td>GET EMI</td>\n",
       "      <td>*0% Interest</td>\n",
       "      <td>*0 Down Payment</td>\n",
       "      <td>*No Processing Fee</td>\n",
       "    </tr>\n",
       "    <tr>\n",
       "      <th>4</th>\n",
       "      <td>ASUS ROG STRIX SCAR 15</td>\n",
       "      <td>If you want possibly the best performance poss...</td>\n",
       "      <td>SPECIFICATION</td>\n",
       "      <td>OS : Windows 10</td>\n",
       "      <td>Display : 15.6\" (2560 x 1440)</td>\n",
       "      <td>Processor : AMD Ryzen 9 Octa Core - 5900HX | 3...</td>\n",
       "      <td>Memory : 2 TB SSD/32 GBGB DDR4</td>\n",
       "      <td>Weight : 2.30</td>\n",
       "      <td>Dimension : 354 x 259 x 22.6</td>\n",
       "      <td>Graphics Processor : NVIDIA GeForce RTX 3080</td>\n",
       "      <td>AVAILABLE ₹ 268,990</td>\n",
       "      <td>BUY NOW</td>\n",
       "      <td>OUT OF STOCK ₹ 193,990</td>\n",
       "      <td>BUY NOW</td>\n",
       "      <td>BUY ON EMI ₹ 32,331/MONTH</td>\n",
       "      <td>GET EMI</td>\n",
       "      <td>*0% Interest</td>\n",
       "    </tr>\n",
       "    <tr>\n",
       "      <th>5</th>\n",
       "      <td>ASUS ROG STRIX SCAR 15</td>\n",
       "      <td>When the ASUS ROG Strix Scar 15 ended up on ou...</td>\n",
       "      <td>Pros</td>\n",
       "      <td>1440p, 165Hz display is great for gaming.</td>\n",
       "      <td>Impressive performance beyond just gaming.</td>\n",
       "      <td>On-board speakers are loud and good.</td>\n",
       "      <td>Cons</td>\n",
       "      <td>Tends to run hot, but doesn't throttle.</td>\n",
       "      <td>No game leveraged 16GB VRAM on the Nvidia GeFo...</td>\n",
       "      <td>SPECIFICATION</td>\n",
       "      <td>OS : Windows 10 Home</td>\n",
       "      <td>Display : 15.6\" (1920 x 1080)</td>\n",
       "      <td>Processor : AMD Ryzen™ 9 5900HX | 3.3 GHz</td>\n",
       "      <td>Memory : 1 TB SSD/16 GBGB DDR4</td>\n",
       "      <td>Weight : 2.30</td>\n",
       "      <td>Dimension : 35.4 x 25.9 x 2.26</td>\n",
       "      <td>Graphics Processor : NVIDIA® GeForce RTX™ 3070</td>\n",
       "    </tr>\n",
       "    <tr>\n",
       "      <th>6</th>\n",
       "      <td>ASUS ZEPHYRUS G14</td>\n",
       "      <td>The Asus Zephyrus G14 is a first-of-its-kind g...</td>\n",
       "      <td>Pros</td>\n",
       "      <td>Impressive performance for the form-factor.</td>\n",
       "      <td>Anime Matrix display is a very well implemente...</td>\n",
       "      <td>Truly one-of-a-kind machine at the moment.</td>\n",
       "      <td>Cons</td>\n",
       "      <td>Heat makes the keyboard unusable.</td>\n",
       "      <td>Uses a mid-range SSD.</td>\n",
       "      <td>No Pg Up or Pg Dn keys</td>\n",
       "      <td>SPECIFICATION</td>\n",
       "      <td>OS : Windows 10 Home</td>\n",
       "      <td>Display : 14\" (1920 x 1080)</td>\n",
       "      <td>Processor : AMD 3rd Gen Ryzen 9 | 3.3 GHz</td>\n",
       "      <td>Memory : 1 TB SSD/16 GBGB DDR4</td>\n",
       "      <td>Weight : 1.65</td>\n",
       "      <td>Dimension : 32.5 x 22.1 x 1.8</td>\n",
       "    </tr>\n",
       "    <tr>\n",
       "      <th>7</th>\n",
       "      <td>HP OMEN 16</td>\n",
       "      <td>It is difficult to find a laptop that offers a...</td>\n",
       "      <td>SPECIFICATION</td>\n",
       "      <td>OS : Windows 11 Home</td>\n",
       "      <td>Display : 16.1\" (1920 x 1080)</td>\n",
       "      <td>Processor : 12th Gen Intel Core i7-12700H | 4....</td>\n",
       "      <td>Memory : 1 TB SSD/16 GBGB DDR4</td>\n",
       "      <td>Weight : 2.32</td>\n",
       "      <td>Dimension : 36.92 x 24.8 x 2.3</td>\n",
       "      <td>Graphics Processor : NVIDIA GeForce RTX 3060</td>\n",
       "      <td>AVAILABLE ₹ 139,990</td>\n",
       "      <td>BUY NOW</td>\n",
       "      <td>AVAILABLE ₹ 145,999</td>\n",
       "      <td>BUY NOW</td>\n",
       "      <td>BUY ON EMI ₹ 23,331/MONTH</td>\n",
       "      <td>GET EMI</td>\n",
       "      <td>*0% Interest</td>\n",
       "    </tr>\n",
       "    <tr>\n",
       "      <th>8</th>\n",
       "      <td>ASUS ROG ZEPHYRUS DUO 15</td>\n",
       "      <td>The machine is powered by an Intel Core i7-108...</td>\n",
       "      <td>SPECIFICATION</td>\n",
       "      <td>OS : Windows 10</td>\n",
       "      <td>Display : 15.6\" (3840 x 1100)</td>\n",
       "      <td>Processor : Intel Core i7 10th Gen 10875H | NA</td>\n",
       "      <td>Memory : 512 GB SSD/4 GBGB DDR4</td>\n",
       "      <td>Weight : 2.4</td>\n",
       "      <td>Dimension : 268.30 x 360.00 x 20.90</td>\n",
       "      <td>Graphics Processor : NVIDIA GeForce RTX 2070 M...</td>\n",
       "      <td>AVAILABLE ₹ 185,000</td>\n",
       "      <td>BUY NOW</td>\n",
       "      <td>BUY ON EMI ₹ 30,833/MONTH</td>\n",
       "      <td>GET EMI</td>\n",
       "      <td>*0% Interest</td>\n",
       "      <td>*0 Down Payment</td>\n",
       "      <td>*No Processing Fee</td>\n",
       "    </tr>\n",
       "    <tr>\n",
       "      <th>9</th>\n",
       "      <td>ACER ASPIRE 7 GAMING LAPTOP</td>\n",
       "      <td>The Acer Aspire 7 gaming laptop is a very capa...</td>\n",
       "      <td>Pros</td>\n",
       "      <td>Understated design</td>\n",
       "      <td>Great performance with AMD Ryzen 5 5500U</td>\n",
       "      <td>Excellent battery life</td>\n",
       "      <td>Good port selection</td>\n",
       "      <td>Cons</td>\n",
       "      <td>Highly uncalibrated display</td>\n",
       "      <td>The speakers could have been better</td>\n",
       "      <td>SPECIFICATION</td>\n",
       "      <td>OS : Windows 10 Home</td>\n",
       "      <td>Display : 15.6\" (1920 x 1080)</td>\n",
       "      <td>Processor : AMD Ryzen™ 5-5500U hexa-core | NA</td>\n",
       "      <td>Memory : 512 GB SSD/8 GBGB DDR4</td>\n",
       "      <td>Weight : 2.15</td>\n",
       "      <td>Dimension : 2.29 x 36.3 x 25.4</td>\n",
       "    </tr>\n",
       "  </tbody>\n",
       "</table>\n",
       "</div>"
      ],
      "text/plain": [
       "                            0   \\\n",
       "0              MSI RAIDER GE76   \n",
       "1       ASUS ROG STRIX SCAR 15   \n",
       "2                 ACER NITRO 5   \n",
       "3              MSI STEALTH 15M   \n",
       "4       ASUS ROG STRIX SCAR 15   \n",
       "5       ASUS ROG STRIX SCAR 15   \n",
       "6            ASUS ZEPHYRUS G14   \n",
       "7                   HP OMEN 16   \n",
       "8     ASUS ROG ZEPHYRUS DUO 15   \n",
       "9  ACER ASPIRE 7 GAMING LAPTOP   \n",
       "\n",
       "                                                  0              1   \\\n",
       "0  Possibly the most high-end gaming laptop anyon...  SPECIFICATION   \n",
       "1  The second high-end gaming laptop on the list ...  SPECIFICATION   \n",
       "2  Possibly the best value-for-money gaming lapto...  SPECIFICATION   \n",
       "3  If you’re looking for a powerful gaming laptop...  SPECIFICATION   \n",
       "4  If you want possibly the best performance poss...  SPECIFICATION   \n",
       "5  When the ASUS ROG Strix Scar 15 ended up on ou...           Pros   \n",
       "6  The Asus Zephyrus G14 is a first-of-its-kind g...           Pros   \n",
       "7  It is difficult to find a laptop that offers a...  SPECIFICATION   \n",
       "8  The machine is powered by an Intel Core i7-108...  SPECIFICATION   \n",
       "9  The Acer Aspire 7 gaming laptop is a very capa...           Pros   \n",
       "\n",
       "                                            2   \\\n",
       "0                         OS : Windows 11 Home   \n",
       "1                         OS : Windows 11 Home   \n",
       "2                              OS : Windows 10   \n",
       "3                              OS : Windows 10   \n",
       "4                              OS : Windows 10   \n",
       "5    1440p, 165Hz display is great for gaming.   \n",
       "6  Impressive performance for the form-factor.   \n",
       "7                         OS : Windows 11 Home   \n",
       "8                              OS : Windows 10   \n",
       "9                           Understated design   \n",
       "\n",
       "                                                  3   \\\n",
       "0                        Display : 17\" (3840 x 2160)   \n",
       "1                      Display : 15.6\" (2560 x 1440)   \n",
       "2                      Display : 15.6\" (1920 x 1080)   \n",
       "3                      Display : 15.6\" (1920 x 1080)   \n",
       "4                      Display : 15.6\" (2560 x 1440)   \n",
       "5         Impressive performance beyond just gaming.   \n",
       "6  Anime Matrix display is a very well implemente...   \n",
       "7                      Display : 16.1\" (1920 x 1080)   \n",
       "8                      Display : 15.6\" (3840 x 1100)   \n",
       "9           Great performance with AMD Ryzen 5 5500U   \n",
       "\n",
       "                                                  4   \\\n",
       "0  Processor : 12th Gen Intel Core i9-12900HK | 5...   \n",
       "1  Processor : 12th Gen Intel Core i9-12900H | 2....   \n",
       "2        Processor : AMD Ryzen 9 Octa Core | 2.4 GHz   \n",
       "3   Processor : Intel Core i7 11th Gen - 11375H | NA   \n",
       "4  Processor : AMD Ryzen 9 Octa Core - 5900HX | 3...   \n",
       "5               On-board speakers are loud and good.   \n",
       "6         Truly one-of-a-kind machine at the moment.   \n",
       "7  Processor : 12th Gen Intel Core i7-12700H | 4....   \n",
       "8     Processor : Intel Core i7 10th Gen 10875H | NA   \n",
       "9                             Excellent battery life   \n",
       "\n",
       "                                5                                        6   \\\n",
       "0   Memory : 2 TB SSD/16 GBGB DDR5                             Weight : 2.9   \n",
       "1   Memory : 2 TB SSD/32 GBGB DDR5                             Weight : 2.3   \n",
       "2   Memory : 1 TB HDD/16 GBGB DDR4                             Weight : 2.4   \n",
       "3   Memory : 1 TB SSD/16 GBGB DDR4                             Weight : 1.7   \n",
       "4   Memory : 2 TB SSD/32 GBGB DDR4                            Weight : 2.30   \n",
       "5                             Cons  Tends to run hot, but doesn't throttle.   \n",
       "6                             Cons        Heat makes the keyboard unusable.   \n",
       "7   Memory : 1 TB SSD/16 GBGB DDR4                            Weight : 2.32   \n",
       "8  Memory : 512 GB SSD/4 GBGB DDR4                             Weight : 2.4   \n",
       "9              Good port selection                                     Cons   \n",
       "\n",
       "                                                  7   \\\n",
       "0                         Dimension : 397 x 284 x 26   \n",
       "1                         Dimension : 259 x 354 x 27   \n",
       "2                     Dimension : 363.4 x 255 x 23.9   \n",
       "3                    Dimension : 358.3 x 248 x 16.15   \n",
       "4                       Dimension : 354 x 259 x 22.6   \n",
       "5  No game leveraged 16GB VRAM on the Nvidia GeFo...   \n",
       "6                              Uses a mid-range SSD.   \n",
       "7                     Dimension : 36.92 x 24.8 x 2.3   \n",
       "8                Dimension : 268.30 x 360.00 x 20.90   \n",
       "9                        Highly uncalibrated display   \n",
       "\n",
       "                                                  8                     9   \\\n",
       "0     Graphics Processor : NVIDIA GeForce RTX 3080Ti   AVAILABLE ₹ 429,940   \n",
       "1    Graphics Processor : NVIDIA GeForce RTX 3070 Ti   AVAILABLE ₹ 285,390   \n",
       "2       Graphics Processor : NVIDIA GeForce RTX 3070   AVAILABLE ₹ 129,990   \n",
       "3       Graphics Processor : NVIDIA GeForce RTX 3060   AVAILABLE ₹ 134,990   \n",
       "4       Graphics Processor : NVIDIA GeForce RTX 3080   AVAILABLE ₹ 268,990   \n",
       "5                                      SPECIFICATION  OS : Windows 10 Home   \n",
       "6                             No Pg Up or Pg Dn keys         SPECIFICATION   \n",
       "7       Graphics Processor : NVIDIA GeForce RTX 3060   AVAILABLE ₹ 139,990   \n",
       "8  Graphics Processor : NVIDIA GeForce RTX 2070 M...   AVAILABLE ₹ 185,000   \n",
       "9                The speakers could have been better         SPECIFICATION   \n",
       "\n",
       "                              10                                         11  \\\n",
       "0                        BUY NOW                  BUY ON EMI ₹ 71,656/MONTH   \n",
       "1                        BUY NOW                  BUY ON EMI ₹ 47,565/MONTH   \n",
       "2                        BUY NOW                  BUY ON EMI ₹ 21,665/MONTH   \n",
       "3                        BUY NOW                  BUY ON EMI ₹ 22,498/MONTH   \n",
       "4                        BUY NOW                     OUT OF STOCK ₹ 193,990   \n",
       "5  Display : 15.6\" (1920 x 1080)  Processor : AMD Ryzen™ 9 5900HX | 3.3 GHz   \n",
       "6           OS : Windows 10 Home                Display : 14\" (1920 x 1080)   \n",
       "7                        BUY NOW                        AVAILABLE ₹ 145,999   \n",
       "8                        BUY NOW                  BUY ON EMI ₹ 30,833/MONTH   \n",
       "9           OS : Windows 10 Home              Display : 15.6\" (1920 x 1080)   \n",
       "\n",
       "                                              12  \\\n",
       "0                                        GET EMI   \n",
       "1                                        GET EMI   \n",
       "2                                        GET EMI   \n",
       "3                                        GET EMI   \n",
       "4                                        BUY NOW   \n",
       "5                 Memory : 1 TB SSD/16 GBGB DDR4   \n",
       "6      Processor : AMD 3rd Gen Ryzen 9 | 3.3 GHz   \n",
       "7                                        BUY NOW   \n",
       "8                                        GET EMI   \n",
       "9  Processor : AMD Ryzen™ 5-5500U hexa-core | NA   \n",
       "\n",
       "                                13                              14  \\\n",
       "0                     *0% Interest                 *0 Down Payment   \n",
       "1                     *0% Interest                 *0 Down Payment   \n",
       "2                     *0% Interest                 *0 Down Payment   \n",
       "3                     *0% Interest                 *0 Down Payment   \n",
       "4        BUY ON EMI ₹ 32,331/MONTH                         GET EMI   \n",
       "5                    Weight : 2.30  Dimension : 35.4 x 25.9 x 2.26   \n",
       "6   Memory : 1 TB SSD/16 GBGB DDR4                   Weight : 1.65   \n",
       "7        BUY ON EMI ₹ 23,331/MONTH                         GET EMI   \n",
       "8                     *0% Interest                 *0 Down Payment   \n",
       "9  Memory : 512 GB SSD/8 GBGB DDR4                   Weight : 2.15   \n",
       "\n",
       "                                               15  \n",
       "0                              *No Processing Fee  \n",
       "1                              *No Processing Fee  \n",
       "2                              *No Processing Fee  \n",
       "3                              *No Processing Fee  \n",
       "4                                    *0% Interest  \n",
       "5  Graphics Processor : NVIDIA® GeForce RTX™ 3070  \n",
       "6                   Dimension : 32.5 x 22.1 x 1.8  \n",
       "7                                    *0% Interest  \n",
       "8                              *No Processing Fee  \n",
       "9                  Dimension : 2.29 x 36.3 x 25.4  "
      ]
     },
     "execution_count": 755,
     "metadata": {},
     "output_type": "execute_result"
    }
   ],
   "source": [
    "Laptop_Details = pd.concat([d, laptop.transpose()], axis=1)\n",
    "Laptop_Details"
   ]
  },
  {
   "cell_type": "code",
   "execution_count": 798,
   "id": "a2c95734",
   "metadata": {},
   "outputs": [
    {
     "data": {
      "text/plain": [
       "[('MSI RAIDER GE76',\n",
       "  ['Possibly the most high-end gaming laptop anyone can buy is the MSI Raider GTE76 2022 edition. Last year’s model was impressive that it won the Digit Zero 1 award for the best gaming laptop bar none. The current year model is no different either. It comes with an Intel 12th Gen Core i9-12900HK chip, which is a 14-core, 20-thread CPU. It is probably the most powerful processor in a laptop at the time of writing this article. It is paired with an equally capable Nvidia GeForce RTX 3080 Ti with 16GB GDDR6 VRAM featuring 175W TGP. The laptop also features 32GB DDR5 memory running in Quad-channel mode. To top it all off, the MSI Raider GE76 also comes equipped with a 2TB NVMe PCIe Gen 4 SSD to load all your files and games in an instant. If you have the budget, then the MSI Raider GE76 stands top of the list of the best gaming laptops and it’ll do so probably for a while now.',\n",
       "   'SPECIFICATION',\n",
       "   'OS : Windows 11 Home',\n",
       "   'Display : 17\" (3840 x 2160)',\n",
       "   'Processor : 12th Gen Intel Core i9-12900HK | 5 GHz',\n",
       "   'Memory : 2 TB SSD/16 GBGB DDR5',\n",
       "   'Weight : 2.9',\n",
       "   'Dimension : 397 x 284 x 26',\n",
       "   'Graphics Processor : NVIDIA GeForce RTX 3080Ti',\n",
       "   'AVAILABLE ₹ 429,940',\n",
       "   'BUY NOW',\n",
       "   'BUY ON EMI ₹ 71,656/MONTH',\n",
       "   'GET EMI',\n",
       "   '*0% Interest',\n",
       "   '*0 Down Payment',\n",
       "   '*No Processing Fee']),\n",
       " ('ASUS ROG STRIX SCAR 15',\n",
       "  ['The second high-end gaming laptop on the list is the ASUS ROG Strix Scar 15 featuring an Intel 12th Gen Core i9-12900H CPU and an Nvidia RTX 3080 Ti GPU. The Intel chip is a little slower than the Core i9-12900HK mostly in multicore performance, but in most applications, the user will hardly notice a major difference. Both, the Intel Core i9-12900HK and the i9-12900H can hit the 5.00GHz boost clock, which is also a good thing. The top gaming laptop features an Nvidia RTX 3080 Ti GPU with 16GB GDDR6 VRAM and 150W TGP. The ASUS ROG Strix Scar 15 also features 32GB DDR5 memory running in quad-channel mode. For easy and fast access to all your files, the ASUS ROG Strix Scar 15 comes equipped with a PCI Gen 4 SSD as well. Overall, it is one of the top gaming laptops in India that money can buy.',\n",
       "   'SPECIFICATION',\n",
       "   'OS : Windows 11 Home',\n",
       "   'Display : 15.6\" (2560 x 1440)',\n",
       "   'Processor : 12th Gen Intel Core i9-12900H | 2.5 GHz',\n",
       "   'Memory : 2 TB SSD/32 GBGB DDR5',\n",
       "   'Weight : 2.3',\n",
       "   'Dimension : 259 x 354 x 27',\n",
       "   'Graphics Processor : NVIDIA GeForce RTX 3070 Ti',\n",
       "   'AVAILABLE ₹ 285,390',\n",
       "   'BUY NOW',\n",
       "   'BUY ON EMI ₹ 47,565/MONTH',\n",
       "   'GET EMI',\n",
       "   '*0% Interest',\n",
       "   '*0 Down Payment',\n",
       "   '*No Processing Fee']),\n",
       " ('ACER NITRO 5',\n",
       "  ['Possibly the best value-for-money gaming laptop on the market, the Acer Nitro 5 checks all the right boxes. It features an ultra-fast Ryzen 9 Octa-Core processor paired with an RTX 3070 GPU. The high-end gaming laptop comes with 16GB RAM, 256GB SSD, 1TB SSD and a 15.6-inch FHD display.',\n",
       "   'SPECIFICATION',\n",
       "   'OS : Windows 10',\n",
       "   'Display : 15.6\" (1920 x 1080)',\n",
       "   'Processor : AMD Ryzen 9 Octa Core | 2.4 GHz',\n",
       "   'Memory : 1 TB HDD/16 GBGB DDR4',\n",
       "   'Weight : 2.4',\n",
       "   'Dimension : 363.4 x 255 x 23.9',\n",
       "   'Graphics Processor : NVIDIA GeForce RTX 3070',\n",
       "   'AVAILABLE ₹ 129,990',\n",
       "   'BUY NOW',\n",
       "   'BUY ON EMI ₹ 21,665/MONTH',\n",
       "   'GET EMI',\n",
       "   '*0% Interest',\n",
       "   '*0 Down Payment',\n",
       "   '*No Processing Fee']),\n",
       " ('MSI STEALTH 15M',\n",
       "  ['If you’re looking for a powerful gaming laptop that is also portable then MSI Stealth 15M is the one for you. It strikes a great balance between form factor and performance thanks to the 11th Gen Core i7 processor, RTX 3060 GPU, 16GB RAM, and 1TB SSD. On top of that, the high-end gaming laptop looks very sleek.',\n",
       "   'SPECIFICATION',\n",
       "   'OS : Windows 10',\n",
       "   'Display : 15.6\" (1920 x 1080)',\n",
       "   'Processor : Intel Core i7 11th Gen - 11375H | NA',\n",
       "   'Memory : 1 TB SSD/16 GBGB DDR4',\n",
       "   'Weight : 1.7',\n",
       "   'Dimension : 358.3 x 248 x 16.15',\n",
       "   'Graphics Processor : NVIDIA GeForce RTX 3060',\n",
       "   'AVAILABLE ₹ 134,990',\n",
       "   'BUY NOW',\n",
       "   'BUY ON EMI ₹ 22,498/MONTH',\n",
       "   'GET EMI',\n",
       "   '*0% Interest',\n",
       "   '*0 Down Payment',\n",
       "   '*No Processing Fee']),\n",
       " ('ASUS ROG STRIX SCAR 15',\n",
       "  ['If you want possibly the best performance possible on a gaming laptop that’s not Alienware then ASUS ROG Strix Scar 15 should fir the bill. It’s on the list of the best gaming laptops thanks to a superfast Ryzen 9 5900HX processor, an Nvidia RTX 3080 GPU, 32GB RAM, and 2TB SSD. The laptop is a super-charged machine capable of delivering high performance in all modern tasks.',\n",
       "   'SPECIFICATION',\n",
       "   'OS : Windows 10',\n",
       "   'Display : 15.6\" (2560 x 1440)',\n",
       "   'Processor : AMD Ryzen 9 Octa Core - 5900HX | 3.3 GHz',\n",
       "   'Memory : 2 TB SSD/32 GBGB DDR4',\n",
       "   'Weight : 2.30',\n",
       "   'Dimension : 354 x 259 x 22.6',\n",
       "   'Graphics Processor : NVIDIA GeForce RTX 3080',\n",
       "   'AVAILABLE ₹ 268,990',\n",
       "   'BUY NOW',\n",
       "   'OUT OF STOCK ₹ 193,990',\n",
       "   'BUY NOW',\n",
       "   'BUY ON EMI ₹ 32,331/MONTH',\n",
       "   'GET EMI',\n",
       "   '*0% Interest',\n",
       "   '*0 Down Payment',\n",
       "   '*No Processing Fee']),\n",
       " ('ASUS ROG STRIX SCAR 15',\n",
       "  [\"When the ASUS ROG Strix Scar 15 ended up on our test bench, we immediately knew it was overkill. But you know what? It's a good kind of overkill. ASUS' annual upgrade to the Scar lineup saw some significant changes this year and we like most of them. The Asus ROG Strix Scar 15 comes with up to AMD Ryzen 9 5900HX and Nvidia GeForce RTX 3080. The laptop also features per-key RGB on its opto-mechanical keyboard. The new Scar laptops also have a slightly new design, making them look a little different from the older ones. It's also worth pointing out that the laptop comes with a 15.6-inch 1440p display with a refresh rate of 165Hz.\",\n",
       "   'Pros',\n",
       "   '1440p, 165Hz display is great for gaming.',\n",
       "   'Impressive performance beyond just gaming.',\n",
       "   'On-board speakers are loud and good.',\n",
       "   'Cons',\n",
       "   \"Tends to run hot, but doesn't throttle.\",\n",
       "   'No game leveraged 16GB VRAM on the Nvidia GeForce RTX 3080.',\n",
       "   'SPECIFICATION',\n",
       "   'OS : Windows 10 Home',\n",
       "   'Display : 15.6\" (1920 x 1080)',\n",
       "   'Processor : AMD Ryzen™ 9 5900HX | 3.3 GHz',\n",
       "   'Memory : 1 TB SSD/16 GBGB DDR4',\n",
       "   'Weight : 2.30',\n",
       "   'Dimension : 35.4 x 25.9 x 2.26',\n",
       "   'Graphics Processor : NVIDIA® GeForce RTX™ 3070',\n",
       "   'AVAILABLE ₹ 215,990',\n",
       "   'BUY NOW',\n",
       "   'BUY ON EMI ₹ 35,998/MONTH',\n",
       "   'GET EMI',\n",
       "   '*0% Interest',\n",
       "   '*0 Down Payment',\n",
       "   '*No Processing Fee']),\n",
       " ('ASUS ZEPHYRUS G14',\n",
       "  ['The Asus Zephyrus G14 is a first-of-its-kind gaming laptop, featuring a high-power 8-core CPU in a 14-inch chassis. Powered by the AMD Ryzen 4000 series processors going all the way up to Ryzen 9 4900HS and an Nvidia GeForce RTX 2060, the AMD Zephyrus G14 is a perfect laptop for those kinds of people who like to game and create, but put a priority on doing so using a light-weight machine.',\n",
       "   'Pros',\n",
       "   'Impressive performance for the form-factor.',\n",
       "   'Anime Matrix display is a very well implemented gimmick.',\n",
       "   'Truly one-of-a-kind machine at the moment.',\n",
       "   'Cons',\n",
       "   'Heat makes the keyboard unusable.',\n",
       "   'Uses a mid-range SSD.',\n",
       "   'No Pg Up or Pg Dn keys',\n",
       "   'SPECIFICATION',\n",
       "   'OS : Windows 10 Home',\n",
       "   'Display : 14\" (1920 x 1080)',\n",
       "   'Processor : AMD 3rd Gen Ryzen 9 | 3.3 GHz',\n",
       "   'Memory : 1 TB SSD/16 GBGB DDR4',\n",
       "   'Weight : 1.65',\n",
       "   'Dimension : 32.5 x 22.1 x 1.8',\n",
       "   'Graphics Processor : NVIDIA GeForce RTX 2060',\n",
       "   'AVAILABLE ₹ 164,990',\n",
       "   'BUY NOW',\n",
       "   'OUT OF STOCK ₹ 144,990',\n",
       "   'BUY NOW',\n",
       "   'BUY ON EMI ₹ 24,165/MONTH',\n",
       "   'GET EMI',\n",
       "   '*0% Interest',\n",
       "   '*0 Down Payment',\n",
       "   '*No Processing Fee']),\n",
       " ('HP OMEN 16',\n",
       "  ['It is difficult to find a laptop that offers a good mixture of high specifications, good thermal performance, and a decent price tag. HP Omen 16 is probably one of the laptops that offer all these things in a great overall package. The gaming laptop is powered by an Intel Core i7-12700H an 14-core 20-thread processor capable of delivering up to 4.70GHz of maximum clock speed with Intel Turbo boost technology. The powerful CPU is paired with an Nvidia RTX 3060 GPU with 6GB GDDR6 VRAM, to deliver high performance while gaming. To further take advantage of these two chips, the HP Omen 16 gaming laptop also comes with a 16.1-inch 1080p display with support for up to 144Hz maximum refresh rate so the user can play all the modern gaming titles at a high refresh rate. For memory and storage, the HP Omen 16 comes with 16GB DDR5 memory running in quad-channel mode and 1TB PCIe NVMe M.2 SSD, making the laptop easily capable of handling games and other resource-heavy applications.',\n",
       "   'SPECIFICATION',\n",
       "   'OS : Windows 11 Home',\n",
       "   'Display : 16.1\" (1920 x 1080)',\n",
       "   'Processor : 12th Gen Intel Core i7-12700H | 4.7 GHz',\n",
       "   'Memory : 1 TB SSD/16 GBGB DDR4',\n",
       "   'Weight : 2.32',\n",
       "   'Dimension : 36.92 x 24.8 x 2.3',\n",
       "   'Graphics Processor : NVIDIA GeForce RTX 3060',\n",
       "   'AVAILABLE ₹ 139,990',\n",
       "   'BUY NOW',\n",
       "   'AVAILABLE ₹ 145,999',\n",
       "   'BUY NOW',\n",
       "   'BUY ON EMI ₹ 23,331/MONTH',\n",
       "   'GET EMI',\n",
       "   '*0% Interest',\n",
       "   '*0 Down Payment',\n",
       "   '*No Processing Fee']),\n",
       " ('ASUS ROG ZEPHYRUS DUO 15',\n",
       "  ['The machine is powered by an Intel Core i7-10875H processor, offering 8 cores and 16 threads. So, you can leave behind all your concerns around the CPU bottlenecking the overall performance during gaming. With an Nvidia GeForce RTX 2070 Max-Q, this laptop can manage pretty much anything game you throw at it and then some more. The star of the show however is the awesome 300Hz refresh rate capable, 1080p IPS panel on this gaming laptop. Yes, you read that correctly, 300Hz, which means you can get silky smooth, brag-worthy 300FPS on e-sports centric games on this machine.',\n",
       "   'SPECIFICATION',\n",
       "   'OS : Windows 10',\n",
       "   'Display : 15.6\" (3840 x 1100)',\n",
       "   'Processor : Intel Core i7 10th Gen 10875H | NA',\n",
       "   'Memory : 512 GB SSD/4 GBGB DDR4',\n",
       "   'Weight : 2.4',\n",
       "   'Dimension : 268.30 x 360.00 x 20.90',\n",
       "   'Graphics Processor : NVIDIA GeForce RTX 2070 Max-Q',\n",
       "   'AVAILABLE ₹ 185,000',\n",
       "   'BUY NOW',\n",
       "   'BUY ON EMI ₹ 30,833/MONTH',\n",
       "   'GET EMI',\n",
       "   '*0% Interest',\n",
       "   '*0 Down Payment',\n",
       "   '*No Processing Fee']),\n",
       " ('ACER ASPIRE 7 GAMING LAPTOP',\n",
       "  ['The Acer Aspire 7 gaming laptop is a very capable laptop that has made it to a lot of our recommendation lists. It costs less than Rs 60,000 but it packs a decent set of internals that should be enough to handle your gaming needs. The laptop even managed to run a lot of modern AAA titles without any issues even though it only has a GTX 1650 GPU. The Ryzen 5 5500U processor inside this laptop runs the show flawlessly. It also has a really good battery life, something that often goes missing when it comes to gaming laptops. You can check out our review of the laptop right here.',\n",
       "   'Pros',\n",
       "   'Understated design',\n",
       "   'Great performance with AMD Ryzen 5 5500U',\n",
       "   'Excellent battery life',\n",
       "   'Good port selection',\n",
       "   'Cons',\n",
       "   'Highly uncalibrated display',\n",
       "   'The speakers could have been better',\n",
       "   'SPECIFICATION',\n",
       "   'OS : Windows 10 Home',\n",
       "   'Display : 15.6\" (1920 x 1080)',\n",
       "   'Processor : AMD Ryzen™ 5-5500U hexa-core | NA',\n",
       "   'Memory : 512 GB SSD/8 GBGB DDR4',\n",
       "   'Weight : 2.15',\n",
       "   'Dimension : 2.29 x 36.3 x 25.4',\n",
       "   'Graphics Processor : NVIDIA® GeForce® GTX 1650',\n",
       "   'OUT OF STOCK ₹ 53,490',\n",
       "   'BUY NOW',\n",
       "   'BUY ON EMI ₹ 8,915/MONTH',\n",
       "   'GET EMI',\n",
       "   '*0% Interest',\n",
       "   '*0 Down Payment',\n",
       "   '*No Processing Fee'])]"
      ]
     },
     "execution_count": 798,
     "metadata": {},
     "output_type": "execute_result"
    }
   ],
   "source": [
    "Digits = list(zip(name,spec))\n",
    "Digits"
   ]
  },
  {
   "cell_type": "markdown",
   "id": "05aaa561",
   "metadata": {},
   "source": [
    "8.Write a python program to scrape the details for all billionaires from www.forbes.com. Details to be scrapped: “Rank”, “Name”, “Net worth”, “Age”, “Citizenship”, “Source”, “Industry”."
   ]
  },
  {
   "cell_type": "code",
   "execution_count": 54,
   "id": "86768f3b",
   "metadata": {},
   "outputs": [
    {
     "name": "stderr",
     "output_type": "stream",
     "text": [
      "C:\\Users\\anish\\AppData\\Local\\Temp/ipykernel_2576/1323015611.py:7: DeprecationWarning: executable_path has been deprecated, please pass in a Service object\n",
      "  driver = wb.Chrome('chromedriver.exe')\n"
     ]
    }
   ],
   "source": [
    "#import selenium,webdriver,upload webdriver.exe\n",
    "from selenium import webdriver as wb\n",
    "import time\n",
    "from selenium.webdriver.support.select import Select\n",
    "from selenium.common.exceptions import NoSuchElementException\n",
    "#get the url and extract into html\n",
    "driver = wb.Chrome('chromedriver.exe')\n",
    "driver.get('https://forbes.com/')"
   ]
  },
  {
   "cell_type": "code",
   "execution_count": 55,
   "id": "760e2ce0",
   "metadata": {},
   "outputs": [],
   "source": [
    "driver.maximize_window()"
   ]
  },
  {
   "cell_type": "code",
   "execution_count": 56,
   "id": "6a3ceb9a",
   "metadata": {},
   "outputs": [],
   "source": [
    "driver.execute_script(\"window.scrollTo(0, document.body.scrollHeight);\")"
   ]
  },
  {
   "cell_type": "code",
   "execution_count": 57,
   "id": "b191345a",
   "metadata": {},
   "outputs": [
    {
     "name": "stderr",
     "output_type": "stream",
     "text": [
      "C:\\Users\\anish\\AppData\\Local\\Temp/ipykernel_2576/2316292328.py:1: DeprecationWarning: find_elements_by_xpath is deprecated. Please use find_elements(by=By.XPATH, value=xpath) instead\n",
      "  forbes = driver.find_elements_by_xpath('//div[@class=\"channel__sidebar\"]')[3].find_element_by_tag_name('a').get_attribute('href')\n",
      "C:\\Users\\anish\\AppData\\Local\\Temp/ipykernel_2576/2316292328.py:1: DeprecationWarning: find_element_by_tag_name is deprecated. Please use find_element(by=By.TAG_NAME, value=name) instead\n",
      "  forbes = driver.find_elements_by_xpath('//div[@class=\"channel__sidebar\"]')[3].find_element_by_tag_name('a').get_attribute('href')\n"
     ]
    }
   ],
   "source": [
    "forbes = driver.find_elements_by_xpath('//div[@class=\"channel__sidebar\"]')[3].find_element_by_tag_name('a').get_attribute('href')"
   ]
  },
  {
   "cell_type": "code",
   "execution_count": 58,
   "id": "6bad2adb",
   "metadata": {},
   "outputs": [
    {
     "name": "stderr",
     "output_type": "stream",
     "text": [
      "C:\\Users\\anish\\AppData\\Local\\Temp/ipykernel_2576/2256741142.py:1: DeprecationWarning: executable_path has been deprecated, please pass in a Service object\n",
      "  driver = wb.Chrome('chromedriver.exe')\n"
     ]
    }
   ],
   "source": [
    "driver = wb.Chrome('chromedriver.exe')\n",
    "driver.get(forbes)\n",
    "time.sleep(3)"
   ]
  },
  {
   "cell_type": "code",
   "execution_count": 59,
   "id": "beafa294",
   "metadata": {},
   "outputs": [],
   "source": [
    "driver.execute_script(\"window.scrollTo(0, document.body.scrollHeight);\")\n",
    "time.sleep(5)"
   ]
  },
  {
   "cell_type": "code",
   "execution_count": 44,
   "id": "32318414",
   "metadata": {},
   "outputs": [
    {
     "name": "stderr",
     "output_type": "stream",
     "text": [
      "C:\\Users\\anish\\AppData\\Local\\Temp/ipykernel_2576/3075574193.py:1: DeprecationWarning: find_element_by_class_name is deprecated. Please use find_element(by=By.CLASS_NAME, value=name) instead\n",
      "  driver.find_element_by_class_name('tp-modal').find_element_by_tag_name('button').click()\n",
      "C:\\Users\\anish\\AppData\\Local\\Temp/ipykernel_2576/3075574193.py:1: DeprecationWarning: find_element_by_tag_name is deprecated. Please use find_element(by=By.TAG_NAME, value=name) instead\n",
      "  driver.find_element_by_class_name('tp-modal').find_element_by_tag_name('button').click()\n"
     ]
    }
   ],
   "source": [
    "driver.find_element_by_class_name('tp-modal').find_element_by_tag_name('button').click()"
   ]
  },
  {
   "cell_type": "code",
   "execution_count": 45,
   "id": "a8a5c1ef",
   "metadata": {},
   "outputs": [],
   "source": [
    "driver.maximize_window()"
   ]
  },
  {
   "cell_type": "code",
   "execution_count": 49,
   "id": "91c48e42",
   "metadata": {},
   "outputs": [
    {
     "name": "stderr",
     "output_type": "stream",
     "text": [
      "C:\\Users\\anish\\AppData\\Local\\Temp/ipykernel_2576/578790326.py:3: DeprecationWarning: find_elements_by_xpath is deprecated. Please use find_elements(by=By.XPATH, value=xpath) instead\n",
      "  l = driver.find_elements_by_xpath('//button[@class=\"goto-page__btn\"]')\n",
      "C:\\Users\\anish\\AppData\\Local\\Temp/ipykernel_2576/578790326.py:8: DeprecationWarning: find_elements_by_class_name is deprecated. Please use find_elements(by=By.CLASS_NAME, value=name) instead\n",
      "  for i in driver.find_elements_by_class_name('rank'):\n",
      "C:\\Users\\anish\\AppData\\Local\\Temp/ipykernel_2576/578790326.py:10: DeprecationWarning: find_elements_by_class_name is deprecated. Please use find_elements(by=By.CLASS_NAME, value=name) instead\n",
      "  for i in driver.find_elements_by_class_name('personName'):\n",
      "C:\\Users\\anish\\AppData\\Local\\Temp/ipykernel_2576/578790326.py:12: DeprecationWarning: find_elements_by_class_name is deprecated. Please use find_elements(by=By.CLASS_NAME, value=name) instead\n",
      "  for i in driver.find_elements_by_class_name('netWorth'):\n",
      "C:\\Users\\anish\\AppData\\Local\\Temp/ipykernel_2576/578790326.py:14: DeprecationWarning: find_elements_by_class_name is deprecated. Please use find_elements(by=By.CLASS_NAME, value=name) instead\n",
      "  for i in driver.find_elements_by_class_name('age'):\n",
      "C:\\Users\\anish\\AppData\\Local\\Temp/ipykernel_2576/578790326.py:16: DeprecationWarning: find_elements_by_class_name is deprecated. Please use find_elements(by=By.CLASS_NAME, value=name) instead\n",
      "  for i in driver.find_elements_by_class_name('countryOfCitizenship'):\n",
      "C:\\Users\\anish\\AppData\\Local\\Temp/ipykernel_2576/578790326.py:18: DeprecationWarning: find_elements_by_class_name is deprecated. Please use find_elements(by=By.CLASS_NAME, value=name) instead\n",
      "  for i in driver.find_elements_by_class_name('source-text'):\n",
      "C:\\Users\\anish\\AppData\\Local\\Temp/ipykernel_2576/578790326.py:20: DeprecationWarning: find_elements_by_class_name is deprecated. Please use find_elements(by=By.CLASS_NAME, value=name) instead\n",
      "  for i in driver.find_elements_by_class_name('category'):\n"
     ]
    }
   ],
   "source": [
    "S_No,Name,Net_worth,Age,Country,Source,Industry=[],[],[],[],[],[],[]\n",
    "for j in range(1,13):\n",
    "    l = driver.find_elements_by_xpath('//button[@class=\"goto-page__btn\"]')\n",
    "    driver.execute_script(\"arguments[0].click();\",l[j])\n",
    "    time.sleep(6)\n",
    "    driver.execute_script(\"window.scrollTo(0, document.body.scrollHeight);\")\n",
    "    time.sleep(6)\n",
    "    for i in driver.find_elements_by_class_name('rank'):\n",
    "        S_No.append(i.text)\n",
    "    for i in driver.find_elements_by_class_name('personName'):\n",
    "        Name.append(i.text)\n",
    "    for i in driver.find_elements_by_class_name('netWorth'):\n",
    "        Net_worth.append(i.text)\n",
    "    for i in driver.find_elements_by_class_name('age'):\n",
    "        Age.append(i.text)\n",
    "    for i in driver.find_elements_by_class_name('countryOfCitizenship'):\n",
    "        Country.append(i.text)\n",
    "    for i in driver.find_elements_by_class_name('source-text'):\n",
    "        Source.append(i.text)\n",
    "    for i in driver.find_elements_by_class_name('category'):\n",
    "        Industry.append(i.text)\n"
   ]
  },
  {
   "cell_type": "code",
   "execution_count": 51,
   "id": "9c18e642",
   "metadata": {},
   "outputs": [],
   "source": [
    "import pandas as pd"
   ]
  },
  {
   "cell_type": "code",
   "execution_count": 52,
   "id": "ecd53895",
   "metadata": {},
   "outputs": [],
   "source": [
    "df_8 = pd.DataFrame(zip(S_No,Name,Net_worth,Age,Country,Source,Industry),columns=('S_No','Name','Net_worth','Age','Country','Source','Industry'))"
   ]
  },
  {
   "cell_type": "code",
   "execution_count": 53,
   "id": "4159f4d3",
   "metadata": {},
   "outputs": [
    {
     "data": {
      "text/html": [
       "<div>\n",
       "<style scoped>\n",
       "    .dataframe tbody tr th:only-of-type {\n",
       "        vertical-align: middle;\n",
       "    }\n",
       "\n",
       "    .dataframe tbody tr th {\n",
       "        vertical-align: top;\n",
       "    }\n",
       "\n",
       "    .dataframe thead th {\n",
       "        text-align: right;\n",
       "    }\n",
       "</style>\n",
       "<table border=\"1\" class=\"dataframe\">\n",
       "  <thead>\n",
       "    <tr style=\"text-align: right;\">\n",
       "      <th></th>\n",
       "      <th>S_No</th>\n",
       "      <th>Name</th>\n",
       "      <th>Net_worth</th>\n",
       "      <th>Age</th>\n",
       "      <th>Country</th>\n",
       "      <th>Source</th>\n",
       "      <th>Industry</th>\n",
       "    </tr>\n",
       "  </thead>\n",
       "  <tbody>\n",
       "    <tr>\n",
       "      <th>0</th>\n",
       "      <td>RANK</td>\n",
       "      <td>NAME</td>\n",
       "      <td>NET WORTH</td>\n",
       "      <td>AGE</td>\n",
       "      <td>COUNTRY / TERRITORY</td>\n",
       "      <td>banks, real estate</td>\n",
       "      <td>INDUSTRY</td>\n",
       "    </tr>\n",
       "    <tr>\n",
       "      <th>1</th>\n",
       "      <td>201.</td>\n",
       "      <td>Andrew Beal</td>\n",
       "      <td>$9.9 B</td>\n",
       "      <td>69</td>\n",
       "      <td>United States</td>\n",
       "      <td>oil &amp; gas, banking</td>\n",
       "      <td>Finance &amp; Investments</td>\n",
       "    </tr>\n",
       "    <tr>\n",
       "      <th>2</th>\n",
       "      <td>201.</td>\n",
       "      <td>George Kaiser</td>\n",
       "      <td>$9.9 B</td>\n",
       "      <td>79</td>\n",
       "      <td>United States</td>\n",
       "      <td>financial information</td>\n",
       "      <td>Energy</td>\n",
       "    </tr>\n",
       "    <tr>\n",
       "      <th>3</th>\n",
       "      <td>201.</td>\n",
       "      <td>Qi Shi &amp; family</td>\n",
       "      <td>$9.9 B</td>\n",
       "      <td>52</td>\n",
       "      <td>China</td>\n",
       "      <td>banking</td>\n",
       "      <td>Technology</td>\n",
       "    </tr>\n",
       "    <tr>\n",
       "      <th>4</th>\n",
       "      <td>201.</td>\n",
       "      <td>Luis Carlos Sarmiento</td>\n",
       "      <td>$9.9 B</td>\n",
       "      <td>89</td>\n",
       "      <td>Colombia</td>\n",
       "      <td>Google</td>\n",
       "      <td>Finance &amp; Investments</td>\n",
       "    </tr>\n",
       "    <tr>\n",
       "      <th>...</th>\n",
       "      <td>...</td>\n",
       "      <td>...</td>\n",
       "      <td>...</td>\n",
       "      <td>...</td>\n",
       "      <td>...</td>\n",
       "      <td>...</td>\n",
       "      <td>...</td>\n",
       "    </tr>\n",
       "    <tr>\n",
       "      <th>2395</th>\n",
       "      <td>2578.</td>\n",
       "      <td>Vivien Chen</td>\n",
       "      <td>$1 B</td>\n",
       "      <td>63</td>\n",
       "      <td>Hong Kong</td>\n",
       "      <td>pharmaceuticals</td>\n",
       "      <td>Real Estate</td>\n",
       "    </tr>\n",
       "    <tr>\n",
       "      <th>2396</th>\n",
       "      <td>2578.</td>\n",
       "      <td>Chey Ki-won</td>\n",
       "      <td>$1 B</td>\n",
       "      <td>57</td>\n",
       "      <td>South Korea</td>\n",
       "      <td>apparel</td>\n",
       "      <td>Technology</td>\n",
       "    </tr>\n",
       "    <tr>\n",
       "      <th>2397</th>\n",
       "      <td>2578.</td>\n",
       "      <td>Pollyanna Chu</td>\n",
       "      <td>$1 B</td>\n",
       "      <td>64</td>\n",
       "      <td>Hong Kong</td>\n",
       "      <td>apparel</td>\n",
       "      <td>Finance &amp; Investments</td>\n",
       "    </tr>\n",
       "    <tr>\n",
       "      <th>2398</th>\n",
       "      <td>2578.</td>\n",
       "      <td>Roy Chi Ping Chung</td>\n",
       "      <td>$1 B</td>\n",
       "      <td>69</td>\n",
       "      <td>Hong Kong</td>\n",
       "      <td>garments</td>\n",
       "      <td>Manufacturing</td>\n",
       "    </tr>\n",
       "    <tr>\n",
       "      <th>2399</th>\n",
       "      <td>2578.</td>\n",
       "      <td>Doug Clarke</td>\n",
       "      <td>$1 B</td>\n",
       "      <td>41</td>\n",
       "      <td>Australia</td>\n",
       "      <td>flavors and fragrances</td>\n",
       "      <td>Technology</td>\n",
       "    </tr>\n",
       "  </tbody>\n",
       "</table>\n",
       "<p>2400 rows × 7 columns</p>\n",
       "</div>"
      ],
      "text/plain": [
       "       S_No                   Name  Net_worth  Age              Country  \\\n",
       "0      RANK                   NAME  NET WORTH  AGE  COUNTRY / TERRITORY   \n",
       "1      201.            Andrew Beal     $9.9 B   69        United States   \n",
       "2      201.          George Kaiser     $9.9 B   79        United States   \n",
       "3      201.        Qi Shi & family     $9.9 B   52                China   \n",
       "4      201.  Luis Carlos Sarmiento     $9.9 B   89             Colombia   \n",
       "...     ...                    ...        ...  ...                  ...   \n",
       "2395  2578.            Vivien Chen       $1 B   63            Hong Kong   \n",
       "2396  2578.            Chey Ki-won       $1 B   57          South Korea   \n",
       "2397  2578.          Pollyanna Chu       $1 B   64            Hong Kong   \n",
       "2398  2578.     Roy Chi Ping Chung       $1 B   69            Hong Kong   \n",
       "2399  2578.            Doug Clarke       $1 B   41            Australia   \n",
       "\n",
       "                      Source               Industry  \n",
       "0         banks, real estate               INDUSTRY  \n",
       "1         oil & gas, banking  Finance & Investments  \n",
       "2      financial information                 Energy  \n",
       "3                    banking             Technology  \n",
       "4                     Google  Finance & Investments  \n",
       "...                      ...                    ...  \n",
       "2395         pharmaceuticals            Real Estate  \n",
       "2396                 apparel             Technology  \n",
       "2397                 apparel  Finance & Investments  \n",
       "2398                garments          Manufacturing  \n",
       "2399  flavors and fragrances             Technology  \n",
       "\n",
       "[2400 rows x 7 columns]"
      ]
     },
     "execution_count": 53,
     "metadata": {},
     "output_type": "execute_result"
    }
   ],
   "source": [
    "df_8"
   ]
  },
  {
   "cell_type": "markdown",
   "id": "26995e70",
   "metadata": {},
   "source": [
    "5.Write a program to scrap geospatial coordinates (latitude, longitude) of a city searched on google maps."
   ]
  },
  {
   "cell_type": "code",
   "execution_count": 61,
   "id": "12ab2541",
   "metadata": {},
   "outputs": [
    {
     "name": "stdout",
     "output_type": "stream",
     "text": [
      "The latitude of the location is:  11.0018115\n",
      "The longitude of the location is:  76.9628425\n"
     ]
    }
   ],
   "source": [
    "#pip install geopy\n",
    "# Import the required library\n",
    "from geopy.geocoders import Nominatim\n",
    "\n",
    "# Initialize Nominatim API\n",
    "geolocator = Nominatim(user_agent=\"MyApp\")\n",
    "\n",
    "location = geolocator.geocode(\"COimbatore\")\n",
    "\n",
    "print(\"The latitude of the location is: \", location.latitude)\n",
    "print(\"The longitude of the location is: \", location.longitude)"
   ]
  },
  {
   "cell_type": "markdown",
   "id": "fe40e3af",
   "metadata": {},
   "source": [
    "10. Write a python program to scrape a data for all available Hostels from https://www.hostelworld.com/ in “London” location. You have to scrape hostel name, distance from city centre, ratings, total reviews, overall reviews, privates from price, dorms from price, facilities and property description."
   ]
  },
  {
   "cell_type": "code",
   "execution_count": 146,
   "id": "e8cba1a6",
   "metadata": {},
   "outputs": [],
   "source": [
    "#import selenium,webdriver,upload webdriver.exe\n",
    "from selenium import webdriver as wb\n",
    "import time\n",
    "from selenium.webdriver.support.select import Select"
   ]
  },
  {
   "cell_type": "code",
   "execution_count": 147,
   "id": "a68cc232",
   "metadata": {},
   "outputs": [
    {
     "name": "stderr",
     "output_type": "stream",
     "text": [
      "C:\\Users\\anish\\AppData\\Local\\Temp/ipykernel_2576/3897776822.py:2: DeprecationWarning: executable_path has been deprecated, please pass in a Service object\n",
      "  driver = wb.Chrome('chromedriver.exe')\n"
     ]
    }
   ],
   "source": [
    "#get the url and extract into html\n",
    "driver = wb.Chrome('chromedriver.exe')\n",
    "driver.get('https://www.hostelworld.com/')"
   ]
  },
  {
   "cell_type": "code",
   "execution_count": 150,
   "id": "e1105f38",
   "metadata": {},
   "outputs": [
    {
     "name": "stderr",
     "output_type": "stream",
     "text": [
      "C:\\Users\\anish\\AppData\\Local\\Temp/ipykernel_2576/668092492.py:1: DeprecationWarning: find_element_by_xpath is deprecated. Please use find_element(by=By.XPATH, value=xpath) instead\n",
      "  driver.find_element_by_xpath('//input[@id=\"search-input-field\"]').send_keys('London,England')\n"
     ]
    }
   ],
   "source": [
    "driver.find_element_by_xpath('//input[@id=\"search-input-field\"]').send_keys('London,England')"
   ]
  },
  {
   "cell_type": "code",
   "execution_count": 151,
   "id": "f7b9dd53",
   "metadata": {},
   "outputs": [
    {
     "name": "stderr",
     "output_type": "stream",
     "text": [
      "C:\\Users\\anish\\AppData\\Local\\Temp/ipykernel_2576/3391280864.py:1: DeprecationWarning: find_element_by_xpath is deprecated. Please use find_element(by=By.XPATH, value=xpath) instead\n",
      "  driver.find_element_by_xpath('//div[@class=\"label\"]').click()\n"
     ]
    }
   ],
   "source": [
    "driver.find_element_by_xpath('//div[@class=\"label\"]').click()"
   ]
  },
  {
   "cell_type": "code",
   "execution_count": 153,
   "id": "ce37c45f",
   "metadata": {},
   "outputs": [
    {
     "name": "stderr",
     "output_type": "stream",
     "text": [
      "C:\\Users\\anish\\AppData\\Local\\Temp/ipykernel_2576/2329183447.py:1: DeprecationWarning: find_element_by_xpath is deprecated. Please use find_element(by=By.XPATH, value=xpath) instead\n",
      "  driver.find_element_by_xpath('//div[@class=\"search-button\"]').click()\n"
     ]
    }
   ],
   "source": [
    "driver.find_element_by_xpath('//div[@class=\"search-button\"]').click()"
   ]
  },
  {
   "cell_type": "code",
   "execution_count": 154,
   "id": "1b553497",
   "metadata": {},
   "outputs": [],
   "source": [
    "driver.execute_script(\"window.scrollTo(0, document.documentElement.scrollHeight)\")"
   ]
  },
  {
   "cell_type": "code",
   "execution_count": 409,
   "id": "493139a3",
   "metadata": {},
   "outputs": [
    {
     "name": "stderr",
     "output_type": "stream",
     "text": [
      "C:\\Users\\anish\\AppData\\Local\\Temp/ipykernel_2576/3801852237.py:2: DeprecationWarning: find_elements_by_xpath is deprecated. Please use find_elements(by=By.XPATH, value=xpath) instead\n",
      "  for i in driver.find_elements_by_xpath('//div[@class=\"property-card\"]'):\n"
     ]
    },
    {
     "data": {
      "text/plain": [
       "17"
      ]
     },
     "execution_count": 409,
     "metadata": {},
     "output_type": "execute_result"
    }
   ],
   "source": [
    "liks = []\n",
    "for i in driver.find_elements_by_xpath('//div[@class=\"property-card\"]'):\n",
    "    liks.append(i)\n",
    "len(liks)"
   ]
  },
  {
   "cell_type": "code",
   "execution_count": 399,
   "id": "8a26bc79",
   "metadata": {},
   "outputs": [
    {
     "name": "stderr",
     "output_type": "stream",
     "text": [
      "C:\\Users\\anish\\AppData\\Local\\Temp/ipykernel_2576/4067634225.py:3: DeprecationWarning: find_elements_by_class_name is deprecated. Please use find_elements(by=By.CLASS_NAME, value=name) instead\n",
      "  rating.append(driver.find_elements_by_class_name('bottom-rating')[i].text.split('\\n'))\n"
     ]
    }
   ],
   "source": [
    "rating = []\n",
    "for i in range(len(liks)-1):\n",
    "    rating.append(driver.find_elements_by_class_name('bottom-rating')[i].text.split('\\n'))"
   ]
  },
  {
   "cell_type": "code",
   "execution_count": 408,
   "id": "fe7f0988",
   "metadata": {},
   "outputs": [
    {
     "name": "stderr",
     "output_type": "stream",
     "text": [
      "C:\\Users\\anish\\AppData\\Local\\Temp/ipykernel_2576/1003557609.py:3: DeprecationWarning: find_elements_by_xpath is deprecated. Please use find_elements(by=By.XPATH, value=xpath) instead\n",
      "  name.append(driver.find_elements_by_xpath('//h2[@class=\"title title-6\"]')[i].text)\n"
     ]
    }
   ],
   "source": [
    "name = []\n",
    "for i in range(len(liks)-1):\n",
    "    name.append(driver.find_elements_by_xpath('//h2[@class=\"title title-6\"]')[i].text)"
   ]
  },
  {
   "cell_type": "code",
   "execution_count": 407,
   "id": "bfb7494f",
   "metadata": {},
   "outputs": [
    {
     "name": "stderr",
     "output_type": "stream",
     "text": [
      "C:\\Users\\anish\\AppData\\Local\\Temp/ipykernel_2576/2355046872.py:3: DeprecationWarning: find_elements_by_xpath is deprecated. Please use find_elements(by=By.XPATH, value=xpath) instead\n",
      "  distance.append(driver.find_elements_by_xpath('//span[@class=\"description\"]')[i].text)\n"
     ]
    }
   ],
   "source": [
    "distance = []\n",
    "for i in range(len(liks)-1):\n",
    "    distance.append(driver.find_elements_by_xpath('//span[@class=\"description\"]')[i].text)"
   ]
  },
  {
   "cell_type": "code",
   "execution_count": 406,
   "id": "56366e6d",
   "metadata": {},
   "outputs": [
    {
     "name": "stderr",
     "output_type": "stream",
     "text": [
      "C:\\Users\\anish\\AppData\\Local\\Temp/ipykernel_2576/2325757034.py:3: DeprecationWarning: find_elements_by_xpath is deprecated. Please use find_elements(by=By.XPATH, value=xpath) instead\n",
      "  price.append(driver.find_elements_by_xpath('//div[@class=\"price title-5\"]')[i].text)\n"
     ]
    }
   ],
   "source": [
    "price = []\n",
    "for i in range(len(liks)-1):\n",
    "    price.append(driver.find_elements_by_xpath('//div[@class=\"price title-5\"]')[i].text)\n"
   ]
  },
  {
   "cell_type": "code",
   "execution_count": 387,
   "id": "d2ea8984",
   "metadata": {},
   "outputs": [],
   "source": [
    "import pandas as pd"
   ]
  },
  {
   "cell_type": "code",
   "execution_count": 403,
   "id": "f5d5d816",
   "metadata": {},
   "outputs": [],
   "source": [
    "a = pd.DataFrame(zip(name,price,distance),columns=('Name','Price','Distance'))"
   ]
  },
  {
   "cell_type": "code",
   "execution_count": 404,
   "id": "c164b982",
   "metadata": {},
   "outputs": [],
   "source": [
    "b=pd.DataFrame((rating),columns=('Ratings','Review','No_of_Reviews','No_of_Reviews'))"
   ]
  },
  {
   "cell_type": "code",
   "execution_count": 410,
   "id": "501ec6b3",
   "metadata": {},
   "outputs": [
    {
     "data": {
      "text/html": [
       "<div>\n",
       "<style scoped>\n",
       "    .dataframe tbody tr th:only-of-type {\n",
       "        vertical-align: middle;\n",
       "    }\n",
       "\n",
       "    .dataframe tbody tr th {\n",
       "        vertical-align: top;\n",
       "    }\n",
       "\n",
       "    .dataframe thead th {\n",
       "        text-align: right;\n",
       "    }\n",
       "</style>\n",
       "<table border=\"1\" class=\"dataframe\">\n",
       "  <thead>\n",
       "    <tr style=\"text-align: right;\">\n",
       "      <th></th>\n",
       "      <th>Name</th>\n",
       "      <th>Price</th>\n",
       "      <th>Distance</th>\n",
       "      <th>Ratings</th>\n",
       "      <th>Review</th>\n",
       "      <th>No_of_Reviews</th>\n",
       "      <th>No_of_Reviews</th>\n",
       "    </tr>\n",
       "  </thead>\n",
       "  <tbody>\n",
       "    <tr>\n",
       "      <th>0</th>\n",
       "      <td>Selina Camden</td>\n",
       "      <td>Rs30031.49 Rs25527</td>\n",
       "      <td>Hostel - 5.5km from city centre</td>\n",
       "      <td>9.1</td>\n",
       "      <td>Superb</td>\n",
       "      <td>25 Total Reviews</td>\n",
       "      <td>+12</td>\n",
       "    </tr>\n",
       "    <tr>\n",
       "      <th>1</th>\n",
       "      <td>Safestay London Elephant &amp; Castle</td>\n",
       "      <td>Rs14721</td>\n",
       "      <td>Hostel - 1.7km from city centre</td>\n",
       "      <td>7.2</td>\n",
       "      <td>Very Good</td>\n",
       "      <td>4256 Total Reviews</td>\n",
       "      <td>+192</td>\n",
       "    </tr>\n",
       "    <tr>\n",
       "      <th>2</th>\n",
       "      <td>Smart Hyde Park View Hostel</td>\n",
       "      <td>Rs20242</td>\n",
       "      <td>Hostel - 5km from city centre</td>\n",
       "      <td>8.0</td>\n",
       "      <td>Fabulous</td>\n",
       "      <td>4550 Total Reviews</td>\n",
       "      <td>+19</td>\n",
       "    </tr>\n",
       "    <tr>\n",
       "      <th>3</th>\n",
       "      <td>Saint James Backpackers</td>\n",
       "      <td>Rs12279.13 Rs11665</td>\n",
       "      <td>Hostel - 5.5km from city centre</td>\n",
       "      <td>6.6</td>\n",
       "      <td>Good</td>\n",
       "      <td>1790 Total Reviews</td>\n",
       "      <td>+18</td>\n",
       "    </tr>\n",
       "    <tr>\n",
       "      <th>4</th>\n",
       "      <td>Barry House</td>\n",
       "      <td>Rs7916.8 Rs7521</td>\n",
       "      <td>Bed and Breakfast - 4.2km from city centre</td>\n",
       "      <td>8.6</td>\n",
       "      <td>Fabulous</td>\n",
       "      <td>10 Total Reviews</td>\n",
       "      <td>None</td>\n",
       "    </tr>\n",
       "    <tr>\n",
       "      <th>5</th>\n",
       "      <td>London House Hotel</td>\n",
       "      <td>Rs21820</td>\n",
       "      <td>Hotel - 5.3km from city centre</td>\n",
       "      <td>8.6</td>\n",
       "      <td>Fabulous</td>\n",
       "      <td>1381 Total Reviews</td>\n",
       "      <td>None</td>\n",
       "    </tr>\n",
       "    <tr>\n",
       "      <th>6</th>\n",
       "      <td>Elmwood Hotel</td>\n",
       "      <td>Rs29119.23 Rs20383</td>\n",
       "      <td>Hotel - 3.2km from city centre</td>\n",
       "      <td>7.1</td>\n",
       "      <td>Very Good</td>\n",
       "      <td>115 Total Reviews</td>\n",
       "      <td>+2</td>\n",
       "    </tr>\n",
       "    <tr>\n",
       "      <th>7</th>\n",
       "      <td>Cranbrook Hotel</td>\n",
       "      <td>Rs12104</td>\n",
       "      <td>Hotel - 14.8km from city centre</td>\n",
       "      <td>No Rating</td>\n",
       "      <td>58 Total Reviews</td>\n",
       "      <td>None</td>\n",
       "      <td>None</td>\n",
       "    </tr>\n",
       "    <tr>\n",
       "      <th>8</th>\n",
       "      <td>Colliers Hotel</td>\n",
       "      <td>Rs8342</td>\n",
       "      <td>Hotel - 2.1km from city centre</td>\n",
       "      <td>7.4</td>\n",
       "      <td>Very Good</td>\n",
       "      <td>4 Total Reviews</td>\n",
       "      <td>None</td>\n",
       "    </tr>\n",
       "    <tr>\n",
       "      <th>9</th>\n",
       "      <td>City Hotel Carlton</td>\n",
       "      <td>Rs12824</td>\n",
       "      <td>Hotel - 1.8km from city centre</td>\n",
       "      <td>9.1</td>\n",
       "      <td>Superb</td>\n",
       "      <td>40 Total Reviews</td>\n",
       "      <td>+1</td>\n",
       "    </tr>\n",
       "    <tr>\n",
       "      <th>10</th>\n",
       "      <td>Hotel Shepherds Bush London</td>\n",
       "      <td>Rs23358</td>\n",
       "      <td>Hotel - 7.6km from city centre</td>\n",
       "      <td>No Rating</td>\n",
       "      <td>0 Total Reviews</td>\n",
       "      <td>None</td>\n",
       "      <td>None</td>\n",
       "    </tr>\n",
       "    <tr>\n",
       "      <th>11</th>\n",
       "      <td>Tony's House Hotel</td>\n",
       "      <td>Rs21070.27 Rs17067</td>\n",
       "      <td>Hotel - 4.3km from city centre</td>\n",
       "      <td>No Rating</td>\n",
       "      <td>406 Total Reviews</td>\n",
       "      <td>None</td>\n",
       "      <td>None</td>\n",
       "    </tr>\n",
       "    <tr>\n",
       "      <th>12</th>\n",
       "      <td>Fairway Hotel</td>\n",
       "      <td>Rs28690</td>\n",
       "      <td>Bed and Breakfast - 3.3km from city centre</td>\n",
       "      <td>No Rating</td>\n",
       "      <td>44 Total Reviews</td>\n",
       "      <td>None</td>\n",
       "      <td>None</td>\n",
       "    </tr>\n",
       "    <tr>\n",
       "      <th>13</th>\n",
       "      <td>Beaconsfield</td>\n",
       "      <td>Rs16848</td>\n",
       "      <td>Hotel - 8.6km from city centre</td>\n",
       "      <td>No Rating</td>\n",
       "      <td>28 Total Reviews</td>\n",
       "      <td>None</td>\n",
       "      <td>None</td>\n",
       "    </tr>\n",
       "    <tr>\n",
       "      <th>14</th>\n",
       "      <td>London Town Hotel</td>\n",
       "      <td>Rs14623</td>\n",
       "      <td>Hotel - 5.4km from city centre</td>\n",
       "      <td>No Rating</td>\n",
       "      <td>61 Total Reviews</td>\n",
       "      <td>None</td>\n",
       "      <td>None</td>\n",
       "    </tr>\n",
       "    <tr>\n",
       "      <th>15</th>\n",
       "      <td>Best Western Boltons London Kensington</td>\n",
       "      <td>Rs19759</td>\n",
       "      <td>Hotel - 5.4km from city centre</td>\n",
       "      <td>2.0</td>\n",
       "      <td>Rating</td>\n",
       "      <td>2 Total Reviews</td>\n",
       "      <td>None</td>\n",
       "    </tr>\n",
       "  </tbody>\n",
       "</table>\n",
       "</div>"
      ],
      "text/plain": [
       "                                      Name               Price  \\\n",
       "0                            Selina Camden  Rs30031.49 Rs25527   \n",
       "1        Safestay London Elephant & Castle             Rs14721   \n",
       "2              Smart Hyde Park View Hostel             Rs20242   \n",
       "3                  Saint James Backpackers  Rs12279.13 Rs11665   \n",
       "4                              Barry House     Rs7916.8 Rs7521   \n",
       "5                       London House Hotel             Rs21820   \n",
       "6                            Elmwood Hotel  Rs29119.23 Rs20383   \n",
       "7                          Cranbrook Hotel             Rs12104   \n",
       "8                           Colliers Hotel              Rs8342   \n",
       "9                       City Hotel Carlton             Rs12824   \n",
       "10             Hotel Shepherds Bush London             Rs23358   \n",
       "11                      Tony's House Hotel  Rs21070.27 Rs17067   \n",
       "12                           Fairway Hotel             Rs28690   \n",
       "13                            Beaconsfield             Rs16848   \n",
       "14                       London Town Hotel             Rs14623   \n",
       "15  Best Western Boltons London Kensington             Rs19759   \n",
       "\n",
       "                                      Distance    Ratings             Review  \\\n",
       "0              Hostel - 5.5km from city centre        9.1             Superb   \n",
       "1              Hostel - 1.7km from city centre        7.2          Very Good   \n",
       "2                Hostel - 5km from city centre        8.0           Fabulous   \n",
       "3              Hostel - 5.5km from city centre        6.6               Good   \n",
       "4   Bed and Breakfast - 4.2km from city centre        8.6           Fabulous   \n",
       "5               Hotel - 5.3km from city centre        8.6           Fabulous   \n",
       "6               Hotel - 3.2km from city centre        7.1          Very Good   \n",
       "7              Hotel - 14.8km from city centre  No Rating   58 Total Reviews   \n",
       "8               Hotel - 2.1km from city centre        7.4          Very Good   \n",
       "9               Hotel - 1.8km from city centre        9.1             Superb   \n",
       "10              Hotel - 7.6km from city centre  No Rating    0 Total Reviews   \n",
       "11              Hotel - 4.3km from city centre  No Rating  406 Total Reviews   \n",
       "12  Bed and Breakfast - 3.3km from city centre  No Rating   44 Total Reviews   \n",
       "13              Hotel - 8.6km from city centre  No Rating   28 Total Reviews   \n",
       "14              Hotel - 5.4km from city centre  No Rating   61 Total Reviews   \n",
       "15              Hotel - 5.4km from city centre        2.0             Rating   \n",
       "\n",
       "         No_of_Reviews No_of_Reviews  \n",
       "0     25 Total Reviews           +12  \n",
       "1   4256 Total Reviews          +192  \n",
       "2   4550 Total Reviews           +19  \n",
       "3   1790 Total Reviews           +18  \n",
       "4     10 Total Reviews          None  \n",
       "5   1381 Total Reviews          None  \n",
       "6    115 Total Reviews            +2  \n",
       "7                 None          None  \n",
       "8      4 Total Reviews          None  \n",
       "9     40 Total Reviews            +1  \n",
       "10                None          None  \n",
       "11                None          None  \n",
       "12                None          None  \n",
       "13                None          None  \n",
       "14                None          None  \n",
       "15     2 Total Reviews          None  "
      ]
     },
     "execution_count": 410,
     "metadata": {},
     "output_type": "execute_result"
    }
   ],
   "source": [
    "df_10 = pd.concat([a,b],axis=1)\n",
    "df_10"
   ]
  },
  {
   "cell_type": "markdown",
   "id": "3735b4c0",
   "metadata": {},
   "source": [
    "2. In the above question, now scrape the following details of each product listed in first 3 pages of your search results and save it in a data frame and csv. In case if any product has less than 3 pages in search results then scrape all the products available under that product name. Details to be scraped are: \"Brand Name\", \"Name of the Product\", \"Price\", \"Return/Exchange\", \"Expected Delivery\", \"Availability\" and “Product URL”. In case, if any of the details are missing for any of the product then replace it by “-“."
   ]
  },
  {
   "cell_type": "code",
   "execution_count": 465,
   "id": "e188e078",
   "metadata": {},
   "outputs": [
    {
     "name": "stderr",
     "output_type": "stream",
     "text": [
      "C:\\Users\\anish\\AppData\\Local\\Temp/ipykernel_2576/3994415399.py:13: DeprecationWarning: executable_path has been deprecated, please pass in a Service object\n",
      "  driver = wb.Chrome('chromedriver.exe')\n"
     ]
    }
   ],
   "source": [
    "from selenium import webdriver\n",
    "from selenium.webdriver.chrome.options import Options\n",
    "from selenium.common.exceptions import TimeoutException\n",
    "from selenium.webdriver.support.ui import WebDriverWait\n",
    "from selenium.webdriver.common.keys import Keys\n",
    "from selenium.webdriver.support import expected_conditions as EC\n",
    "from selenium.webdriver.common.by import By\n",
    "import time\n",
    "options = webdriver.ChromeOptions()\n",
    "options.add_argument('--no-sandbox')\n",
    "options.add_argument('--disable-dev-shm-usage')\n",
    "options.add_argument(\"--headless\")\n",
    "driver = wb.Chrome('chromedriver.exe')\n",
    "wait = WebDriverWait(driver,60)\n",
    "driver.get('https://www.youtube.com/watch?v=vV2Km6YvvIk')"
   ]
  },
  {
   "cell_type": "code",
   "execution_count": 466,
   "id": "88e64226",
   "metadata": {},
   "outputs": [],
   "source": [
    "driver.maximize_window()"
   ]
  },
  {
   "cell_type": "code",
   "execution_count": 460,
   "id": "917394ba",
   "metadata": {},
   "outputs": [],
   "source": [
    "driver.execute_script(\"window.scrollTo(0, document.body.scrollHeight);\")\n",
    "time.sleep(3)"
   ]
  },
  {
   "cell_type": "code",
   "execution_count": 467,
   "id": "19f89f82",
   "metadata": {},
   "outputs": [
    {
     "name": "stderr",
     "output_type": "stream",
     "text": [
      "C:\\Users\\anish\\AppData\\Local\\Temp/ipykernel_2576/604201589.py:3: DeprecationWarning: find_element_by_tag_name is deprecated. Please use find_element(by=By.TAG_NAME, value=name) instead\n",
      "  html = driver.find_element_by_tag_name('html')\n"
     ]
    }
   ],
   "source": [
    "SCROLL_PAUSE_TIME = 15\n",
    "CYCLES = 20\n",
    "html = driver.find_element_by_tag_name('html')\n",
    "html.send_keys(Keys.PAGE_DOWN)   \n",
    "html.send_keys(Keys.PAGE_DOWN)   \n",
    "time.sleep(SCROLL_PAUSE_TIME * 3)"
   ]
  },
  {
   "cell_type": "code",
   "execution_count": 471,
   "id": "30eb7636",
   "metadata": {},
   "outputs": [
    {
     "name": "stderr",
     "output_type": "stream",
     "text": [
      "C:\\Users\\anish\\AppData\\Local\\Temp/ipykernel_2576/3784930635.py:4: DeprecationWarning: find_elements_by_xpath is deprecated. Please use find_elements(by=By.XPATH, value=xpath) instead\n",
      "  comment_elems = driver.find_elements_by_xpath('//*[@id=\"main\"]')\n"
     ]
    }
   ],
   "source": [
    "for i in range(CYCLES):\n",
    "    html.send_keys(Keys.END)\n",
    "    time.sleep(SCROLL_PAUSE_TIME)\n",
    "    comment_elems = driver.find_elements_by_xpath('//*[@id=\"main\"]')\n",
    "    all_comments = [elem.text for elem in comment_elems]"
   ]
  },
  {
   "cell_type": "code",
   "execution_count": 476,
   "id": "ccfcf903",
   "metadata": {},
   "outputs": [],
   "source": [
    "a=[]\n",
    "for i in all_comments:\n",
    "    a.append(i.split('\\n'))"
   ]
  },
  {
   "cell_type": "code",
   "execution_count": 478,
   "id": "c6149496",
   "metadata": {},
   "outputs": [],
   "source": [
    "import pandas as pd"
   ]
  },
  {
   "cell_type": "code",
   "execution_count": 488,
   "id": "215e5e2a",
   "metadata": {},
   "outputs": [],
   "source": [
    "b = pd.DataFrame(zip(*a),index=('Name','Date_Posted','Comment','Likes'))"
   ]
  },
  {
   "cell_type": "code",
   "execution_count": 489,
   "id": "e1617bae",
   "metadata": {},
   "outputs": [
    {
     "data": {
      "text/html": [
       "<div>\n",
       "<style scoped>\n",
       "    .dataframe tbody tr th:only-of-type {\n",
       "        vertical-align: middle;\n",
       "    }\n",
       "\n",
       "    .dataframe tbody tr th {\n",
       "        vertical-align: top;\n",
       "    }\n",
       "\n",
       "    .dataframe thead th {\n",
       "        text-align: right;\n",
       "    }\n",
       "</style>\n",
       "<table border=\"1\" class=\"dataframe\">\n",
       "  <thead>\n",
       "    <tr style=\"text-align: right;\">\n",
       "      <th></th>\n",
       "      <th>Name</th>\n",
       "      <th>Date_Posted</th>\n",
       "      <th>Comment</th>\n",
       "      <th>Likes</th>\n",
       "    </tr>\n",
       "  </thead>\n",
       "  <tbody>\n",
       "    <tr>\n",
       "      <th>0</th>\n",
       "      <td>Baiju Ks</td>\n",
       "      <td>1 year ago</td>\n",
       "      <td>'' ഈ പടം കണ്ട് കണ്ണ് നിറഞ്ഞു പോയ (ആരുടേയും സഹാ...</td>\n",
       "      <td>2.9K</td>\n",
       "    </tr>\n",
       "    <tr>\n",
       "      <th>1</th>\n",
       "      <td>Geetha P</td>\n",
       "      <td>1 year ago</td>\n",
       "      <td>അടിയും ഇടിയും ഇല്ലാത്ത മറ്റുള്ളവരെ വേദനിപ്പിക്...</td>\n",
       "      <td>556</td>\n",
       "    </tr>\n",
       "    <tr>\n",
       "      <th>2</th>\n",
       "      <td>Vishnu Vijayan</td>\n",
       "      <td>1 year ago</td>\n",
       "      <td>ഒരാൾ തോൽവിന്ന് വിജയത്തിലോട് വരുന്നത് കാണുമ്പോൾ...</td>\n",
       "      <td>701</td>\n",
       "    </tr>\n",
       "    <tr>\n",
       "      <th>3</th>\n",
       "      <td>Hashim Kadoopadath Reading Room</td>\n",
       "      <td>1 year ago</td>\n",
       "      <td>എന്റെ പൊന്നേ... ഈ പടം ഇത്രയും കാലം കാണാതിരുന്ന...</td>\n",
       "      <td>509</td>\n",
       "    </tr>\n",
       "    <tr>\n",
       "      <th>4</th>\n",
       "      <td>M4 MALAYALAM</td>\n",
       "      <td>6 months ago</td>\n",
       "      <td>ഒടുക്കത്തെ പോസിറ്റീവ് എനർജി ആണ് ഈ സിനിമയ്ക്ക്....</td>\n",
       "      <td>622</td>\n",
       "    </tr>\n",
       "    <tr>\n",
       "      <th>...</th>\n",
       "      <td>...</td>\n",
       "      <td>...</td>\n",
       "      <td>...</td>\n",
       "      <td>...</td>\n",
       "    </tr>\n",
       "    <tr>\n",
       "      <th>355</th>\n",
       "      <td>Ebi Liyons</td>\n",
       "      <td>1 year ago</td>\n",
       "      <td>Superb film.👏👏</td>\n",
       "      <td>REPLY</td>\n",
       "    </tr>\n",
       "    <tr>\n",
       "      <th>356</th>\n",
       "      <td>vinesh v</td>\n",
       "      <td>1 year ago</td>\n",
       "      <td>വിനീത് ഏട്ടന്റെ മൂവി എന്നുവച്ചാൽത്തന്നെ ഒരു പ്...</td>\n",
       "      <td>REPLY</td>\n",
       "    </tr>\n",
       "    <tr>\n",
       "      <th>357</th>\n",
       "      <td>wcf cutz &amp; BGM</td>\n",
       "      <td>11 months ago</td>\n",
       "      <td>Nice movie ❤</td>\n",
       "      <td>2</td>\n",
       "    </tr>\n",
       "    <tr>\n",
       "      <th>358</th>\n",
       "      <td>STATUS CLOUDS</td>\n",
       "      <td>1 year ago</td>\n",
       "      <td>വെറുതെ അല്ല പെണ്ണുങ്ങളുടെ മനസ്സ് തിരിച്ചറിയാൻ ...</td>\n",
       "      <td>3</td>\n",
       "    </tr>\n",
       "    <tr>\n",
       "      <th>359</th>\n",
       "      <td>I Am An Indian</td>\n",
       "      <td>1 year ago</td>\n",
       "      <td>അടിപൊളി പടം.... വിനീത് ശ്രീനിവാസൻ പടങ്ങൾ എല്ലാ...</td>\n",
       "      <td>1</td>\n",
       "    </tr>\n",
       "  </tbody>\n",
       "</table>\n",
       "<p>360 rows × 4 columns</p>\n",
       "</div>"
      ],
      "text/plain": [
       "                                Name    Date_Posted  \\\n",
       "0                           Baiju Ks     1 year ago   \n",
       "1                           Geetha P     1 year ago   \n",
       "2                     Vishnu Vijayan     1 year ago   \n",
       "3    Hashim Kadoopadath Reading Room     1 year ago   \n",
       "4                       M4 MALAYALAM   6 months ago   \n",
       "..                               ...            ...   \n",
       "355                       Ebi Liyons     1 year ago   \n",
       "356                         vinesh v     1 year ago   \n",
       "357                   wcf cutz & BGM  11 months ago   \n",
       "358                    STATUS CLOUDS     1 year ago   \n",
       "359                   I Am An Indian     1 year ago   \n",
       "\n",
       "                                               Comment  Likes  \n",
       "0    '' ഈ പടം കണ്ട് കണ്ണ് നിറഞ്ഞു പോയ (ആരുടേയും സഹാ...   2.9K  \n",
       "1    അടിയും ഇടിയും ഇല്ലാത്ത മറ്റുള്ളവരെ വേദനിപ്പിക്...    556  \n",
       "2    ഒരാൾ തോൽവിന്ന് വിജയത്തിലോട് വരുന്നത് കാണുമ്പോൾ...    701  \n",
       "3    എന്റെ പൊന്നേ... ഈ പടം ഇത്രയും കാലം കാണാതിരുന്ന...    509  \n",
       "4    ഒടുക്കത്തെ പോസിറ്റീവ് എനർജി ആണ് ഈ സിനിമയ്ക്ക്....    622  \n",
       "..                                                 ...    ...  \n",
       "355                                     Superb film.👏👏  REPLY  \n",
       "356  വിനീത് ഏട്ടന്റെ മൂവി എന്നുവച്ചാൽത്തന്നെ ഒരു പ്...  REPLY  \n",
       "357                                       Nice movie ❤      2  \n",
       "358  വെറുതെ അല്ല പെണ്ണുങ്ങളുടെ മനസ്സ് തിരിച്ചറിയാൻ ...      3  \n",
       "359  അടിപൊളി പടം.... വിനീത് ശ്രീനിവാസൻ പടങ്ങൾ എല്ലാ...      1  \n",
       "\n",
       "[360 rows x 4 columns]"
      ]
     },
     "execution_count": 489,
     "metadata": {},
     "output_type": "execute_result"
    }
   ],
   "source": [
    "df_9 = b.transpose()\n",
    "df_9"
   ]
  },
  {
   "cell_type": "markdown",
   "id": "c9312911",
   "metadata": {},
   "source": [
    "3.Write a python program to access the search bar and search button on images.google.com and scrape 10 images each for keywords ‘fruits’, ‘cars’ and ‘Machine Learning’, ‘Guitar’, ‘Cakes’."
   ]
  },
  {
   "cell_type": "code",
   "execution_count": 493,
   "id": "d789504e",
   "metadata": {},
   "outputs": [
    {
     "name": "stdout",
     "output_type": "stream",
     "text": [
      "Enter the search text: cars\n"
     ]
    },
    {
     "name": "stderr",
     "output_type": "stream",
     "text": [
      "C:\\Users\\anish\\AppData\\Local\\Temp/ipykernel_2576/4036436187.py:9: DeprecationWarning: executable_path has been deprecated, please pass in a Service object\n",
      "  driver = wb.Chrome('chromedriver.exe')\n"
     ]
    }
   ],
   "source": [
    "from selenium import webdriver\n",
    "from selenium.webdriver.common.keys import Keys\n",
    "import time\n",
    "\n",
    "url_prefix = 'https://www.google.com/search?q='\n",
    "url_suffix = '&tbm=isch&source=hp&biw=1366&bih=612&ei=ALiUYtaINsWz2roPq8Gi2Ac&iflsig=AJiK0e8AAAAAYpTGEGUnXdmJfOg1p_LgHNaazNQTC-vP&ved=0ahUKEwjWiK6lnIf4AhXFmVYBHaugCHsQ4dUDCAc&uact=5&oq=dog&gs_lcp=CgNpbWcQAzIICAAQgAQQsQMyCAgAEIAEELEDMggIABCABBCxAzIICAAQgAQQsQMyCAgAEIAEELEDMgUIABCABDIICAAQgAQQsQMyCAgAEIAEELEDMgUIABCABDIICAAQgAQQsQM6CwgAEIAEELEDEIMBOggIABCxAxCDAVAAWLIEYJ4NaABwAHgAgAFQiAHoAZIBATOYAQCgAQGqAQtnd3Mtd2l6LWltZw&sclient=img'\n",
    "search = input('Enter the search text: ')\n",
    "\n",
    "driver = wb.Chrome('chromedriver.exe')\n",
    "\n",
    "url = url_prefix+search+url_suffix\n",
    "driver.maximize_window()\n",
    "\n",
    "# Open Google Images in the browser\n",
    "driver.get(url)"
   ]
  },
  {
   "cell_type": "code",
   "execution_count": 494,
   "id": "eb6f931c",
   "metadata": {},
   "outputs": [
    {
     "name": "stderr",
     "output_type": "stream",
     "text": [
      "C:\\Users\\anish\\AppData\\Local\\Temp/ipykernel_2576/2645116159.py:3: DeprecationWarning: find_element_by_xpath is deprecated. Please use find_element(by=By.XPATH, value=xpath) instead\n",
      "  img = driver.find_element_by_xpath('//*[@id=\"islrg\"]/div[1]/div[' + str(i) + ']/a[1]/div[1]/img')\n"
     ]
    }
   ],
   "source": [
    "for i in range(1, 10):\n",
    "    try:\n",
    "        img = driver.find_element_by_xpath('//*[@id=\"islrg\"]/div[1]/div[' + str(i) + ']/a[1]/div[1]/img')\n",
    "        img.screenshot('Download-Location' + search + ' (' + str(i) + ').png')\n",
    "        time.sleep(0.2)\n",
    "\n",
    "    except:\n",
    "        continue\n"
   ]
  },
  {
   "cell_type": "code",
   "execution_count": null,
   "id": "872ec8f7",
   "metadata": {},
   "outputs": [],
   "source": []
  }
 ],
 "metadata": {
  "kernelspec": {
   "display_name": "Python 3 (ipykernel)",
   "language": "python",
   "name": "python3"
  },
  "language_info": {
   "codemirror_mode": {
    "name": "ipython",
    "version": 3
   },
   "file_extension": ".py",
   "mimetype": "text/x-python",
   "name": "python",
   "nbconvert_exporter": "python",
   "pygments_lexer": "ipython3",
   "version": "3.9.7"
  }
 },
 "nbformat": 4,
 "nbformat_minor": 5
}
