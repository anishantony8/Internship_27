{
 "cells": [
  {
   "cell_type": "code",
   "execution_count": 1,
   "id": "ad606322",
   "metadata": {},
   "outputs": [
    {
     "name": "stderr",
     "output_type": "stream",
     "text": [
      "C:\\Users\\anish\\AppData\\Local\\Temp/ipykernel_10360/2166119823.py:5: DeprecationWarning: executable_path has been deprecated, please pass in a Service object\n",
      "  driver = wb.Chrome('chromedriver.exe')\n"
     ]
    }
   ],
   "source": [
    "from selenium import webdriver as wb\n",
    "import time\n",
    "from selenium.webdriver.support.select import Select\n",
    "#get the url and extract into html\n",
    "driver = wb.Chrome('chromedriver.exe')\n",
    "driver.get('https://www.cardekho.com/used-cars+in+coimbatore')\n",
    "time.sleep(3)\n",
    "driver.maximize_window()\n",
    "time.sleep(3)"
   ]
  },
  {
   "cell_type": "code",
   "execution_count": 3,
   "id": "cd16c417",
   "metadata": {},
   "outputs": [],
   "source": [
    "end = driver.execute_script(\"return document.body.scrollHeight\")\n",
    "\n",
    "while True:\n",
    "    driver.execute_script(\"window.scrollTo(0, document.body.scrollHeight);\")\n",
    "    time.sleep(5)\n",
    "\n",
    "    new = driver.execute_script(\"return document.body.scrollHeight\")\n",
    "    if new == end:\n",
    "        break\n",
    "    end = new"
   ]
  },
  {
   "cell_type": "code",
   "execution_count": 11,
   "id": "cdffe96f",
   "metadata": {},
   "outputs": [
    {
     "name": "stderr",
     "output_type": "stream",
     "text": [
      "C:\\Users\\anish\\AppData\\Local\\Temp/ipykernel_10360/1166510109.py:2: DeprecationWarning: find_elements_by_xpath is deprecated. Please use find_elements(by=By.XPATH, value=xpath) instead\n",
      "  for i in range(len(driver.find_elements_by_xpath('//div[@class=\"gsc_col-xs-7  carsName\"]/a'))):\n",
      "C:\\Users\\anish\\AppData\\Local\\Temp/ipykernel_10360/1166510109.py:3: DeprecationWarning: find_elements_by_xpath is deprecated. Please use find_elements(by=By.XPATH, value=xpath) instead\n",
      "  link.append(driver.find_elements_by_xpath('//div[@class=\"gsc_col-xs-7  carsName\"]/a')[i].get_attribute('href'))\n"
     ]
    },
    {
     "data": {
      "text/plain": [
       "['https://www.cardekho.com/used-car-details/used-Audi-A6-2.0-Tdi-Premium-Plus-cars-Coimbatore_4106c6c1-884d-4fac-882b-f4166d1b81e8.htm',\n",
       " 'https://www.cardekho.com/used-car-details/used-Maruti-Celerio-Zxi-Mt-Bsiv-cars-Coimbatore_04d0ed72-e253-4148-8a6b-8d3572904109.htm',\n",
       " 'https://www.cardekho.com/used-car-details/used-Volkswagen-Vento-Diesel-Highline-cars-Coimbatore_0b3cda05-c205-4660-86b4-c5817bb74099.htm',\n",
       " 'https://www.cardekho.com/used-car-details/used-Maruti-Baleno-1.2-Zeta-cars-Coimbatore_a7fc56ab-a236-4989-b555-89298899f285.htm',\n",
       " 'https://www.cardekho.com/used-car-details/used-Jeep-Compass-Model-S-4x4-Diesel-At-cars-Coimbatore_b7154e7d-64df-4dd3-b75a-0a64d6e847d7.htm',\n",
       " 'https://www.cardekho.com/used-car-details/used-Ford-Figo-Diesel-Zxi-cars-Coimbatore_8289abf5-b8ed-4d01-a180-169d4c222798.htm',\n",
       " 'https://www.cardekho.com/used-car-details/used-Audi-A4-35-Tdi-Premium-Plus-cars-Coimbatore_41b57815-0c48-4ecb-bbde-9d4516d7845c.htm',\n",
       " 'https://www.cardekho.com/used-car-details/used-Audi-A4-35-Tdi-Premium-Plus-cars-Coimbatore_1e5f7d94-51fb-4145-ba25-af98f0eca4e6.htm',\n",
       " 'https://www.cardekho.com/used-car-details/used-Toyota-Corolla-H1-cars-Coimbatore_20fc8172-2a80-4fc6-8a8f-36802fd9689e.htm',\n",
       " 'https://www.cardekho.com/used-car-details/used-Volkswagen-Jetta-2.0-Tdi-Comfortline-cars-Coimbatore_5f12d5c7-8117-4ab8-b4c1-27f9af5c0f39.htm',\n",
       " 'https://www.cardekho.com/used-car-details/used-Bmw-X3-Xdrive20d-Xline-cars-Coimbatore_70780bcf-df54-44e9-88ae-af41532364ed.htm',\n",
       " 'https://www.cardekho.com/used-car-details/used-Toyota-Camry-M/t-cars-Coimbatore_78e81fb7-1e98-497c-8dee-b93ffd2fc54e.htm',\n",
       " 'https://www.cardekho.com/used-car-details/used-Mahindra-Bolero-B6-Opt-cars-Coimbatore_24117b30-491d-4e9b-9f3f-085c57164b85.htm',\n",
       " 'https://www.cardekho.com/used-car-details/used-Bmw-5-Series-520d-Luxury-Line-cars-Coimbatore_07203ced-4304-40ee-adc8-f3cc971047d1.htm',\n",
       " 'https://www.cardekho.com/used-car-details/used-Nissan-Terrano-Xl-85-Ps-cars-Coimbatore_2e9321cb-b989-42e4-95ee-905cc28378eb.htm',\n",
       " 'https://www.cardekho.com/used-car-details/used-Mahindra-Xylo-H4-cars-Coimbatore_6d88bca1-66b6-472e-a3b6-cffa6a41136c.htm',\n",
       " 'https://www.cardekho.com/used-car-details/used-Hyundai-Creta-1.6-Crdi-Sx-Plus-cars-Coimbatore_1f8b1e63-f3d3-4a1a-ba62-26dd24fdcb03.htm',\n",
       " 'https://www.cardekho.com/used-car-details/used-Maruti-Alto-K10-Vxi-cars-Coimbatore_41c5576b-e8ef-4a3d-9475-6d04931ca81a.htm',\n",
       " 'https://www.cardekho.com/used-car-details/used-Maruti-Ertiga-Vxi-At-cars-Coimbatore_a59a3806-7759-436a-948b-2f6ea8de1b19.htm',\n",
       " 'https://www.cardekho.com/used-car-details/used-Honda-Jazz-1.5-V-I-Dtec-cars-Coimbatore_4384c87d-bb65-4f42-bb25-d999c848dfde.htm',\n",
       " 'https://www.cardekho.com/used-car-details/used-Skoda-Kushaq-1.0-Tsi-Ambition-cars-Coimbatore_4e623a18-5c1d-42d4-b9ab-b6d841e61b45.htm',\n",
       " 'https://www.cardekho.com/used-car-details/used-Volkswagen-Vento-Diesel-Comfortline-cars-Coimbatore_b1e3cf81-c76f-4aaa-8900-21f0ebd2abe6.htm',\n",
       " 'https://www.cardekho.com/used-car-details/used-Toyota-Innova-Crysta-2.8-Zx-At-Bsiv-cars-Coimbatore_3ec89844-94f7-43bd-9b80-a90e80de3b73.htm',\n",
       " 'https://www.cardekho.com/used-car-details/used-Maruti-Swift-Vxi-cars-Coimbatore_5a918692-dbee-4a22-9d49-4f4569e30056.htm',\n",
       " 'https://www.cardekho.com/used-car-details/used-Maruti-Swift-Vdi-Bsiv-cars-Coimbatore_48571b07-662f-4cd0-9d99-e0a2c7697352.htm',\n",
       " 'https://www.cardekho.com/used-car-details/used-Maruti-Swift-Dzire-Vxi-cars-Coimbatore_4b4ae5d6-3bb9-4fd1-84f3-4b9401b54ddd.htm',\n",
       " 'https://www.cardekho.com/used-car-details/used-Bmw-3-Series-Gt-320d-Luxury-Line-cars-Coimbatore_687ff423-c642-4db4-b172-2680b764a5dc.htm',\n",
       " 'https://www.cardekho.com/used-car-details/used-Mercedes-benz-C-class-C-220-Cdi-Avantgarde-cars-Coimbatore_65d5b8ff-a8d1-4965-8f83-d61e5a0e8f91.htm',\n",
       " 'https://www.cardekho.com/used-car-details/used-Mahindra-Xuv300-W8-Option-Diesel-Bsiv-cars-Coimbatore_a389d311-5f26-49b2-94e9-e6928d6e241d.htm',\n",
       " 'https://www.cardekho.com/used-car-details/used-Ford-Ecosport-1.5-Dv5-Mt-Titanium-Optional-cars-Coimbatore_c4d7588a-1e5f-45a1-9c87-58d2deb768e3.htm',\n",
       " 'https://www.cardekho.com/used-car-details/used-Ford-Ecosport-1.5-Dv5-Mt-Titanium-Optional-cars-Coimbatore_76dc0756-c809-4bd6-9303-e7887fd69e9f.htm',\n",
       " 'https://www.cardekho.com/used-car-details/used-Skoda-Yeti-Elegance-cars-Coimbatore_4b1480e1-1aa9-42c3-9eb0-e85feee27308.htm',\n",
       " 'https://www.cardekho.com/used-car-details/used-Bmw-5-Series-520d-Luxury-Line-cars-Coimbatore_2fd2f317-8ee0-4f0a-9b89-947aa9826603.htm',\n",
       " 'https://www.cardekho.com/used-car-details/used-Maruti-Wagon-R-Vxi-Bs-Iv-cars-Coimbatore_377dab21-98be-4218-9c1a-af217e241859.htm',\n",
       " 'https://www.cardekho.com/used-car-details/used-Mahindra-Xuv500-W7-At-Bsiv-cars-Coimbatore_66d8e189-662b-4629-9a48-9930f0b44a85.htm',\n",
       " 'https://www.cardekho.com/used-car-details/used-Skoda-Rapid-1.6-Tdi-Elegance-cars-Coimbatore_36007b61-baed-49d5-98f5-ebd0aa6706a3.htm',\n",
       " 'https://www.cardekho.com/used-car-details/used-Maruti-Ciaz-At-Vxi-Plus-cars-Coimbatore_9f9197fe-6b52-48c6-8272-b7e9283ca484.htm',\n",
       " 'https://www.cardekho.com/used-car-details/used-Toyota-Fortuner-4x4-Mt-cars-Coimbatore_a63d1c68-e2b7-4a92-8b48-3712e6916336.htm',\n",
       " 'https://www.cardekho.com/used-car-details/used-Mahindra-Kuv-100-Mfalcon-D75-K8-cars-Coimbatore_ffd55ade-6568-4d74-8deb-802c1beece09.htm',\n",
       " 'https://www.cardekho.com/used-car-details/used-Skoda-Octavia-Style-Plus-2.0-Tdi-At-cars-Coimbatore_3eee37e5-0875-4343-bada-d3dde4a7a06e.htm',\n",
       " 'https://www.cardekho.com/used-car-details/used-Mercedes-benz-Gla-Class-200-Cdi-cars-Coimbatore_72977b48-a343-4d19-82b1-cc4718f213cd.htm',\n",
       " 'https://www.cardekho.com/used-car-details/used-Mercedes-benz-C-class-C-250-Cdi-Avantgarde-cars-Coimbatore_9d441e4e-1a3f-421f-960c-c5c7d3ca9891.htm',\n",
       " 'https://www.cardekho.com/used-car-details/used-Mercedes-benz-C-class-C-250-Cdi-Elegance-cars-Coimbatore_b55cace7-9ead-4a52-a1a5-6909566d28df.htm',\n",
       " 'https://www.cardekho.com/used-car-details/used-Volvo-V40-D3-R-Design-cars-Coimbatore_ef8c75b0-ede7-4f5e-b79c-7ca313e26ede.htm',\n",
       " 'https://www.cardekho.com/used-car-details/used-Jaguar-Xf-2.0-Diesel-Portfolio-cars-Coimbatore_73906dff-fc07-49f8-95ae-1b641fb7f4a5.htm',\n",
       " 'https://www.cardekho.com/used-car-details/used-Maruti-Xl6-Alpha-At-cars-Coimbatore_76a2e49b-f11b-45d4-bc7d-ee15b0180aff.htm',\n",
       " 'https://www.cardekho.com/used-car-details/used-Maruti-Swift-Dzire-Vxi-cars-Coimbatore_ed984e8a-e801-40e1-b081-acd213992137.htm',\n",
       " 'https://www.cardekho.com/used-car-details/used-Hyundai-Santro-Xing-Xo-cars-Coimbatore_5a873784-b97d-448c-9a7c-9e6072e435ba.htm',\n",
       " 'https://www.cardekho.com/used-car-details/used-Hyundai-Santro-Xing-Gl-cars-Coimbatore_af2322eb-da63-4023-bd73-a356e4ea6c96.htm',\n",
       " 'https://www.cardekho.com/used-car-details/used-Maruti-Gypsy-King-Soft-Top-Bsii-cars-Coimbatore_d5509d30-32dd-45fe-93f8-5394d550c590.htm',\n",
       " 'https://www.cardekho.com/used-car-details/used-Volkswagen-Ameo-1.5-Tdi-Trendline-cars-Coimbatore_ebd38d14-71ec-4b71-a35d-11ea1bc42ba2.htm',\n",
       " 'https://www.cardekho.com/used-car-details/used-Mahindra-Quanto-C6-cars-Coimbatore_7293a759-7180-440b-9134-02fcc4e03d6d.htm',\n",
       " 'https://www.cardekho.com/used-car-details/used-Honda-Brio-1.2-Vx-Mt-cars-Coimbatore_ba6b4a34-6140-4307-acdd-5b36675028ec.htm',\n",
       " 'https://www.cardekho.com/used-car-details/used-Toyota-Innova-Crysta-2.8-Zx-At-Bsiv-cars-Coimbatore_42e8ba15-4458-4005-a867-dec9e13e6019.htm',\n",
       " 'https://www.cardekho.com/used-car-details/used-Honda-City-V-Mt-cars-Coimbatore_aa67a93b-77c0-420c-a1e7-f91fc0d7e3ef.htm',\n",
       " 'https://www.cardekho.com/used-car-details/used-Maruti-Vitara-Brezza-Zxi-Plus-cars-Coimbatore_6ded2e3d-be05-4856-9bf6-a75f0a9c12e8.htm',\n",
       " 'https://www.cardekho.com/used-car-details/used-Mercedes-benz-E-class-E250-Cdi-Avantgrade-cars-Coimbatore_9e398696-47f9-4216-9940-cd13062bbbf9.htm',\n",
       " 'https://www.cardekho.com/used-car-details/used-Volkswagen-Polo-Diesel-Highline-1.2l-cars-Coimbatore_9685409c-9ce8-4000-9c55-374123008d16.htm',\n",
       " 'https://www.cardekho.com/used-car-details/used-Mercedes-benz-B-Class-B180-Cdi-cars-Coimbatore_9bc1ffb3-999b-4935-b2de-5134b29a8297.htm',\n",
       " 'https://www.cardekho.com/used-car-details/used-Honda-City-1.5-V-At-cars-Coimbatore_340f74a4-e241-41c5-afe4-5d8d5f25dad1.htm',\n",
       " 'https://www.cardekho.com/used-car-details/used-Hyundai-I20-Magna-Plus-Bsiv-cars-Coimbatore_23bab6b3-6936-4045-b449-b5c1faa6ec48.htm',\n",
       " 'https://www.cardekho.com/used-car-details/used-Volkswagen-Jetta-1.9-Highline-Tdi-cars-Coimbatore_5754da43-ce64-45a7-b31c-5610a83507c3.htm',\n",
       " 'https://www.cardekho.com/used-car-details/used-Volkswagen-Passat-1.8-Tsi-Mt-cars-Coimbatore_c7ed34bf-affa-41a6-a60b-d5ef265f0cda.htm',\n",
       " 'https://www.cardekho.com/used-car-details/used-Maruti-Baleno-1.3-Sigma-cars-Coimbatore_41f457b0-e8c3-434f-ab62-0bed6bd87244.htm',\n",
       " 'https://www.cardekho.com/used-car-details/used-Skoda-New-Laura-1.8-Tsi-Ambiente-cars-Coimbatore_bf92247f-9b60-4932-aec0-9334e264a449.htm',\n",
       " 'https://www.cardekho.com/used-car-details/used-Hyundai-Grand-I10-Crdi-Asta-Option-cars-Coimbatore_fc02665f-c788-40a2-8df7-ea8ea59a56df.htm',\n",
       " 'https://www.cardekho.com/used-car-details/used-Bmw-5-Series-520d-Luxury-Line-cars-Coimbatore_5ff9202b-81af-45e3-96a4-e797a74387d3.htm',\n",
       " 'https://www.cardekho.com/used-car-details/used-Honda-Wr-v-I-vtec-Vx-cars-Coimbatore_b74fdd3e-42ec-470c-a255-0d0a6d85ac20.htm',\n",
       " 'https://www.cardekho.com/used-car-details/used-Hyundai-I20-Sportz-1.2-cars-Coimbatore_709b206a-a672-40d6-b7d4-164749c1a460.htm',\n",
       " 'https://www.cardekho.com/used-car-details/used-Mercedes-benz-C-class-Progressive-C-220d-cars-Coimbatore_53b2b024-c540-4def-8617-0b5b2e17a136.htm',\n",
       " 'https://www.cardekho.com/used-car-details/used-Mercedes-benz-C-class-C-250-Cdi-Avantgarde-cars-Coimbatore_0f05c73a-8289-47e1-ac61-277b1921bb08.htm',\n",
       " 'https://www.cardekho.com/used-car-details/used-Bmw-X3-Xdrive30d-cars-Coimbatore_9c828fb2-1b55-4b37-ad17-94a7f19b5a42.htm',\n",
       " 'https://www.cardekho.com/used-car-details/used-Honda-City-I-Dtec-Sv-cars-Coimbatore_9f007ade-6c89-4a5a-a6c2-5169e0e7231f.htm',\n",
       " 'https://www.cardekho.com/used-car-details/used-Mercedes-benz-M-class-Ml-250-Cdi-cars-Coimbatore_19ec81ca-18df-443c-8401-9aa7ce8e3bff.htm',\n",
       " 'https://www.cardekho.com/used-car-details/used-Jeep-Compass-2.0-Limited-Option-4x4-cars-Coimbatore_1a704a0c-a37a-4244-8aba-41bb22d2d4ea.htm',\n",
       " 'https://www.cardekho.com/used-car-details/used-Honda-City-I-Dtec-S-cars-Coimbatore_f17a07f4-1ca0-4ad4-be3e-1a3c61a3da35.htm',\n",
       " 'https://www.cardekho.com/used-car-details/used-Volkswagen-Polo-1.2-Mpi-Comfortline-cars-Coimbatore_ff996000-b906-43e5-ac52-edd8e77c071e.htm',\n",
       " 'https://www.cardekho.com/used-car-details/used-Volkswagen-Polo-1.5-Tdi-Comfortline-cars-Coimbatore_72c29463-9c8c-4d63-b0f4-d07d6a4ccfed.htm',\n",
       " 'https://www.cardekho.com/used-car-details/used-Mercedes-benz-C-class-C-220-Cdi-Avantgarde-cars-Coimbatore_54fa0315-2af4-4193-bfc6-dfa9283c74dd.htm',\n",
       " 'https://www.cardekho.com/used-car-details/used-Renault-Duster-110ps-Diesel-Rxz-cars-Coimbatore_952fd1a8-d0f1-4014-952f-8eb7b52da19f.htm',\n",
       " 'https://www.cardekho.com/used-car-details/used-Maruti-Baleno-Zeta-Cvt-cars-Coimbatore_8f7e88cc-7bc3-4450-b150-9a4406089b14.htm',\n",
       " 'https://www.cardekho.com/used-car-details/used-Mercedes-benz-E-class-E250-Cdi-Avantgrade-cars-Coimbatore_f2697587-d3a1-489a-b989-487e7de69ee0.htm',\n",
       " 'https://www.cardekho.com/used-car-details/used-Mini-5-Door-Cooper-D-cars-Coimbatore_1825357e-bb7c-4674-b7af-033489641a3b.htm',\n",
       " 'https://www.cardekho.com/used-car-details/used-Hyundai-Santro-L1-cars-Coimbatore_3c6871e1-90c5-49c1-8db8-1d399d54e43e.htm',\n",
       " 'https://www.cardekho.com/used-car-details/used-Volkswagen-Polo-1.5-Tdi-Trendline-cars-Coimbatore_3e4e413a-1973-4cbc-b9d9-e69347f8af45.htm',\n",
       " 'https://www.cardekho.com/used-car-details/used-Mercedes-benz-Cla-Urban-Sport-200d-cars-Coimbatore_fe129891-fdeb-4341-b934-84696b371ceb.htm',\n",
       " 'https://www.cardekho.com/used-car-details/used-Mahindra-Scorpio-Sle-Bsiv-cars-Coimbatore_ae26c5a2-368e-41e7-831e-d282200caaf4.htm',\n",
       " 'https://www.cardekho.com/used-car-details/used-Hyundai-Eon-Magna-Plus-cars-Coimbatore_58529bca-b781-4909-a732-6b1a4fdee2c1.htm',\n",
       " 'https://www.cardekho.com/used-car-details/used-Audi-Q3-35-Tdi-Quattro-Premium-Plus-cars-Coimbatore_4859181c-fcfd-48d1-afef-720f5d3fe913.htm',\n",
       " 'https://www.cardekho.com/used-car-details/used-Audi-Q3-2.0-Tdi-Quattro-Premium-Plus-cars-Coimbatore_fe3de110-b29e-44de-bb3d-8b528f8a93e2.htm',\n",
       " 'https://www.cardekho.com/used-car-details/used-Renault-Duster-Rxs-Option-Cvt-Bsiv-cars-Coimbatore_c9787fa0-5ece-47c9-a4c3-68e81a72a292.htm',\n",
       " 'https://www.cardekho.com/used-car-details/used-Tata-Nexon-1.5-Revotorq-Xz-Plus-cars-Coimbatore_c6a1b81b-5462-4199-980f-29584b880d4f.htm',\n",
       " 'https://www.cardekho.com/used-car-details/used-Maruti-Wagon-R-Vxi-Amt-cars-Coimbatore_062bf5c1-5a7d-4a37-933b-7aee28ae1459.htm',\n",
       " 'https://www.cardekho.com/used-car-details/used-Hyundai-I10-Sportz-At-cars-Coimbatore_e1f053ea-3b54-4697-a5f7-da1d49848ad5.htm',\n",
       " 'https://www.cardekho.com/used-car-details/used-Bmw-X1-Sdrive-20d-Sportline-cars-Coimbatore_771ee076-3057-4896-ac7a-3bdd14edd693.htm',\n",
       " 'https://www.cardekho.com/used-car-details/used-Mahindra-Thar-Crde-cars-Coimbatore_30955527-0944-4726-a861-f6def4d0edff.htm',\n",
       " 'https://www.cardekho.com/used-car-details/used-Mahindra-Bolero-Zlx-cars-Coimbatore_73a8d271-0596-4946-a5c4-2dedc3228fa9.htm',\n",
       " 'https://www.cardekho.com/used-car-details/used-Bmw-X1-Sdrive-20d-Xline-cars-Coimbatore_f50289de-7c59-4d88-8228-58b93f1276ec.htm',\n",
       " 'https://www.cardekho.com/used-car-details/used-Maruti-Ciaz-Zeta-cars-Coimbatore_e1952557-e9f3-424e-b532-fb8fed91aae9.htm',\n",
       " 'https://www.cardekho.com/used-car-details/used-Kia-Seltos-Htx-At-D-cars-Coimbatore_2012b661-9bdd-4393-a1e4-de3e9624dd28.htm',\n",
       " 'https://www.cardekho.com/used-car-details/used-Honda-City-V-Mt-cars-Coimbatore_a73a664a-9580-4366-81ad-39aaf9d47318.htm',\n",
       " 'https://www.cardekho.com/used-car-details/used-Honda-Wr-v-I-vtec-Vx-cars-Coimbatore_d088ef10-0be1-4ea6-a197-a0ba33ae6fba.htm',\n",
       " 'https://www.cardekho.com/used-car-details/used-Chevrolet-Sail-1.2-Ls-Abs-cars-Coimbatore_bad22c26-b5ff-47da-a40f-eeffa1b72a0b.htm',\n",
       " 'https://www.cardekho.com/used-car-details/used-Hyundai-I20-Sportz-1.2-cars-Coimbatore_795e8b85-7c3f-42c5-97a1-52c131a131a5.htm',\n",
       " 'https://www.cardekho.com/used-car-details/used-Hyundai-I20-Sportz-1.4-Crdi-cars-Coimbatore_a44cfbfd-ab74-4b7f-beba-3412377ec14d.htm',\n",
       " 'https://www.cardekho.com/used-car-details/used-Mahindra-Tuv-300-T8-Amt-cars-Coimbatore_09c73c87-9874-42c9-bfce-e95a42c051b6.htm',\n",
       " 'https://www.cardekho.com/used-car-details/used-Mahindra-Tuv-300-T8-Amt-cars-Coimbatore_99511871-e7ce-4021-92d1-2581419af903.htm',\n",
       " 'https://www.cardekho.com/used-car-details/used-Mercedes-benz-E-class-E250-Cdi-Elegance-cars-Coimbatore_248cf7ef-273c-485f-b092-dd60c6b77bd2.htm',\n",
       " 'https://www.cardekho.com/used-car-details/used-Audi-A4-2.0-Tdi-cars-Coimbatore_2291428d-9f35-4bc4-83be-0a4adf712705.htm',\n",
       " 'https://www.cardekho.com/used-car-details/used-Maruti-Swift-Lxi-Optional-o-cars-Coimbatore_f2f465cc-7f99-4647-8fee-db3978901742.htm',\n",
       " 'https://www.cardekho.com/used-car-details/used-Volkswagen-Polo-Gt-Tsi-cars-Coimbatore_e5609efc-4a7b-450c-8595-5c8b22de933c.htm',\n",
       " 'https://www.cardekho.com/used-car-details/used-Ford-Ecosport-1.5-Petrol-Titanium-At-cars-Coimbatore_25cc8d5c-1fcc-4b91-9d06-f1797d33aa6a.htm',\n",
       " 'https://www.cardekho.com/used-car-details/used-Hyundai-Creta-Sx-Opt-Ivt-cars-Coimbatore_dc648979-8394-4687-bd54-1d93e223e492.htm',\n",
       " 'https://www.cardekho.com/used-car-details/used-Volkswagen-Vento-1.5-Tdi-Comfortline-cars-Coimbatore_e2244b82-121c-41c7-ba44-c7bb90a607a8.htm',\n",
       " 'https://www.cardekho.com/used-car-details/used-Jaguar-Xf-3.0-Litre-S-Premium-Luxury-cars-Coimbatore_c9e8db63-edd9-4cd3-92fd-74d765d13c98.htm',\n",
       " 'https://www.cardekho.com/used-car-details/used-Toyota-Innova-2.5-Vx-7-Str-cars-Coimbatore_cd3d0259-9ace-483a-be63-d871f57f79e6.htm',\n",
       " 'https://www.cardekho.com/used-car-details/used-Hyundai-I10-Asta-W/sun-Roof-cars-Coimbatore_4e9a033e-53e2-4c1d-b3e5-1f342b13384e.htm',\n",
       " 'https://www.cardekho.com/used-car-details/used-Volvo-S60-D4-Summum-cars-Coimbatore_15f6cf59-cf90-4388-ad3c-24fd9bd1eb5c.htm',\n",
       " 'https://www.cardekho.com/used-car-details/used-Hyundai-Verna-Crdi-1.6-Sx-Option-cars-Coimbatore_a36e55e3-f2d9-4d08-bc12-e284a74aa044.htm',\n",
       " 'https://www.cardekho.com/used-car-details/used-Skoda-Rapid-1.5-Tdi-Active-Bsiv-cars-Coimbatore_708b8d59-ccdd-49e2-8427-b850a267a2b4.htm',\n",
       " 'https://www.cardekho.com/used-car-details/used-Kia-Sonet-1.5-Htk-Diesel-cars-Coimbatore_b0bd19a8-b7a7-4d60-99ab-72b2904e31f3.htm',\n",
       " 'https://www.cardekho.com/used-car-details/used-Renault-Kwid-1.0-Rxt-cars-Coimbatore_01f80c26-d58d-4959-8b97-e46227d497dc.htm',\n",
       " 'https://www.cardekho.com/used-car-details/used-Volkswagen-Vento-1.5-Tdi-Highline-cars-Coimbatore_d488c795-466f-4897-a96f-43cf41537b58.htm',\n",
       " 'https://www.cardekho.com/used-car-details/used-Maruti-Baleno-Zeta-cars-Coimbatore_b775d300-c95a-4e27-9405-fedb5afb1fa5.htm',\n",
       " 'https://www.cardekho.com/used-car-details/used-Maruti-Ciaz-Zdi-Shvs-cars-Coimbatore_0f6dc86a-7320-4fc4-9488-1fd8e0946dbe.htm',\n",
       " 'https://www.cardekho.com/used-car-details/used-Ford-Endeavour-3.2-Titanium-At-4x4-cars-Coimbatore_19df1061-b4b4-4cdc-b24f-2389b51a1285.htm',\n",
       " 'https://www.cardekho.com/used-car-details/used-Maruti-1000-Ac-cars-Coimbatore_b5c128fa-9731-471a-b3ce-9738079804ba.htm',\n",
       " 'https://www.cardekho.com/used-car-details/used-Volkswagen-Ameo-1.5-Tdi-Trendline-cars-Coimbatore_72dd2483-ccba-4dc7-a11f-c092aaf82a6a.htm',\n",
       " 'https://www.cardekho.com/used-car-details/used-Hyundai-Creta-Sx-Opt-Knight-Ivt-cars-Coimbatore_b13d5c4f-b2c8-482b-a977-99169122d1a2.htm',\n",
       " 'https://www.cardekho.com/used-car-details/used-Hyundai-I10-Sportz-cars-Coimbatore_6fde6262-6495-4122-a95f-2c78db453048.htm',\n",
       " 'https://www.cardekho.com/used-car-details/used-Maruti-Alto-K10-Vxi-Amt-cars-Coimbatore_4077f02f-e6fb-471d-af74-b818ce1a33c2.htm',\n",
       " 'https://www.cardekho.com/used-car-details/used-Jeep-Compass-2.0-Limited-Option-4x4-cars-Coimbatore_6fd761c4-a0ca-45be-92dd-311c9c147551.htm',\n",
       " 'https://www.cardekho.com/used-car-details/used-Hyundai-Eon-D-Lite-cars-Coimbatore_1667ca95-f3bf-4261-85dd-3acf14d60bc9.htm',\n",
       " 'https://www.cardekho.com/used-car-details/used-Renault-Lodgy-85ps-Rxe-cars-Coimbatore_0f866ddc-cbeb-43d0-aae7-b4ab15d6d706.htm',\n",
       " 'https://www.cardekho.com/used-car-details/used-Maruti-Alto-Lxi-cars-Coimbatore_61d01c9b-c18b-486f-a593-632a28bafb98.htm',\n",
       " 'https://www.cardekho.com/used-car-details/used-Honda-City-I-Vtec-V-cars-Coimbatore_c1c51c39-9093-4cab-a15c-f536e17a3c8e.htm',\n",
       " 'https://www.cardekho.com/used-car-details/used-Maruti-Swift-Ldi-cars-Coimbatore_801e29c7-3411-41f5-82f7-fffc5b3bf4ed.htm',\n",
       " 'https://www.cardekho.com/used-car-details/used-Maruti-Ignis-1.2-Delta-Bsiv-cars-Coimbatore_086fc344-df32-42aa-8300-1a583201f7cc.htm',\n",
       " 'https://www.cardekho.com/used-car-details/used-Maruti-Swift-Vxi-Bsiii-cars-Coimbatore_042c489a-b954-4732-964c-ca3f2c564e1c.htm',\n",
       " 'https://www.cardekho.com/used-car-details/used-Volkswagen-Polo-1.5-Tdi-Highline-cars-Coimbatore_4d7b1b01-d696-4634-9fb5-4fdccddd7783.htm',\n",
       " 'https://www.cardekho.com/used-car-details/used-Hyundai-Verna-1.6-Sx-cars-Coimbatore_69a0bf2d-352d-40a2-9b96-36e05839ea14.htm',\n",
       " 'https://www.cardekho.com/used-car-details/used-Hyundai-Creta-Ex-cars-Coimbatore_d3e35957-b4c3-4ef6-835b-2d574206b495.htm',\n",
       " 'https://www.cardekho.com/used-car-details/used-Volkswagen-Tiguan-2.0-Tdi-Highline-cars-Coimbatore_ddf26078-19b2-4b3d-b075-0fa31a2de002.htm',\n",
       " 'https://www.cardekho.com/used-car-details/used-Hyundai-I10-Magna-1.1-Itech-Se-cars-Coimbatore_dceffea3-2981-4a0d-959a-3848b9860972.htm',\n",
       " 'https://www.cardekho.com/used-car-details/used-Volkswagen-Taigun-1.5-Tsi-Gt-Plus-cars-Coimbatore_4265607b-dee1-41e8-89fb-c1679bdc3377.htm',\n",
       " 'https://www.cardekho.com/used-car-details/used-Skoda-Rapid-1.5-Tdi-Style-Bsiv-cars-Coimbatore_cd91909e-185f-4d8d-bc73-1761811661bb.htm',\n",
       " 'https://www.cardekho.com/used-car-details/used-Skoda-Octavia-2.0-Tdi-At-Style-cars-Coimbatore_51a42d1b-c0b4-494e-8c67-3dfa3d233647.htm',\n",
       " 'https://www.cardekho.com/used-car-details/used-Mercedes-benz-C-class-C-250-Cdi-Avantgarde-cars-Coimbatore_ff5f4af6-a263-42e9-b8c6-5178c1f1b57c.htm',\n",
       " 'https://www.cardekho.com/used-car-details/used-Honda-Jazz-1.2-V-I-Vtec-cars-Coimbatore_8da16fe3-a8f2-435b-8123-5371c4d8d231.htm',\n",
       " 'https://www.cardekho.com/used-car-details/used-Honda-Wr-v-I-vtec-Vx-cars-Coimbatore_a0fe2d5e-26f9-40ea-848f-0b3bbb31afb8.htm',\n",
       " 'https://www.cardekho.com/used-car-details/used-Chevrolet-Enjoy-Tcdi-Ls-8-Seater-cars-Coimbatore_ddac7026-8ecd-4cf8-a4f1-eafdf5a6ce8f.htm',\n",
       " 'https://www.cardekho.com/used-car-details/used-Ford-Ecosport-1.5-Tdci-Trend-Plus-Bsiv-cars-Coimbatore_8792010c-1b8e-4adf-b08b-d0207d48224e.htm',\n",
       " 'https://www.cardekho.com/used-car-details/used-Honda-Cr-v-2.4l-4wd-Mt-cars-Coimbatore_8ed1fe41-1196-43f0-a799-00b80a2c0def.htm',\n",
       " 'https://www.cardekho.com/used-car-details/used-Honda-Wr-v-I-dtec-Vx-cars-Coimbatore_9f14d7ab-bb13-42c5-9e1f-0a2c55e61dd9.htm',\n",
       " 'https://www.cardekho.com/used-car-details/used-Honda-Wr-v-I-vtec-Vx-cars-Coimbatore_0836ee69-573c-47a3-8a34-ff523b5738b4.htm',\n",
       " 'https://www.cardekho.com/used-car-details/used-Hyundai-Eon-D-Lite-Plus-cars-Coimbatore_39af2b7a-9c4d-4723-a19e-5ce0072dda84.htm',\n",
       " 'https://www.cardekho.com/used-car-details/used-Hyundai-Eon-D-Lite-cars-Coimbatore_9f8114e0-e7a4-4389-98b2-17810ff5fc79.htm',\n",
       " 'https://www.cardekho.com/used-car-details/used-Hyundai-Eon-Magna-cars-Coimbatore_04649345-452b-46ff-ba91-979028df8ac0.htm',\n",
       " 'https://www.cardekho.com/used-car-details/used-Hyundai-I20-Asta-cars-Coimbatore_3d172764-b4b1-4e98-8d41-daaab7bf877d.htm',\n",
       " 'https://www.cardekho.com/used-car-details/used-Hyundai-Venue-Sx-Turbo-cars-Coimbatore_9a99cdbe-1791-4454-9a9f-8920dedcb5b0.htm',\n",
       " 'https://www.cardekho.com/used-car-details/used-Hyundai-Creta-1.6-Crdi-At-S-Plus-cars-Coimbatore_5c2cc758-e585-4a12-94d8-e571e896368c.htm',\n",
       " 'https://www.cardekho.com/used-car-details/used-Mahindra-Bolero-B6-Opt-cars-Coimbatore_3a832bf2-3baa-4e1b-9618-89151f248214.htm',\n",
       " 'https://www.cardekho.com/used-car-details/used-Maruti-Ignis-1.2-Amt-Delta-Bsiv-cars-Coimbatore_af4e4faa-63c6-422b-a6ba-ba080e55328f.htm',\n",
       " 'https://www.cardekho.com/used-car-details/used-Maruti-Swift-Vdi-Bsiv-cars-Coimbatore_1e82e500-8e02-43db-952f-0c31f2c312d0.htm',\n",
       " 'https://www.cardekho.com/used-car-details/used-Maruti-Swift-Dzire-Zxi-cars-Coimbatore_5aa402ac-c5d1-4183-8f2d-776ea3b74f43.htm',\n",
       " 'https://www.cardekho.com/used-car-details/used-Maruti-Sx4-S-Cross-Delta-Ddis-200-Sh-cars-Coimbatore_2a6ca46a-87ca-4708-b857-b4083f5ebed3.htm',\n",
       " 'https://www.cardekho.com/used-car-details/used-Maruti-Wagon-R-Vxi-Opt-cars-Coimbatore_edb630ef-85c0-4fe6-9cb0-775f51e4a613.htm',\n",
       " 'https://www.cardekho.com/used-car-details/used-Maruti-Xl6-Alpha-At-cars-Coimbatore_d47e3ea2-8779-4693-8f4f-9a2dd836e70a.htm',\n",
       " 'https://www.cardekho.com/used-car-details/used-Renault-Duster-Petrol-Rxs-Cvt-cars-Coimbatore_c9651354-3c69-42b2-86c7-73d2c54e05d4.htm',\n",
       " 'https://www.cardekho.com/used-car-details/used-Renault-Captur-1.5-Petrol-Rxe-cars-Coimbatore_7b508177-847b-4ffe-8723-d440e408b461.htm',\n",
       " 'https://www.cardekho.com/used-car-details/used-Renault-Duster-Rxs-85ps-Bsiv-cars-Coimbatore_b63d18c9-2d28-4457-8ff9-af33144f9ec3.htm',\n",
       " 'https://www.cardekho.com/used-car-details/used-Renault-Duster-85ps-Diesel-Rxs-cars-Coimbatore_445e8ba3-117c-4a3c-866e-6c4a4d1abfa1.htm',\n",
       " 'https://www.cardekho.com/used-car-details/used-Renault-Duster-110ps-Diesel-Rxz-Amt-cars-Coimbatore_1b96965d-786d-4154-a23e-47bdb224b6a6.htm',\n",
       " 'https://www.cardekho.com/used-car-details/used-Skoda-Fabia-1.2l-Diesel-Classic-cars-Coimbatore_11deac11-94e2-4401-b313-c05af900ed0c.htm',\n",
       " 'https://www.cardekho.com/used-car-details/used-Toyota-Fortuner-4x2-Manual-cars-Coimbatore_b8902132-fe1c-4cd7-9bbb-2b3d4619c69c.htm',\n",
       " 'https://www.cardekho.com/used-car-details/used-Toyota-Etios-Liva-1.2-V-cars-Coimbatore_b1c27b6c-d3ed-406a-8698-b37aced87f26.htm',\n",
       " 'https://www.cardekho.com/used-car-details/used-Volkswagen-Polo-Petrol-Comfortline-1.2l-cars-Coimbatore_2337c7b2-3a1b-44cb-b07d-c5fcd123c62e.htm',\n",
       " 'https://www.cardekho.com/used-car-details/used-Volkswagen-Polo-1.0-Tsi-Highline-Plus-cars-Coimbatore_30ee3400-3a65-4a07-a00a-933121d73d00.htm',\n",
       " 'https://www.cardekho.com/used-car-details/used-Volkswagen-Taigun-1.5-Tsi-Gt-Plus-cars-Coimbatore_a0ab8c5a-e383-458f-b11e-9ff451f5c324.htm',\n",
       " 'https://www.cardekho.com/used-car-details/used-Volkswagen-Jetta-2.0l-Tdi-Highline-At-cars-Coimbatore_52742613-ec34-4de5-b11d-3b9792910389.htm',\n",
       " 'https://www.cardekho.com/used-car-details/used-Volkswagen-Ameo-1.5-Tdi-Highline-cars-Coimbatore_5d9a9ab5-2fc5-401e-8d17-3586b4e87d18.htm',\n",
       " 'https://www.cardekho.com/used-car-details/used-Volvo-S90-D4-Momentum-Bsiv-cars-Coimbatore_cb0ed0c9-4765-470c-ad07-7f8145b5c141.htm',\n",
       " 'https://www.cardekho.com/used-car-details/used-Ford-Fiesta-1.6-Zxi-Abs-cars-Coimbatore_b6e12752-1a79-42cd-b238-4425aae69835.htm',\n",
       " 'https://www.cardekho.com/used-car-details/used-Nissan-Micra-Xv-Cvt-cars-Coimbatore_55718b51-6180-439d-8141-7186a9ce0187.htm',\n",
       " 'https://www.cardekho.com/used-car-details/used-Ford-Fiesta-1.4-Tdci-Exi-cars-Coimbatore_23646969-22b3-4996-9ddb-ca895ed3c9cc.htm',\n",
       " 'https://www.cardekho.com/used-car-details/used-Maruti-S-presso-Vxi-Opt-cars-Coimbatore_51398edb-2845-4097-bc85-34b467a5714c.htm',\n",
       " 'https://www.cardekho.com/used-car-details/used-Renault-Kiger-Rxz-Amt-cars-Coimbatore_56bb547f-b560-4150-9f4f-d4eb0db98ab2.htm',\n",
       " 'https://www.cardekho.com/used-car-details/used-Ford-Figo-1.5d-Titanium-Mt-cars-Coimbatore_7a0e7060-d7b4-441b-92a8-9b19c72febae.htm',\n",
       " 'https://www.cardekho.com/used-car-details/used-Maruti-Swift-Vdi-Bsiv-cars-Coimbatore_12b5ecb8-1315-41a6-b405-6f1159bb4d13.htm',\n",
       " 'https://www.cardekho.com/used-car-details/used-Honda-City-Gxi-cars-Coimbatore_313b78ac-5313-4a32-9dc1-2ae73fd81444.htm',\n",
       " 'https://www.cardekho.com/used-car-details/used-Tata-Nexon-1.2-Revotron-Xz-Plus-cars-Coimbatore_5c83051b-8b50-4682-8aa6-0655204e1352.htm',\n",
       " 'https://www.cardekho.com/used-car-details/used-Renault-Triber-Rxz-cars-Coimbatore_845ec83c-f1fc-4af7-88f7-bfe93bdcbd91.htm',\n",
       " 'https://www.cardekho.com/used-car-details/used-Honda-City-1.5-Exi-cars-Coimbatore_4161c049-84f7-4123-96a1-a83d19e5c491.htm',\n",
       " 'https://www.cardekho.com/used-car-details/used-Honda-Brio-Vx-cars-Coimbatore_f9324d01-b6d4-44b3-bf19-225adf674b29.htm',\n",
       " 'https://www.cardekho.com/used-car-details/used-Mahindra-Xuv500-W8-2wd-cars-Coimbatore_103b8f3f-35bd-46c9-9307-7f04d89bdf14.htm',\n",
       " 'https://www.cardekho.com/used-car-details/used-Mahindra-Xuv500-W7-At-Bsiv-cars-Coimbatore_0054c6d2-56b5-4222-8893-0db26d1419f8.htm',\n",
       " 'https://www.cardekho.com/used-car-details/used-Ford-Ecosport-1.5-Diesel-Titanium-cars-Coimbatore_be1e0493-a573-4fb8-855b-d52779f312f9.htm',\n",
       " 'https://www.cardekho.com/used-car-details/used-Honda-Wr-v-I-dtec-Vx-cars-Coimbatore_aa18bbf9-efe0-4385-9750-68bfabba8879.htm',\n",
       " 'https://www.cardekho.com/used-car-details/used-Mahindra-Xuv500-At-W10-Fwd-cars-Coimbatore_e0c907c0-311b-4e88-b036-933d0bac13b3.htm',\n",
       " 'https://www.cardekho.com/used-car-details/used-Tata-New-Safari-Dicor-2.2-Vx-4x2-cars-Coimbatore_2bca51d8-431e-48a1-870c-f10c0215ea69.htm',\n",
       " 'https://www.cardekho.com/used-car-details/used-Honda-Amaze-S-I-dtech-cars-Coimbatore_bda2597e-1afe-442c-823c-7443b1d17afe.htm',\n",
       " 'https://www.cardekho.com/used-car-details/used-Maruti-Alto-Lxi-cars-Coimbatore_ac4714db-17b5-4b1f-a15b-8f71b812985d.htm',\n",
       " 'https://www.cardekho.com/used-car-details/used-Hyundai-Grand-I10-1.2-Kappa-Asta-cars-Coimbatore_b6281478-7178-497b-b1ef-4b7d25c32d0f.htm',\n",
       " 'https://www.cardekho.com/used-car-details/used-Maruti-Swift-Vdi-cars-Coimbatore_93ee9f81-94ef-41fa-9422-3e392b520440.htm',\n",
       " 'https://www.cardekho.com/used-car-details/used-Maruti-Swift-Vdi-cars-Coimbatore_5daf0584-1d50-45b1-b5fb-4a82392c0d85.htm',\n",
       " 'https://www.cardekho.com/used-car-details/used-Maruti-Ciaz-1.3-Delta-cars-Coimbatore_db08aac6-a9e7-4ecc-a0cf-407c838f617c.htm',\n",
       " 'https://www.cardekho.com/used-car-details/used-Toyota-Innova-2.5-G3-cars-Coimbatore_0edd51a3-6120-4ad5-b1bc-8e4686aac8bc.htm',\n",
       " 'https://www.cardekho.com/used-car-details/used-Maruti-Swift-Vxi-cars-Coimbatore_e2232dd9-6c04-47a5-80e8-8f9b18125e9e.htm',\n",
       " 'https://www.cardekho.com/used-car-details/used-Jeep-Compass-2.0-Limited-4x4-cars-Coimbatore_2c1a1889-c55f-481e-a2e7-d05101652b2d.htm',\n",
       " 'https://www.cardekho.com/used-car-details/used-Maruti-Vitara-Brezza-Zdi-cars-Coimbatore_c12eb13b-d0a9-45c4-bdb3-3268220608c8.htm',\n",
       " 'https://www.cardekho.com/used-car-details/used-Honda-City-I-Dtec-Vx-cars-Coimbatore_4f2a2bd7-4323-491f-871d-8b0649e2ae65.htm',\n",
       " 'https://www.cardekho.com/used-car-details/used-Maruti-Swift-1.3-Lxi-cars-Coimbatore_ff889b08-837d-4a89-87cd-efcfe057bc9a.htm',\n",
       " 'https://www.cardekho.com/used-car-details/used-Maruti-Wagon-R-Lxi-Minor-cars-Coimbatore_364d78b8-596b-4c2e-a9de-28da8925d28f.htm',\n",
       " 'https://www.cardekho.com/used-car-details/used-Maruti-Omni-5-Str-Std-cars-Coimbatore_b0d06aab-e97f-44db-9c48-c8bb603c0cfe.htm',\n",
       " 'https://www.cardekho.com/used-car-details/used-Honda-City-I-Dtec-Sv-cars-Coimbatore_df354000-9051-4e77-9bea-3b551a8671fa.htm',\n",
       " 'https://www.cardekho.com/used-car-details/used-Hyundai-I10-Asta-W/sun-Roof-cars-Coimbatore_ec2f0903-e15c-4e32-b9c3-4d2162585ca6.htm',\n",
       " 'https://www.cardekho.com/used-car-details/used-Maruti-Baleno-Zeta-cars-Coimbatore_9866f151-932f-4aaf-ab1e-54e6d7c96590.htm',\n",
       " 'https://www.cardekho.com/used-car-details/used-Maruti-Alto-Lxi-Bsiii-cars-Coimbatore_911d56bd-de39-4251-a118-04403c5e1529.htm',\n",
       " 'https://www.cardekho.com/used-car-details/used-Honda-Civic-1.8-S-Mt-cars-Coimbatore_368fc5cf-7fcc-46bf-8ba2-7fef520c4e66.htm',\n",
       " 'https://www.cardekho.com/used-car-details/used-Maruti-Wagon-R-Zxi-1.2-cars-Coimbatore_57bd57cf-aab3-4252-a43c-a830a8dfad22.htm',\n",
       " 'https://www.cardekho.com/used-car-details/used-Maruti-Omni-E-Mpi-Std-Bsiv-cars-Coimbatore_70abf940-8979-447e-ae49-a987d7aff0b2.htm',\n",
       " 'https://www.cardekho.com/used-car-details/used-Maruti-Zen-D-cars-Coimbatore_ba800000-ad42-4536-9374-ce93941862ca.htm',\n",
       " 'https://www.cardekho.com/used-car-details/used-Maruti-Swift-Dzire-Tour-1.3-S-Diesel-cars-Coimbatore_c955aadc-61d4-4cde-990f-dc7c08dcda3a.htm',\n",
       " 'https://www.cardekho.com/used-car-details/used-Hyundai-Getz-Gls-cars-Coimbatore_41ad3055-b351-4580-854a-6c419d22f8bf.htm',\n",
       " 'https://www.cardekho.com/used-car-details/used-Audi-A4-2.0-Tdi-cars-Coimbatore_a209a051-0bf4-450c-926d-f8fa39b6b7f0.htm',\n",
       " 'https://www.cardekho.com/used-car-details/used-Mercedes-benz-E-class-E250-Cdi-Elegance-cars-Coimbatore_4acc152a-859e-4dd8-a1c0-46f8bf362d20.htm',\n",
       " 'https://www.cardekho.com/used-car-details/used-Skoda-Octavia-2.0-Tdi-At-L-K-cars-Coimbatore_07dc7816-e305-40fd-92f1-14aeac67d702.htm',\n",
       " 'https://www.cardekho.com/used-car-details/used-Maruti-Wagon-R-Lxi-Minor-Duo-Lpg-cars-Coimbatore_550f3352-bd17-49ed-a096-71f420fc551f.htm',\n",
       " 'https://www.cardekho.com/used-car-details/used-Chevrolet-Optra-1.6-cars-Coimbatore_d4cd1859-b837-41ee-b8c5-7bde548c9619.htm',\n",
       " 'https://www.cardekho.com/used-car-details/used-Tata-Safari-Storme-Lx-cars-Coimbatore_18d93ada-d398-4a7d-a04e-620692fe3901.htm',\n",
       " 'https://www.cardekho.com/used-car-details/used-Toyota-Innova-2.5-G-(diesel)-8-Seater-Bs-Iv-cars-Coimbatore_c7c959b8-bd1a-4049-afd3-b5df164cc944.htm',\n",
       " 'https://www.cardekho.com/used-car-details/used-Tata-Nexon-1.2-Revotron-Xm-cars-Coimbatore_a4f1f9ed-123d-403e-bba8-6046e1376ce3.htm',\n",
       " 'https://www.cardekho.com/used-car-details/used-Chevrolet-Spark-1.0-Ls-cars-Coimbatore_b65f1129-c0af-472f-9a7e-26704695c109.htm',\n",
       " 'https://www.cardekho.com/used-car-details/used-Renault-Triber-Rxz-Dual-Tone-cars-Coimbatore_e65c56c2-fd7b-4771-9a50-7542cb8e96d5.htm',\n",
       " 'https://www.cardekho.com/used-car-details/used-Honda-Amaze-S-I-dtech-cars-Coimbatore_161ecead-3cd4-44d8-b275-701e16fcf7a1.htm',\n",
       " 'https://www.cardekho.com/used-car-details/used-Maruti-Ciaz-Vxi-Plus-cars-Coimbatore_0ca69dc1-3b90-43c5-ae0c-8259fe7ed645.htm',\n",
       " 'https://www.cardekho.com/used-car-details/used-Ford-Figo-Diesel-Lxi-cars-Coimbatore_674e2199-b487-404b-89b2-0c6659f863fe.htm',\n",
       " 'https://www.cardekho.com/used-car-details/used-Hyundai-Accent-Dls-cars-Coimbatore_3f1d305b-4b50-4010-9d9e-fd041f6673c5.htm',\n",
       " 'https://www.cardekho.com/used-car-details/used-Mahindra-Thar-Di-4x4-cars-Coimbatore_4a853c84-8e0b-4871-9b5e-a8338c00f118.htm',\n",
       " 'https://www.cardekho.com/used-car-details/used-Toyota-Innova-2.5-G-(diesel)-8-Seater-cars-Coimbatore_37b28f44-41d2-441f-b4a0-1c268ec6ecaf.htm',\n",
       " 'https://www.cardekho.com/used-car-details/used-Ford-Fiesta-1.4-Zxi-Duratec-cars-Coimbatore_115c808d-ac78-4b69-bda0-a2acaafa1206.htm',\n",
       " 'https://www.cardekho.com/used-car-details/used-Maruti-Sx4-Zxi-Mt-Bsiv-cars-Coimbatore_a490cd83-f0d6-4cfa-9b01-2a9931f89b47.htm',\n",
       " 'https://www.cardekho.com/used-car-details/used-Ford-Fiesta-1.4-Zxi-Tdci-Abs-cars-Coimbatore_a6effd9f-d9e3-429b-af28-736e2c6aeb5f.htm',\n",
       " 'https://www.cardekho.com/used-car-details/used-Tata-Indigo-Ls-Dicor-cars-Coimbatore_3bbbf26d-18ca-4733-833a-21670828c7da.htm',\n",
       " 'https://www.cardekho.com/used-car-details/used-Renault-Kwid-1.0-Rxl-cars-Coimbatore_d39fd27b-314f-451b-b21a-92e90550ff6e.htm',\n",
       " 'https://www.cardekho.com/used-car-details/used-Hyundai-Sonata-Gold-cars-Coimbatore_fae930bd-3078-4ce5-9b79-ec42b2ffe813.htm',\n",
       " 'https://www.cardekho.com/used-car-details/used-Renault-Kwid-1.0-Rxt-Opt-Bsiv-cars-Coimbatore_30c08801-fbcc-4d61-8484-5b848c108e72.htm',\n",
       " 'https://www.cardekho.com/used-car-details/used-Nissan-Sunny-Xl-D-cars-Coimbatore_46dfed5f-3238-407d-babd-2a004df025ae.htm',\n",
       " 'https://www.cardekho.com/used-car-details/used-Chevrolet-Beat-Lt-cars-Coimbatore_786fd4d4-b2fd-466a-bb74-f168d7470e82.htm',\n",
       " 'https://www.cardekho.com/used-car-details/used-Skoda-Superb-Style-2.0-Tdi-At-cars-Coimbatore_5c6abb9d-9d8f-445b-9e4e-0e96a1b67cb7.htm',\n",
       " 'https://www.cardekho.com/used-car-details/used-Volkswagen-Vento-1.6-Highline-cars-Coimbatore_a2b918fe-f19c-4fb5-8524-14589551d964.htm',\n",
       " 'https://www.cardekho.com/used-car-details/used-Toyota-Innova-Crysta-2.4-Zx-Mt-Bsiv-cars-Coimbatore_377fd7ff-88ee-4a82-9b4f-6fd80791c934.htm',\n",
       " 'https://www.cardekho.com/used-car-details/used-Hyundai-Grand-I10-1.2-Kappa-Asta-cars-Coimbatore_a79aa0d7-84fb-4261-83af-18fe42a4c68a.htm',\n",
       " 'https://www.cardekho.com/used-car-details/used-Toyota-Innova-2.5-V-Diesel-8-seater-cars-Coimbatore_ad4bce4c-20a9-454f-a709-466b0ab2674b.htm',\n",
       " 'https://www.cardekho.com/used-car-details/used-Mahindra-Scorpio-Sle-7s-Bsiv-cars-Coimbatore_9b48af94-bc71-4001-98cc-c5cac5469913.htm',\n",
       " 'https://www.cardekho.com/used-car-details/used-Maruti-Alto-Lxi-cars-Coimbatore_185253d1-1069-46c0-8ff7-2e7d41e6e442.htm',\n",
       " 'https://www.cardekho.com/used-car-details/used-Maruti-Baleno-1.2-Delta-cars-Coimbatore_7eb92220-270b-4100-98c4-8ea920e9b4f5.htm',\n",
       " 'https://www.cardekho.com/used-car-details/used-Hyundai-Santro-Xing-Xg-cars-Coimbatore_2ecaccde-2c08-4b3b-ac98-960155aed080.htm',\n",
       " 'https://www.cardekho.com/used-car-details/used-Volkswagen-Polo-Diesel-Comfortline-1.2l-cars-Coimbatore_8584667a-c548-498b-8e73-faac03374a96.htm',\n",
       " 'https://www.cardekho.com/used-car-details/used-Ford-Freestyle-Titanium-Petrol-Bsiv-cars-Coimbatore_ac81dc9a-7ce4-4954-a780-c812401cbc89.htm',\n",
       " 'https://www.cardekho.com/used-car-details/used-Volvo-V40-D3-R-design-cars-Coimbatore_236a5ae9-d44e-4289-9f78-dbb14b4838ef.htm',\n",
       " 'https://www.cardekho.com/used-car-details/used-Mercedes-benz-C-class-200-Cdi-Classic-cars-Coimbatore_2845d43f-873b-43df-8662-2bd593414e65.htm',\n",
       " 'https://www.cardekho.com/used-car-details/used-Renault-Scala-Rxz-At-cars-Coimbatore_65e1d5e1-d9b8-4083-abe0-f43f016777a1.htm',\n",
       " 'https://www.cardekho.com/used-car-details/used-Honda-Amaze-S-I-vtech-cars-Coimbatore_273a97ba-4c11-4fad-8f62-71450619a6eb.htm',\n",
       " 'https://www.cardekho.com/used-car-details/used-Mahindra-E2o-T2-cars-Coimbatore_c4518718-9069-48ca-8dae-a2f2e4a5b233.htm',\n",
       " 'https://www.cardekho.com/used-car-details/used-Maruti-Swift-Vxi-Bsiv-cars-Coimbatore_caf56188-9a75-479a-9391-a3fbcf930807.htm',\n",
       " 'https://www.cardekho.com/used-car-details/used-Hyundai-I20-Asta-1.2-cars-Coimbatore_ee368d64-51ab-47c5-9e98-2899ed4dfade.htm',\n",
       " 'https://www.cardekho.com/used-car-details/used-Toyota-Innova-2.5-V-Diesel-7-seater-cars-Coimbatore_96c48d1b-7bc8-4496-99d0-fdaf8f570bc4.htm',\n",
       " 'https://www.cardekho.com/used-car-details/used-Toyota-Fortuner-4x4-Mt-cars-Coimbatore_55d93bf9-df63-4dd6-a754-6cf2acbacea9.htm',\n",
       " 'https://www.cardekho.com/used-car-details/used-Volvo-S60-D4-Kinetic-cars-Coimbatore_4a200e54-873b-47b2-a92f-9bfb0614ffa9.htm',\n",
       " 'https://www.cardekho.com/used-car-details/used-Ford-Fiesta-1.5-Tdci-Titanium-cars-Coimbatore_df3fd3ba-590a-4169-8d29-9f29a991fd02.htm',\n",
       " 'https://www.cardekho.com/used-car-details/used-Maruti-Zen-Estilo-Lxi-Bs-Iv-cars-Coimbatore_5491a4b8-c861-4988-b5c6-31bd5d328076.htm',\n",
       " 'https://www.cardekho.com/used-car-details/used-Hyundai-Santro-Xing-Xo-cars-Coimbatore_a8d5bdae-b639-4130-92c0-245cfa7ea030.htm',\n",
       " 'https://www.cardekho.com/used-car-details/used-Tata-Indigo-Marina-Ls-cars-Coimbatore_a9b639df-02be-456d-9da2-7d731081e833.htm',\n",
       " 'https://www.cardekho.com/used-car-details/used-Audi-Q3-35-Tdi-Quattro-Premium-Plus-cars-Coimbatore_49503a18-6373-4f60-94dd-27562069b51e.htm',\n",
       " 'https://www.cardekho.com/used-car-details/used-Land-Rover-Discovery-Hse-Luxury-3.0-Td6-cars-Coimbatore_9444e388-39af-4307-b297-af93aa161257.htm',\n",
       " 'https://www.cardekho.com/used-car-details/used-Mercedes-benz-M-class-Ml-250-Cdi-cars-Coimbatore_50d75d9f-6668-4554-915c-d8ff04a28087.htm',\n",
       " 'https://www.cardekho.com/used-car-details/used-Mercedes-benz-Cla-Urban-Sport-200d-cars-Coimbatore_501a3d3e-78cc-46d0-85ee-349952061a92.htm',\n",
       " 'https://www.cardekho.com/used-car-details/used-Skoda-Fabia-1.2-Mpi-Elegance-cars-Coimbatore_4381a5c7-a7d1-485b-bead-a51931712877.htm',\n",
       " 'https://www.cardekho.com/used-car-details/used-Mercedes-benz-C-class-C220-Cdi-Executive-Edition-cars-Coimbatore_8b5cccff-47db-4a81-876f-97e46cf7fae2.htm',\n",
       " 'https://www.cardekho.com/used-car-details/used-Volkswagen-Ameo-1.5-Tdi-Highline-At-16-Alloy-cars-Coimbatore_48c4899f-5bca-4377-9a98-ceadb8fad1e4.htm',\n",
       " 'https://www.cardekho.com/used-car-details/used-Hyundai-Santro-Xing-Base-cars-Coimbatore_9b73ef4a-8156-4cf0-949e-c85cc78ab7cb.htm',\n",
       " 'https://www.cardekho.com/used-car-details/used-Maruti-Swift-Vdi-Bsiv-cars-Coimbatore_53fb2b6a-471d-417d-b7a2-6519755701a8.htm',\n",
       " 'https://www.cardekho.com/used-car-details/used-Toyota-Innova-2.5-Vx-(diesel)-7-Seater-cars-Coimbatore_8dda1cb7-ef0a-4b9d-a6ea-a4bd276fbbcc.htm',\n",
       " 'https://www.cardekho.com/used-car-details/used-Fiat-Grande-Punto-1.3-Emotion-Pack-(diesel)-cars-Coimbatore_5eb62498-053b-4998-80da-69d96fe8e80a.htm',\n",
       " 'https://www.cardekho.com/used-car-details/used-Maruti-Omni-5-Str-Std-Lpg-cars-Coimbatore_db50fa5b-d38e-4421-b767-a611c4e892ea.htm',\n",
       " 'https://www.cardekho.com/used-car-details/used-Volkswagen-Vento-Petrol-Highline-At-cars-Coimbatore_a4a7590a-dc3e-4af9-a00e-85db756872d0.htm',\n",
       " 'https://www.cardekho.com/used-car-details/used-Mahindra-Logan-Diesel-1.5-Dlx-cars-Coimbatore_3f9ce9f1-b7d7-4841-9a05-b760c94d2205.htm',\n",
       " 'https://www.cardekho.com/used-car-details/used-Nissan-Terrano-Xl-85-Ps-cars-Coimbatore_8917de22-6aa9-42ea-9ae5-0aec5edaecbd.htm',\n",
       " 'https://www.cardekho.com/used-car-details/used-Maruti-Alto-800-Tour-H-cars-Coimbatore_22721912-6baf-431b-9655-cd66d0f26ac5.htm',\n",
       " 'https://www.cardekho.com/used-car-details/used-Toyota-Innova-2.5-Gx-(diesel)-7-Seater-Bs-Iv-cars-Coimbatore_5dad99eb-bd8b-47b9-9380-039a072c9eb8.htm']"
      ]
     },
     "execution_count": 11,
     "metadata": {},
     "output_type": "execute_result"
    }
   ],
   "source": [
    "link=[]\n",
    "for i in range(len(driver.find_elements_by_xpath('//div[@class=\"gsc_col-xs-7  carsName\"]/a'))):\n",
    "    link.append(driver.find_elements_by_xpath('//div[@class=\"gsc_col-xs-7  carsName\"]/a')[i].get_attribute('href'))\n",
    "link"
   ]
  },
  {
   "cell_type": "code",
   "execution_count": 28,
   "id": "a76ee8c3",
   "metadata": {},
   "outputs": [
    {
     "name": "stderr",
     "output_type": "stream",
     "text": [
      "C:\\Users\\anish\\AppData\\Local\\Temp/ipykernel_10360/1141239351.py:6: DeprecationWarning: executable_path has been deprecated, please pass in a Service object\n",
      "  driver = wb.Chrome('chromedriver.exe')\n",
      "C:\\Users\\anish\\AppData\\Local\\Temp/ipykernel_10360/1141239351.py:8: DeprecationWarning: find_element_by_class_name is deprecated. Please use find_element(by=By.CLASS_NAME, value=name) instead\n",
      "  Price.append(driver.find_element_by_class_name('gsc_container_hold').text.split('\\n'))\n",
      "C:\\Users\\anish\\AppData\\Local\\Temp/ipykernel_10360/1141239351.py:9: DeprecationWarning: find_element_by_class_name is deprecated. Please use find_element(by=By.CLASS_NAME, value=name) instead\n",
      "  Name.append(driver.find_element_by_class_name('SpecsFeatureList').text.split('\\n'))\n",
      "C:\\Users\\anish\\AppData\\Local\\Temp/ipykernel_10360/1141239351.py:10: DeprecationWarning: find_element_by_class_name is deprecated. Please use find_element(by=By.CLASS_NAME, value=name) instead\n",
      "  Car_details.append(driver.find_element_by_class_name('GenDetailBox').text.split('\\n'))\n"
     ]
    }
   ],
   "source": [
    "Price,Name,Car_details = [],[],[]\n",
    "from selenium.common.exceptions import WebDriverException as WDE\n",
    "from selenium.common.exceptions import NoSuchElementException\n",
    "for i in range(len(link)):\n",
    "    try: \n",
    "        driver = wb.Chrome('chromedriver.exe')\n",
    "        driver.get(link[i])\n",
    "        Price.append(driver.find_element_by_class_name('gsc_container_hold').text.split('\\n'))\n",
    "        Name.append(driver.find_element_by_class_name('SpecsFeatureList').text.split('\\n'))\n",
    "        Car_details.append(driver.find_element_by_class_name('GenDetailBox').text.split('\\n'))\n",
    "        \n",
    "    except NoSuchElementException  as e:\n",
    "        pass\n",
    "    except WDE:\n",
    "        pass\n",
    "    except IndexError  as i:\n",
    "        pass"
   ]
  },
  {
   "cell_type": "code",
   "execution_count": 13,
   "id": "1af973b2",
   "metadata": {},
   "outputs": [],
   "source": [
    "driver.get(link[0])"
   ]
  },
  {
   "cell_type": "code",
   "execution_count": 14,
   "id": "fe3abc30",
   "metadata": {},
   "outputs": [
    {
     "name": "stderr",
     "output_type": "stream",
     "text": [
      "C:\\Users\\anish\\AppData\\Local\\Temp/ipykernel_10360/3679728828.py:1: DeprecationWarning: find_element_by_class_name is deprecated. Please use find_element(by=By.CLASS_NAME, value=name) instead\n",
      "  driver.find_element_by_class_name('vdp-head').text\n"
     ]
    },
    {
     "data": {
      "text/plain": [
       "'2014Audi A6 2.0 Tdi Premium Plus'"
      ]
     },
     "execution_count": 14,
     "metadata": {},
     "output_type": "execute_result"
    }
   ],
   "source": [
    "driver.find_element_by_class_name('vdp-head').text"
   ]
  },
  {
   "cell_type": "code",
   "execution_count": 17,
   "id": "2d00628f",
   "metadata": {},
   "outputs": [
    {
     "name": "stderr",
     "output_type": "stream",
     "text": [
      "C:\\Users\\anish\\AppData\\Local\\Temp/ipykernel_10360/1366550735.py:1: DeprecationWarning: find_element_by_class_name is deprecated. Please use find_element(by=By.CLASS_NAME, value=name) instead\n",
      "  driver.find_element_by_class_name('gsc_container_hold').text.split('\\n')\n"
     ]
    },
    {
     "data": {
      "text/plain": [
       "['2014Audi A6 2.0 Tdi Premium Plus',\n",
       " 'Rs.18.50 Lakh*',\n",
       " 'EMI starts @ Rs. 45,918 per month* Customize New Car (On-Road Price) : Rs.  42.38-63.13 Lakh*',\n",
       " 'View Seller Details']"
      ]
     },
     "execution_count": 17,
     "metadata": {},
     "output_type": "execute_result"
    }
   ],
   "source": [
    "driver.find_element_by_class_name('gsc_container_hold').text.split('\\n')"
   ]
  },
  {
   "cell_type": "code",
   "execution_count": 18,
   "id": "b03fe041",
   "metadata": {},
   "outputs": [
    {
     "name": "stderr",
     "output_type": "stream",
     "text": [
      "C:\\Users\\anish\\AppData\\Local\\Temp/ipykernel_10360/2233450285.py:1: DeprecationWarning: find_element_by_class_name is deprecated. Please use find_element(by=By.CLASS_NAME, value=name) instead\n",
      "  driver.find_element_by_class_name('SpecsFeatureList').text.split('\\n')\n"
     ]
    },
    {
     "data": {
      "text/plain": [
       "['Mileage',\n",
       " '17.68 kmpl',\n",
       " 'Engine',\n",
       " '1968 CC',\n",
       " 'Max Power',\n",
       " '174.33bhp',\n",
       " 'Torque',\n",
       " '380Nm',\n",
       " 'Wheel Size',\n",
       " '17',\n",
       " 'Seats',\n",
       " '5',\n",
       " 'Color',\n",
       " 'Blue',\n",
       " 'Gear Box',\n",
       " '8 Speed']"
      ]
     },
     "execution_count": 18,
     "metadata": {},
     "output_type": "execute_result"
    }
   ],
   "source": [
    "driver.find_element_by_class_name('SpecsFeatureList').text.split('\\n')"
   ]
  },
  {
   "cell_type": "code",
   "execution_count": 23,
   "id": "651c9212",
   "metadata": {},
   "outputs": [
    {
     "name": "stderr",
     "output_type": "stream",
     "text": [
      "C:\\Users\\anish\\AppData\\Local\\Temp/ipykernel_10360/2709783852.py:1: DeprecationWarning: find_element_by_class_name is deprecated. Please use find_element(by=By.CLASS_NAME, value=name) instead\n",
      "  driver.find_element_by_class_name('GenDetailBox').text.split('\\n')\n"
     ]
    },
    {
     "data": {
      "text/plain": [
       "['General details',\n",
       " '2015',\n",
       " 'Dealer',\n",
       " '95,000 Kms',\n",
       " 'Second Owner',\n",
       " 'Diesel',\n",
       " 'Automatic',\n",
       " 'Active',\n",
       " 'TN39']"
      ]
     },
     "execution_count": 23,
     "metadata": {},
     "output_type": "execute_result"
    }
   ],
   "source": [
    "driver.find_element_by_class_name('GenDetailBox').text.split('\\n')"
   ]
  },
  {
   "cell_type": "code",
   "execution_count": null,
   "id": "d8499d20",
   "metadata": {},
   "outputs": [],
   "source": [
    "Price,Name,Car_details"
   ]
  },
  {
   "cell_type": "code",
   "execution_count": 27,
   "id": "a9c2f438",
   "metadata": {},
   "outputs": [
    {
     "data": {
      "text/plain": [
       "[['General details',\n",
       "  '2015',\n",
       "  'Dealer',\n",
       "  '95,000 Kms',\n",
       "  'Second Owner',\n",
       "  'Diesel',\n",
       "  'Automatic',\n",
       "  'Active',\n",
       "  'TN39']]"
      ]
     },
     "execution_count": 27,
     "metadata": {},
     "output_type": "execute_result"
    }
   ],
   "source": [
    "Car_details"
   ]
  },
  {
   "cell_type": "code",
   "execution_count": 29,
   "id": "d3e2b39d",
   "metadata": {},
   "outputs": [],
   "source": [
    "import pandas as pd"
   ]
  },
  {
   "cell_type": "code",
   "execution_count": 33,
   "id": "dda0571b",
   "metadata": {},
   "outputs": [],
   "source": [
    "cardekho = pd.DataFrame(zip(Price,Name,Car_details))"
   ]
  },
  {
   "cell_type": "code",
   "execution_count": 31,
   "id": "47bb36ba",
   "metadata": {},
   "outputs": [
    {
     "data": {
      "text/html": [
       "<div>\n",
       "<style scoped>\n",
       "    .dataframe tbody tr th:only-of-type {\n",
       "        vertical-align: middle;\n",
       "    }\n",
       "\n",
       "    .dataframe tbody tr th {\n",
       "        vertical-align: top;\n",
       "    }\n",
       "\n",
       "    .dataframe thead th {\n",
       "        text-align: right;\n",
       "    }\n",
       "</style>\n",
       "<table border=\"1\" class=\"dataframe\">\n",
       "  <thead>\n",
       "    <tr style=\"text-align: right;\">\n",
       "      <th></th>\n",
       "      <th>0</th>\n",
       "      <th>1</th>\n",
       "      <th>2</th>\n",
       "    </tr>\n",
       "  </thead>\n",
       "  <tbody>\n",
       "    <tr>\n",
       "      <th>0</th>\n",
       "      <td>[2014Audi A6 2.0 Tdi Premium Plus, Rs.18.50 La...</td>\n",
       "      <td>[Mileage, 17.68 kmpl, Engine, 1968 CC, Max Pow...</td>\n",
       "      <td>[General details, 2015, Dealer, 95,000 Kms, Se...</td>\n",
       "    </tr>\n",
       "    <tr>\n",
       "      <th>1</th>\n",
       "      <td>[2018Maruti Celerio Zxi Mt Bsiv, Rs.5.40 Lakh*...</td>\n",
       "      <td>[Mileage, 23.1 kmpl, Engine, 998 CC, Max Power...</td>\n",
       "      <td>[General details, 2018, Dealer, 25,020 Kms, Fi...</td>\n",
       "    </tr>\n",
       "    <tr>\n",
       "      <th>2</th>\n",
       "      <td>[2013Volkswagen Vento Diesel Highline, Rs.5.50...</td>\n",
       "      <td>[Mileage, 20.54 kmpl, Engine, 1598 CC, Max Pow...</td>\n",
       "      <td>[General details, 2013, Dealer, 1,61,800 Kms, ...</td>\n",
       "    </tr>\n",
       "    <tr>\n",
       "      <th>3</th>\n",
       "      <td>[2016Maruti Baleno 1.2 Zeta, Rs.6.50 Lakh*, EM...</td>\n",
       "      <td>[Mileage, 21.4 kmpl, Engine, 1197 CC, Max Powe...</td>\n",
       "      <td>[General details, 2016, Dealer, 62,950 Kms, Fi...</td>\n",
       "    </tr>\n",
       "    <tr>\n",
       "      <th>4</th>\n",
       "      <td>[2021Jeep Compass Model S 4x4 Diesel At, Rs.31...</td>\n",
       "      <td>[Mileage, 14.9 kmpl, Engine, 1956 CC, Max Powe...</td>\n",
       "      <td>[General details, 2021, Dealer, 39,850 Kms, Fi...</td>\n",
       "    </tr>\n",
       "  </tbody>\n",
       "</table>\n",
       "</div>"
      ],
      "text/plain": [
       "                                                   0  \\\n",
       "0  [2014Audi A6 2.0 Tdi Premium Plus, Rs.18.50 La...   \n",
       "1  [2018Maruti Celerio Zxi Mt Bsiv, Rs.5.40 Lakh*...   \n",
       "2  [2013Volkswagen Vento Diesel Highline, Rs.5.50...   \n",
       "3  [2016Maruti Baleno 1.2 Zeta, Rs.6.50 Lakh*, EM...   \n",
       "4  [2021Jeep Compass Model S 4x4 Diesel At, Rs.31...   \n",
       "\n",
       "                                                   1  \\\n",
       "0  [Mileage, 17.68 kmpl, Engine, 1968 CC, Max Pow...   \n",
       "1  [Mileage, 23.1 kmpl, Engine, 998 CC, Max Power...   \n",
       "2  [Mileage, 20.54 kmpl, Engine, 1598 CC, Max Pow...   \n",
       "3  [Mileage, 21.4 kmpl, Engine, 1197 CC, Max Powe...   \n",
       "4  [Mileage, 14.9 kmpl, Engine, 1956 CC, Max Powe...   \n",
       "\n",
       "                                                   2  \n",
       "0  [General details, 2015, Dealer, 95,000 Kms, Se...  \n",
       "1  [General details, 2018, Dealer, 25,020 Kms, Fi...  \n",
       "2  [General details, 2013, Dealer, 1,61,800 Kms, ...  \n",
       "3  [General details, 2016, Dealer, 62,950 Kms, Fi...  \n",
       "4  [General details, 2021, Dealer, 39,850 Kms, Fi...  "
      ]
     },
     "execution_count": 31,
     "metadata": {},
     "output_type": "execute_result"
    }
   ],
   "source": [
    "cardekho.head()"
   ]
  },
  {
   "cell_type": "code",
   "execution_count": 32,
   "id": "8d6c2fb8",
   "metadata": {},
   "outputs": [],
   "source": [
    "cardekho.to_excel('cardekho.xlsx')"
   ]
  },
  {
   "cell_type": "code",
   "execution_count": 34,
   "id": "91c2f402",
   "metadata": {},
   "outputs": [
    {
     "data": {
      "text/plain": [
       "(283, 3)"
      ]
     },
     "execution_count": 34,
     "metadata": {},
     "output_type": "execute_result"
    }
   ],
   "source": [
    "cardekho.shape"
   ]
  },
  {
   "cell_type": "code",
   "execution_count": 38,
   "id": "e64f5758",
   "metadata": {},
   "outputs": [],
   "source": [
    "a=4486+238+216"
   ]
  },
  {
   "cell_type": "code",
   "execution_count": 39,
   "id": "9ad8d57c",
   "metadata": {},
   "outputs": [
    {
     "data": {
      "text/plain": [
       "4940"
      ]
     },
     "execution_count": 39,
     "metadata": {},
     "output_type": "execute_result"
    }
   ],
   "source": [
    "a"
   ]
  },
  {
   "cell_type": "code",
   "execution_count": null,
   "id": "105c2297",
   "metadata": {},
   "outputs": [],
   "source": []
  }
 ],
 "metadata": {
  "kernelspec": {
   "display_name": "Python 3 (ipykernel)",
   "language": "python",
   "name": "python3"
  },
  "language_info": {
   "codemirror_mode": {
    "name": "ipython",
    "version": 3
   },
   "file_extension": ".py",
   "mimetype": "text/x-python",
   "name": "python",
   "nbconvert_exporter": "python",
   "pygments_lexer": "ipython3",
   "version": "3.9.7"
  }
 },
 "nbformat": 4,
 "nbformat_minor": 5
}
