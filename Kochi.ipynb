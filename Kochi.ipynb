{
 "cells": [
  {
   "cell_type": "code",
   "execution_count": 1,
   "id": "3d5ffe85",
   "metadata": {},
   "outputs": [
    {
     "name": "stderr",
     "output_type": "stream",
     "text": [
      "C:\\Users\\anish\\AppData\\Local\\Temp/ipykernel_10248/1930487520.py:5: DeprecationWarning: executable_path has been deprecated, please pass in a Service object\n",
      "  driver = wb.Chrome('chromedriver.exe')\n"
     ]
    }
   ],
   "source": [
    "from selenium import webdriver as wb\n",
    "import time\n",
    "from selenium.webdriver.support.select import Select\n",
    "#get the url and extract into html\n",
    "driver = wb.Chrome('chromedriver.exe')\n",
    "driver.get('https://droom.in/cars/used?category=Car&condition=used&include_premium=1&location=Kochi&make_model=%5B%5D&min_listing_age=1&most_recent=1&need_filters=1&page=1&rows_per_page=24&selling_format=fixed_price&show_make_model=1&status=active')\n",
    "time.sleep(3)\n",
    "driver.maximize_window()\n",
    "time.sleep(3)"
   ]
  },
  {
   "cell_type": "code",
   "execution_count": 2,
   "id": "4b542627",
   "metadata": {
    "scrolled": false
   },
   "outputs": [
    {
     "name": "stderr",
     "output_type": "stream",
     "text": [
      "C:\\Users\\anish\\AppData\\Local\\Temp/ipykernel_10248/3489300843.py:6: DeprecationWarning: find_element_by_xpath is deprecated. Please use find_element(by=By.XPATH, value=xpath) instead\n",
      "  driver.find_element_by_xpath('//button[@class=\"MuiButtonBase-root MuiButton-root MuiButton-outlined jss54 MuiButton-outlinedPrimary MuiButton-outlinedSizeLarge MuiButton-sizeLarge\"]').click()\n",
      "C:\\Users\\anish\\AppData\\Local\\Temp/ipykernel_10248/3489300843.py:8: DeprecationWarning: find_elements_by_xpath is deprecated. Please use find_elements(by=By.XPATH, value=xpath) instead\n",
      "  for i in range(len(driver.find_elements_by_xpath('//div[@class=\"jss192 card-body\"]'))):\n",
      "C:\\Users\\anish\\AppData\\Local\\Temp/ipykernel_10248/3489300843.py:9: DeprecationWarning: find_elements_by_xpath is deprecated. Please use find_elements(by=By.XPATH, value=xpath) instead\n",
      "  link.append(driver.find_elements_by_xpath('//div[@class=\"jss192 card-body\"]')[i].text.split('\\n'))\n"
     ]
    }
   ],
   "source": [
    "link=[]\n",
    "from selenium.common.exceptions import NoSuchElementException\n",
    "\n",
    "try:\n",
    "    while True:\n",
    "        driver.find_element_by_xpath('//button[@class=\"MuiButtonBase-root MuiButton-root MuiButton-outlined jss54 MuiButton-outlinedPrimary MuiButton-outlinedSizeLarge MuiButton-sizeLarge\"]').click()\n",
    "        time.sleep(1)\n",
    "        for i in range(len(driver.find_elements_by_xpath('//div[@class=\"jss192 card-body\"]'))):\n",
    "            link.append(driver.find_elements_by_xpath('//div[@class=\"jss192 card-body\"]')[i].text.split('\\n'))\n",
    "\n",
    "\n",
    "except NoSuchElementException  as e:\n",
    "    pass\n"
   ]
  },
  {
   "cell_type": "code",
   "execution_count": 3,
   "id": "8bf1bfcf",
   "metadata": {},
   "outputs": [],
   "source": [
    "import pandas as pd"
   ]
  },
  {
   "cell_type": "code",
   "execution_count": 4,
   "id": "dda0571b",
   "metadata": {},
   "outputs": [],
   "source": [
    "link = pd.DataFrame(zip(link))"
   ]
  },
  {
   "cell_type": "code",
   "execution_count": 5,
   "id": "8d6c2fb8",
   "metadata": {},
   "outputs": [],
   "source": [
    "link.to_excel('Kochi.xlsx')"
   ]
  },
  {
   "cell_type": "code",
   "execution_count": 6,
   "id": "8cd8e77c",
   "metadata": {},
   "outputs": [],
   "source": [
    "df = pd.read_excel('Kochi.xlsx')"
   ]
  },
  {
   "cell_type": "code",
   "execution_count": 7,
   "id": "7b860bd3",
   "metadata": {},
   "outputs": [
    {
     "data": {
      "text/html": [
       "<div>\n",
       "<style scoped>\n",
       "    .dataframe tbody tr th:only-of-type {\n",
       "        vertical-align: middle;\n",
       "    }\n",
       "\n",
       "    .dataframe tbody tr th {\n",
       "        vertical-align: top;\n",
       "    }\n",
       "\n",
       "    .dataframe thead th {\n",
       "        text-align: right;\n",
       "    }\n",
       "</style>\n",
       "<table border=\"1\" class=\"dataframe\">\n",
       "  <thead>\n",
       "    <tr style=\"text-align: right;\">\n",
       "      <th></th>\n",
       "      <th>Unnamed: 0</th>\n",
       "      <th>0</th>\n",
       "    </tr>\n",
       "  </thead>\n",
       "  <tbody>\n",
       "    <tr>\n",
       "      <th>0</th>\n",
       "      <td>0</td>\n",
       "      <td>['Hyundai Santro Xing GLS 2009', 'Used', '₹ 1,...</td>\n",
       "    </tr>\n",
       "    <tr>\n",
       "      <th>1</th>\n",
       "      <td>1</td>\n",
       "      <td>['Maruti Suzuki Swift VDi 2016', 'Used', '₹ 5,...</td>\n",
       "    </tr>\n",
       "    <tr>\n",
       "      <th>2</th>\n",
       "      <td>2</td>\n",
       "      <td>['Tata Altroz XZ (O) Petrol 2020', 'Used', '₹ ...</td>\n",
       "    </tr>\n",
       "    <tr>\n",
       "      <th>3</th>\n",
       "      <td>3</td>\n",
       "      <td>['Nissan Micra Active XV 2014', 'Used', '₹ 3,7...</td>\n",
       "    </tr>\n",
       "    <tr>\n",
       "      <th>4</th>\n",
       "      <td>4</td>\n",
       "      <td>['Hyundai Verna FLUIDIC 1.6 CRDI SX 2016', 'Us...</td>\n",
       "    </tr>\n",
       "  </tbody>\n",
       "</table>\n",
       "</div>"
      ],
      "text/plain": [
       "   Unnamed: 0                                                  0\n",
       "0           0  ['Hyundai Santro Xing GLS 2009', 'Used', '₹ 1,...\n",
       "1           1  ['Maruti Suzuki Swift VDi 2016', 'Used', '₹ 5,...\n",
       "2           2  ['Tata Altroz XZ (O) Petrol 2020', 'Used', '₹ ...\n",
       "3           3  ['Nissan Micra Active XV 2014', 'Used', '₹ 3,7...\n",
       "4           4  ['Hyundai Verna FLUIDIC 1.6 CRDI SX 2016', 'Us..."
      ]
     },
     "execution_count": 7,
     "metadata": {},
     "output_type": "execute_result"
    }
   ],
   "source": [
    "df.head()"
   ]
  },
  {
   "cell_type": "code",
   "execution_count": 8,
   "id": "fede0801",
   "metadata": {},
   "outputs": [],
   "source": [
    "Registration_Year = df[0].str.split(\"'\").str[1].str.rsplit(' ', 1).str[1]"
   ]
  },
  {
   "cell_type": "code",
   "execution_count": 9,
   "id": "82cb9cac",
   "metadata": {},
   "outputs": [],
   "source": [
    "Make = df[0].str.split(\"'\").str[1].str.rsplit(' ', 0).str[0]"
   ]
  },
  {
   "cell_type": "code",
   "execution_count": 10,
   "id": "58b64f69",
   "metadata": {},
   "outputs": [],
   "source": [
    "Model = df[0].str.split(\"'\").str[1].str.rsplit(' ', 1).str[0]"
   ]
  },
  {
   "cell_type": "code",
   "execution_count": 11,
   "id": "de0d55c7",
   "metadata": {},
   "outputs": [],
   "source": [
    "Selling_Price = df[0].str.split(\"'\").str[5].str.replace('₹','').str.replace(',','')"
   ]
  },
  {
   "cell_type": "code",
   "execution_count": 12,
   "id": "48e0376a",
   "metadata": {},
   "outputs": [],
   "source": [
    "Mileage = df[0].str.split(\"'\").str[7].str.replace('Km','').str.replace(',','')"
   ]
  },
  {
   "cell_type": "code",
   "execution_count": 13,
   "id": "bd8d0a4f",
   "metadata": {},
   "outputs": [],
   "source": [
    "Location = df[0].str.split(\"'\").str[9]"
   ]
  },
  {
   "cell_type": "code",
   "execution_count": 14,
   "id": "24bea992",
   "metadata": {},
   "outputs": [],
   "source": [
    "Fuel_Type = df[0].str.split(\"'\").str[11]"
   ]
  },
  {
   "cell_type": "code",
   "execution_count": 15,
   "id": "88d4ac3c",
   "metadata": {},
   "outputs": [],
   "source": [
    "Transmission = df[0].str.split(\"'\").str[13]"
   ]
  },
  {
   "cell_type": "code",
   "execution_count": 16,
   "id": "357ab8aa",
   "metadata": {},
   "outputs": [],
   "source": [
    "No_of_Owners = df[0].str.split(\"'\").str[15].str.split(' ').str[0]"
   ]
  },
  {
   "cell_type": "code",
   "execution_count": 17,
   "id": "77fd5565",
   "metadata": {},
   "outputs": [],
   "source": [
    "df = pd.concat([Make,Model,Registration_Year,Mileage,Fuel_Type,No_of_Owners,Transmission,Location,Selling_Price],axis=1)"
   ]
  },
  {
   "cell_type": "code",
   "execution_count": 18,
   "id": "21889131",
   "metadata": {},
   "outputs": [],
   "source": [
    "df.columns = ['Make','Model','Registration_Year','Mileage','Fuel_Type','No_of_Owners','Transmission','Location','Selling_Price']"
   ]
  },
  {
   "cell_type": "code",
   "execution_count": 19,
   "id": "0f2cf9d4",
   "metadata": {},
   "outputs": [],
   "source": [
    "df_Kochi = df"
   ]
  },
  {
   "cell_type": "code",
   "execution_count": 20,
   "id": "99883cf0",
   "metadata": {},
   "outputs": [],
   "source": [
    "df_Kochi.to_excel('df_Kochi.xlsx')"
   ]
  },
  {
   "cell_type": "code",
   "execution_count": null,
   "id": "927ad794",
   "metadata": {},
   "outputs": [],
   "source": []
  }
 ],
 "metadata": {
  "kernelspec": {
   "display_name": "Python 3 (ipykernel)",
   "language": "python",
   "name": "python3"
  },
  "language_info": {
   "codemirror_mode": {
    "name": "ipython",
    "version": 3
   },
   "file_extension": ".py",
   "mimetype": "text/x-python",
   "name": "python",
   "nbconvert_exporter": "python",
   "pygments_lexer": "ipython3",
   "version": "3.9.7"
  }
 },
 "nbformat": 4,
 "nbformat_minor": 5
}
